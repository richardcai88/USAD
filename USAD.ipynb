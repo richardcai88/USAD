{
 "cells": [
  {
   "cell_type": "markdown",
   "metadata": {
    "id": "etniX_KTlJ5U"
   },
   "source": [
    "# USAD"
   ]
  },
  {
   "cell_type": "markdown",
   "metadata": {
    "id": "N3jM0qLU8MgZ"
   },
   "source": [
    "## Environment"
   ]
  },
  {
   "cell_type": "code",
   "execution_count": 1,
   "metadata": {
    "id": "6u1DGKsAlLF-",
    "scrolled": true
   },
   "outputs": [
    {
     "name": "stderr",
     "output_type": "stream",
     "text": [
      "/opt/conda/lib/python3.8/site-packages/tqdm/auto.py:22: TqdmWarning: IProgress not found. Please update jupyter and ipywidgets. See https://ipywidgets.readthedocs.io/en/stable/user_install.html\n",
      "  from .autonotebook import tqdm as notebook_tqdm\n"
     ]
    }
   ],
   "source": [
    "import numpy as np\n",
    "import pandas as pd\n",
    "import matplotlib.pyplot as plt\n",
    "import seaborn as sns\n",
    "import torch\n",
    "import torch.nn as nn\n",
    "\n",
    "torch.cuda.empty_cache()\n",
    "\n",
    "\n",
    "import math\n",
    "import time\n",
    "from datetime import datetime\n",
    "import pytz\n",
    "import os\n",
    "import json\n",
    "\n",
    "\n",
    "from utils import *\n",
    "from usad import *\n",
    "\n",
    "from sklearn.decomposition import PCA\n",
    "\n",
    "import wandb #For logging results in weights and bias\n",
    "# wandb.login() \n",
    "# os.environ[\"WANDB_MODE\"] = \"offline\"\n",
    "\n",
    "# wandb.init(project=\"capstone-usad\")\n",
    "\n"
   ]
  },
  {
   "cell_type": "code",
   "execution_count": 2,
   "metadata": {
    "colab": {
     "base_uri": "https://localhost:8080/",
     "height": 34
    },
    "id": "4AzWlDBI_djV",
    "outputId": "7a8d0c19-2389-461b-c0be-3427a25dda91",
    "scrolled": true
   },
   "outputs": [],
   "source": [
    "# !nvidia-smi -L\n",
    "\n",
    "device = get_default_device()"
   ]
  },
  {
   "cell_type": "markdown",
   "metadata": {},
   "source": [
    "### Select dataset"
   ]
  },
  {
   "cell_type": "code",
   "execution_count": 3,
   "metadata": {
    "scrolled": true
   },
   "outputs": [],
   "source": [
    "# Dataset to be used\n",
    "dataset='Swat'\n",
    "\n",
    "if dataset=='Swat': #Full swat dataset\n",
    "    traindata='/dataset/swat/SWaT_Dataset_Normal_v1.csv'\n",
    "    testdata='/dataset/swat/SWaT_Dataset_Attack_v0.csv'\n",
    "    time_col= \" Timestamp\"\n",
    "    label_col=\"Normal/Attack\"\n",
    "\n",
    "elif dataset=='Swat(us)': # Swat dataset undersampled by 10 times\n",
    "    traindata='/dataset/swat(mini)/train.csv'\n",
    "    testdata='/dataset/swat(mini)/test.csv'\n",
    "    time_col= \"Unnamed: 0\"\n",
    "    label_col=\"attack\"\n",
    "    \n"
   ]
  },
  {
   "cell_type": "markdown",
   "metadata": {
    "id": "1crx5rGP9ONf",
    "jp-MarkdownHeadingCollapsed": true,
    "tags": []
   },
   "source": [
    "## EDA - Data Pre-Processing"
   ]
  },
  {
   "cell_type": "markdown",
   "metadata": {
    "id": "kfSj4FYL9W8Y",
    "jp-MarkdownHeadingCollapsed": true,
    "tags": []
   },
   "source": [
    "### Normal period"
   ]
  },
  {
   "cell_type": "code",
   "execution_count": 4,
   "metadata": {
    "colab": {
     "base_uri": "https://localhost:8080/",
     "height": 87
    },
    "id": "XeDLxV_r1G9n",
    "outputId": "576538dd-64f2-46fa-8e6f-6c2ffdebad15",
    "scrolled": true
   },
   "outputs": [
    {
     "data": {
      "text/plain": [
       "(495000, 53)"
      ]
     },
     "execution_count": 4,
     "metadata": {},
     "output_type": "execute_result"
    }
   ],
   "source": [
    "\n",
    "normal = pd.read_csv(traindata)#, nrows=1000)\n",
    "\n",
    "normal.shape"
   ]
  },
  {
   "cell_type": "code",
   "execution_count": 5,
   "metadata": {
    "scrolled": true
   },
   "outputs": [
    {
     "data": {
      "text/html": [
       "<div>\n",
       "<style scoped>\n",
       "    .dataframe tbody tr th:only-of-type {\n",
       "        vertical-align: middle;\n",
       "    }\n",
       "\n",
       "    .dataframe tbody tr th {\n",
       "        vertical-align: top;\n",
       "    }\n",
       "\n",
       "    .dataframe thead th {\n",
       "        text-align: right;\n",
       "    }\n",
       "</style>\n",
       "<table border=\"1\" class=\"dataframe\">\n",
       "  <thead>\n",
       "    <tr style=\"text-align: right;\">\n",
       "      <th></th>\n",
       "      <th>Timestamp</th>\n",
       "      <th>FIT101</th>\n",
       "      <th>LIT101</th>\n",
       "      <th>MV101</th>\n",
       "      <th>P101</th>\n",
       "      <th>P102</th>\n",
       "      <th>AIT201</th>\n",
       "      <th>AIT202</th>\n",
       "      <th>AIT203</th>\n",
       "      <th>FIT201</th>\n",
       "      <th>...</th>\n",
       "      <th>P501</th>\n",
       "      <th>P502</th>\n",
       "      <th>PIT501</th>\n",
       "      <th>PIT502</th>\n",
       "      <th>PIT503</th>\n",
       "      <th>FIT601</th>\n",
       "      <th>P601</th>\n",
       "      <th>P602</th>\n",
       "      <th>P603</th>\n",
       "      <th>Normal/Attack</th>\n",
       "    </tr>\n",
       "  </thead>\n",
       "  <tbody>\n",
       "    <tr>\n",
       "      <th>0</th>\n",
       "      <td>22/12/2015 4:30:00 PM</td>\n",
       "      <td>0.0</td>\n",
       "      <td>124.3135</td>\n",
       "      <td>1</td>\n",
       "      <td>1</td>\n",
       "      <td>1</td>\n",
       "      <td>251.9226</td>\n",
       "      <td>8.313446</td>\n",
       "      <td>312.7916</td>\n",
       "      <td>0.0</td>\n",
       "      <td>...</td>\n",
       "      <td>1</td>\n",
       "      <td>1</td>\n",
       "      <td>9.100231</td>\n",
       "      <td>0.0</td>\n",
       "      <td>3.3485</td>\n",
       "      <td>0.000256</td>\n",
       "      <td>1</td>\n",
       "      <td>1</td>\n",
       "      <td>1</td>\n",
       "      <td>Normal</td>\n",
       "    </tr>\n",
       "    <tr>\n",
       "      <th>1</th>\n",
       "      <td>22/12/2015 4:30:01 PM</td>\n",
       "      <td>0.0</td>\n",
       "      <td>124.3920</td>\n",
       "      <td>1</td>\n",
       "      <td>1</td>\n",
       "      <td>1</td>\n",
       "      <td>251.9226</td>\n",
       "      <td>8.313446</td>\n",
       "      <td>312.7916</td>\n",
       "      <td>0.0</td>\n",
       "      <td>...</td>\n",
       "      <td>1</td>\n",
       "      <td>1</td>\n",
       "      <td>9.100231</td>\n",
       "      <td>0.0</td>\n",
       "      <td>3.3485</td>\n",
       "      <td>0.000256</td>\n",
       "      <td>1</td>\n",
       "      <td>1</td>\n",
       "      <td>1</td>\n",
       "      <td>Normal</td>\n",
       "    </tr>\n",
       "    <tr>\n",
       "      <th>2</th>\n",
       "      <td>22/12/2015 4:30:02 PM</td>\n",
       "      <td>0.0</td>\n",
       "      <td>124.4705</td>\n",
       "      <td>1</td>\n",
       "      <td>1</td>\n",
       "      <td>1</td>\n",
       "      <td>251.9226</td>\n",
       "      <td>8.313446</td>\n",
       "      <td>312.7916</td>\n",
       "      <td>0.0</td>\n",
       "      <td>...</td>\n",
       "      <td>1</td>\n",
       "      <td>1</td>\n",
       "      <td>9.100231</td>\n",
       "      <td>0.0</td>\n",
       "      <td>3.3485</td>\n",
       "      <td>0.000256</td>\n",
       "      <td>1</td>\n",
       "      <td>1</td>\n",
       "      <td>1</td>\n",
       "      <td>Normal</td>\n",
       "    </tr>\n",
       "    <tr>\n",
       "      <th>3</th>\n",
       "      <td>22/12/2015 4:30:03 PM</td>\n",
       "      <td>0.0</td>\n",
       "      <td>124.6668</td>\n",
       "      <td>1</td>\n",
       "      <td>1</td>\n",
       "      <td>1</td>\n",
       "      <td>251.9226</td>\n",
       "      <td>8.313446</td>\n",
       "      <td>312.7916</td>\n",
       "      <td>0.0</td>\n",
       "      <td>...</td>\n",
       "      <td>1</td>\n",
       "      <td>1</td>\n",
       "      <td>9.100231</td>\n",
       "      <td>0.0</td>\n",
       "      <td>3.3485</td>\n",
       "      <td>0.000256</td>\n",
       "      <td>1</td>\n",
       "      <td>1</td>\n",
       "      <td>1</td>\n",
       "      <td>Normal</td>\n",
       "    </tr>\n",
       "    <tr>\n",
       "      <th>4</th>\n",
       "      <td>22/12/2015 4:30:04 PM</td>\n",
       "      <td>0.0</td>\n",
       "      <td>124.5098</td>\n",
       "      <td>1</td>\n",
       "      <td>1</td>\n",
       "      <td>1</td>\n",
       "      <td>251.9226</td>\n",
       "      <td>8.313446</td>\n",
       "      <td>312.7916</td>\n",
       "      <td>0.0</td>\n",
       "      <td>...</td>\n",
       "      <td>1</td>\n",
       "      <td>1</td>\n",
       "      <td>9.100231</td>\n",
       "      <td>0.0</td>\n",
       "      <td>3.3485</td>\n",
       "      <td>0.000256</td>\n",
       "      <td>1</td>\n",
       "      <td>1</td>\n",
       "      <td>1</td>\n",
       "      <td>Normal</td>\n",
       "    </tr>\n",
       "  </tbody>\n",
       "</table>\n",
       "<p>5 rows × 53 columns</p>\n",
       "</div>"
      ],
      "text/plain": [
       "                Timestamp  FIT101    LIT101  MV101  P101  P102    AIT201  \\\n",
       "0   22/12/2015 4:30:00 PM     0.0  124.3135      1     1     1  251.9226   \n",
       "1   22/12/2015 4:30:01 PM     0.0  124.3920      1     1     1  251.9226   \n",
       "2   22/12/2015 4:30:02 PM     0.0  124.4705      1     1     1  251.9226   \n",
       "3   22/12/2015 4:30:03 PM     0.0  124.6668      1     1     1  251.9226   \n",
       "4   22/12/2015 4:30:04 PM     0.0  124.5098      1     1     1  251.9226   \n",
       "\n",
       "     AIT202    AIT203  FIT201  ...  P501  P502    PIT501  PIT502  PIT503  \\\n",
       "0  8.313446  312.7916     0.0  ...     1     1  9.100231     0.0  3.3485   \n",
       "1  8.313446  312.7916     0.0  ...     1     1  9.100231     0.0  3.3485   \n",
       "2  8.313446  312.7916     0.0  ...     1     1  9.100231     0.0  3.3485   \n",
       "3  8.313446  312.7916     0.0  ...     1     1  9.100231     0.0  3.3485   \n",
       "4  8.313446  312.7916     0.0  ...     1     1  9.100231     0.0  3.3485   \n",
       "\n",
       "     FIT601  P601  P602  P603  Normal/Attack  \n",
       "0  0.000256     1     1     1         Normal  \n",
       "1  0.000256     1     1     1         Normal  \n",
       "2  0.000256     1     1     1         Normal  \n",
       "3  0.000256     1     1     1         Normal  \n",
       "4  0.000256     1     1     1         Normal  \n",
       "\n",
       "[5 rows x 53 columns]"
      ]
     },
     "execution_count": 5,
     "metadata": {},
     "output_type": "execute_result"
    }
   ],
   "source": [
    "normal.head()"
   ]
  },
  {
   "cell_type": "code",
   "execution_count": 6,
   "metadata": {},
   "outputs": [
    {
     "data": {
      "text/plain": [
       "Normal    495000\n",
       "Name: Normal/Attack, dtype: int64"
      ]
     },
     "execution_count": 6,
     "metadata": {},
     "output_type": "execute_result"
    }
   ],
   "source": [
    "normal[label_col].value_counts()"
   ]
  },
  {
   "cell_type": "code",
   "execution_count": 7,
   "metadata": {
    "scrolled": true
   },
   "outputs": [
    {
     "data": {
      "text/html": [
       "<div>\n",
       "<style scoped>\n",
       "    .dataframe tbody tr th:only-of-type {\n",
       "        vertical-align: middle;\n",
       "    }\n",
       "\n",
       "    .dataframe tbody tr th {\n",
       "        vertical-align: top;\n",
       "    }\n",
       "\n",
       "    .dataframe thead th {\n",
       "        text-align: right;\n",
       "    }\n",
       "</style>\n",
       "<table border=\"1\" class=\"dataframe\">\n",
       "  <thead>\n",
       "    <tr style=\"text-align: right;\">\n",
       "      <th></th>\n",
       "      <th>Timestamp</th>\n",
       "      <th>FIT101</th>\n",
       "      <th>LIT101</th>\n",
       "      <th>MV101</th>\n",
       "      <th>P101</th>\n",
       "      <th>P102</th>\n",
       "      <th>AIT201</th>\n",
       "      <th>AIT202</th>\n",
       "      <th>AIT203</th>\n",
       "      <th>FIT201</th>\n",
       "      <th>...</th>\n",
       "      <th>P501</th>\n",
       "      <th>P502</th>\n",
       "      <th>PIT501</th>\n",
       "      <th>PIT502</th>\n",
       "      <th>PIT503</th>\n",
       "      <th>FIT601</th>\n",
       "      <th>P601</th>\n",
       "      <th>P602</th>\n",
       "      <th>P603</th>\n",
       "      <th>Normal/Attack</th>\n",
       "    </tr>\n",
       "  </thead>\n",
       "  <tbody>\n",
       "    <tr>\n",
       "      <th>0</th>\n",
       "      <td>22/12/2015 4:30:00 PM</td>\n",
       "      <td>0.0</td>\n",
       "      <td>124.3135</td>\n",
       "      <td>1</td>\n",
       "      <td>1</td>\n",
       "      <td>1</td>\n",
       "      <td>251.9226</td>\n",
       "      <td>8.313446</td>\n",
       "      <td>312.7916</td>\n",
       "      <td>0.0</td>\n",
       "      <td>...</td>\n",
       "      <td>1</td>\n",
       "      <td>1</td>\n",
       "      <td>9.100231</td>\n",
       "      <td>0.0</td>\n",
       "      <td>3.3485</td>\n",
       "      <td>0.000256</td>\n",
       "      <td>1</td>\n",
       "      <td>1</td>\n",
       "      <td>1</td>\n",
       "      <td>Normal</td>\n",
       "    </tr>\n",
       "    <tr>\n",
       "      <th>1</th>\n",
       "      <td>22/12/2015 4:30:01 PM</td>\n",
       "      <td>0.0</td>\n",
       "      <td>124.3920</td>\n",
       "      <td>1</td>\n",
       "      <td>1</td>\n",
       "      <td>1</td>\n",
       "      <td>251.9226</td>\n",
       "      <td>8.313446</td>\n",
       "      <td>312.7916</td>\n",
       "      <td>0.0</td>\n",
       "      <td>...</td>\n",
       "      <td>1</td>\n",
       "      <td>1</td>\n",
       "      <td>9.100231</td>\n",
       "      <td>0.0</td>\n",
       "      <td>3.3485</td>\n",
       "      <td>0.000256</td>\n",
       "      <td>1</td>\n",
       "      <td>1</td>\n",
       "      <td>1</td>\n",
       "      <td>Normal</td>\n",
       "    </tr>\n",
       "    <tr>\n",
       "      <th>2</th>\n",
       "      <td>22/12/2015 4:30:02 PM</td>\n",
       "      <td>0.0</td>\n",
       "      <td>124.4705</td>\n",
       "      <td>1</td>\n",
       "      <td>1</td>\n",
       "      <td>1</td>\n",
       "      <td>251.9226</td>\n",
       "      <td>8.313446</td>\n",
       "      <td>312.7916</td>\n",
       "      <td>0.0</td>\n",
       "      <td>...</td>\n",
       "      <td>1</td>\n",
       "      <td>1</td>\n",
       "      <td>9.100231</td>\n",
       "      <td>0.0</td>\n",
       "      <td>3.3485</td>\n",
       "      <td>0.000256</td>\n",
       "      <td>1</td>\n",
       "      <td>1</td>\n",
       "      <td>1</td>\n",
       "      <td>Normal</td>\n",
       "    </tr>\n",
       "    <tr>\n",
       "      <th>3</th>\n",
       "      <td>22/12/2015 4:30:03 PM</td>\n",
       "      <td>0.0</td>\n",
       "      <td>124.6668</td>\n",
       "      <td>1</td>\n",
       "      <td>1</td>\n",
       "      <td>1</td>\n",
       "      <td>251.9226</td>\n",
       "      <td>8.313446</td>\n",
       "      <td>312.7916</td>\n",
       "      <td>0.0</td>\n",
       "      <td>...</td>\n",
       "      <td>1</td>\n",
       "      <td>1</td>\n",
       "      <td>9.100231</td>\n",
       "      <td>0.0</td>\n",
       "      <td>3.3485</td>\n",
       "      <td>0.000256</td>\n",
       "      <td>1</td>\n",
       "      <td>1</td>\n",
       "      <td>1</td>\n",
       "      <td>Normal</td>\n",
       "    </tr>\n",
       "    <tr>\n",
       "      <th>4</th>\n",
       "      <td>22/12/2015 4:30:04 PM</td>\n",
       "      <td>0.0</td>\n",
       "      <td>124.5098</td>\n",
       "      <td>1</td>\n",
       "      <td>1</td>\n",
       "      <td>1</td>\n",
       "      <td>251.9226</td>\n",
       "      <td>8.313446</td>\n",
       "      <td>312.7916</td>\n",
       "      <td>0.0</td>\n",
       "      <td>...</td>\n",
       "      <td>1</td>\n",
       "      <td>1</td>\n",
       "      <td>9.100231</td>\n",
       "      <td>0.0</td>\n",
       "      <td>3.3485</td>\n",
       "      <td>0.000256</td>\n",
       "      <td>1</td>\n",
       "      <td>1</td>\n",
       "      <td>1</td>\n",
       "      <td>Normal</td>\n",
       "    </tr>\n",
       "  </tbody>\n",
       "</table>\n",
       "<p>5 rows × 53 columns</p>\n",
       "</div>"
      ],
      "text/plain": [
       "                Timestamp  FIT101    LIT101  MV101  P101  P102    AIT201  \\\n",
       "0   22/12/2015 4:30:00 PM     0.0  124.3135      1     1     1  251.9226   \n",
       "1   22/12/2015 4:30:01 PM     0.0  124.3920      1     1     1  251.9226   \n",
       "2   22/12/2015 4:30:02 PM     0.0  124.4705      1     1     1  251.9226   \n",
       "3   22/12/2015 4:30:03 PM     0.0  124.6668      1     1     1  251.9226   \n",
       "4   22/12/2015 4:30:04 PM     0.0  124.5098      1     1     1  251.9226   \n",
       "\n",
       "     AIT202    AIT203  FIT201  ...  P501  P502    PIT501  PIT502  PIT503  \\\n",
       "0  8.313446  312.7916     0.0  ...     1     1  9.100231     0.0  3.3485   \n",
       "1  8.313446  312.7916     0.0  ...     1     1  9.100231     0.0  3.3485   \n",
       "2  8.313446  312.7916     0.0  ...     1     1  9.100231     0.0  3.3485   \n",
       "3  8.313446  312.7916     0.0  ...     1     1  9.100231     0.0  3.3485   \n",
       "4  8.313446  312.7916     0.0  ...     1     1  9.100231     0.0  3.3485   \n",
       "\n",
       "     FIT601  P601  P602  P603  Normal/Attack  \n",
       "0  0.000256     1     1     1         Normal  \n",
       "1  0.000256     1     1     1         Normal  \n",
       "2  0.000256     1     1     1         Normal  \n",
       "3  0.000256     1     1     1         Normal  \n",
       "4  0.000256     1     1     1         Normal  \n",
       "\n",
       "[5 rows x 53 columns]"
      ]
     },
     "execution_count": 7,
     "metadata": {},
     "output_type": "execute_result"
    }
   ],
   "source": [
    "#Drop the anormalies from the train data\n",
    "# Swat train data already do no contain abnormal data\n",
    "if dataset!='Swat':\n",
    "    normal= normal.loc[normal[label_col] == 0] \n",
    "normal.head()"
   ]
  },
  {
   "cell_type": "code",
   "execution_count": 8,
   "metadata": {
    "scrolled": true
   },
   "outputs": [],
   "source": [
    "# normal.head()"
   ]
  },
  {
   "cell_type": "code",
   "execution_count": 9,
   "metadata": {
    "scrolled": true
   },
   "outputs": [
    {
     "data": {
      "text/plain": [
       "Normal    495000\n",
       "Name: Normal/Attack, dtype: int64"
      ]
     },
     "execution_count": 9,
     "metadata": {},
     "output_type": "execute_result"
    }
   ],
   "source": [
    "normal[label_col].value_counts()"
   ]
  },
  {
   "cell_type": "code",
   "execution_count": 10,
   "metadata": {
    "scrolled": true
   },
   "outputs": [
    {
     "data": {
      "text/html": [
       "<div>\n",
       "<style scoped>\n",
       "    .dataframe tbody tr th:only-of-type {\n",
       "        vertical-align: middle;\n",
       "    }\n",
       "\n",
       "    .dataframe tbody tr th {\n",
       "        vertical-align: top;\n",
       "    }\n",
       "\n",
       "    .dataframe thead th {\n",
       "        text-align: right;\n",
       "    }\n",
       "</style>\n",
       "<table border=\"1\" class=\"dataframe\">\n",
       "  <thead>\n",
       "    <tr style=\"text-align: right;\">\n",
       "      <th></th>\n",
       "      <th>FIT101</th>\n",
       "      <th>LIT101</th>\n",
       "      <th>MV101</th>\n",
       "      <th>P101</th>\n",
       "      <th>P102</th>\n",
       "      <th>AIT201</th>\n",
       "      <th>AIT202</th>\n",
       "      <th>AIT203</th>\n",
       "      <th>FIT201</th>\n",
       "      <th>MV201</th>\n",
       "      <th>...</th>\n",
       "      <th>FIT504</th>\n",
       "      <th>P501</th>\n",
       "      <th>P502</th>\n",
       "      <th>PIT501</th>\n",
       "      <th>PIT502</th>\n",
       "      <th>PIT503</th>\n",
       "      <th>FIT601</th>\n",
       "      <th>P601</th>\n",
       "      <th>P602</th>\n",
       "      <th>P603</th>\n",
       "    </tr>\n",
       "  </thead>\n",
       "  <tbody>\n",
       "    <tr>\n",
       "      <th>0</th>\n",
       "      <td>0.0</td>\n",
       "      <td>124.3135</td>\n",
       "      <td>1</td>\n",
       "      <td>1</td>\n",
       "      <td>1</td>\n",
       "      <td>251.9226</td>\n",
       "      <td>8.313446</td>\n",
       "      <td>312.7916</td>\n",
       "      <td>0.0</td>\n",
       "      <td>1</td>\n",
       "      <td>...</td>\n",
       "      <td>0.0</td>\n",
       "      <td>1</td>\n",
       "      <td>1</td>\n",
       "      <td>9.100231</td>\n",
       "      <td>0.0</td>\n",
       "      <td>3.3485</td>\n",
       "      <td>0.000256</td>\n",
       "      <td>1</td>\n",
       "      <td>1</td>\n",
       "      <td>1</td>\n",
       "    </tr>\n",
       "    <tr>\n",
       "      <th>1</th>\n",
       "      <td>0.0</td>\n",
       "      <td>124.3920</td>\n",
       "      <td>1</td>\n",
       "      <td>1</td>\n",
       "      <td>1</td>\n",
       "      <td>251.9226</td>\n",
       "      <td>8.313446</td>\n",
       "      <td>312.7916</td>\n",
       "      <td>0.0</td>\n",
       "      <td>1</td>\n",
       "      <td>...</td>\n",
       "      <td>0.0</td>\n",
       "      <td>1</td>\n",
       "      <td>1</td>\n",
       "      <td>9.100231</td>\n",
       "      <td>0.0</td>\n",
       "      <td>3.3485</td>\n",
       "      <td>0.000256</td>\n",
       "      <td>1</td>\n",
       "      <td>1</td>\n",
       "      <td>1</td>\n",
       "    </tr>\n",
       "    <tr>\n",
       "      <th>2</th>\n",
       "      <td>0.0</td>\n",
       "      <td>124.4705</td>\n",
       "      <td>1</td>\n",
       "      <td>1</td>\n",
       "      <td>1</td>\n",
       "      <td>251.9226</td>\n",
       "      <td>8.313446</td>\n",
       "      <td>312.7916</td>\n",
       "      <td>0.0</td>\n",
       "      <td>1</td>\n",
       "      <td>...</td>\n",
       "      <td>0.0</td>\n",
       "      <td>1</td>\n",
       "      <td>1</td>\n",
       "      <td>9.100231</td>\n",
       "      <td>0.0</td>\n",
       "      <td>3.3485</td>\n",
       "      <td>0.000256</td>\n",
       "      <td>1</td>\n",
       "      <td>1</td>\n",
       "      <td>1</td>\n",
       "    </tr>\n",
       "    <tr>\n",
       "      <th>3</th>\n",
       "      <td>0.0</td>\n",
       "      <td>124.6668</td>\n",
       "      <td>1</td>\n",
       "      <td>1</td>\n",
       "      <td>1</td>\n",
       "      <td>251.9226</td>\n",
       "      <td>8.313446</td>\n",
       "      <td>312.7916</td>\n",
       "      <td>0.0</td>\n",
       "      <td>1</td>\n",
       "      <td>...</td>\n",
       "      <td>0.0</td>\n",
       "      <td>1</td>\n",
       "      <td>1</td>\n",
       "      <td>9.100231</td>\n",
       "      <td>0.0</td>\n",
       "      <td>3.3485</td>\n",
       "      <td>0.000256</td>\n",
       "      <td>1</td>\n",
       "      <td>1</td>\n",
       "      <td>1</td>\n",
       "    </tr>\n",
       "    <tr>\n",
       "      <th>4</th>\n",
       "      <td>0.0</td>\n",
       "      <td>124.5098</td>\n",
       "      <td>1</td>\n",
       "      <td>1</td>\n",
       "      <td>1</td>\n",
       "      <td>251.9226</td>\n",
       "      <td>8.313446</td>\n",
       "      <td>312.7916</td>\n",
       "      <td>0.0</td>\n",
       "      <td>1</td>\n",
       "      <td>...</td>\n",
       "      <td>0.0</td>\n",
       "      <td>1</td>\n",
       "      <td>1</td>\n",
       "      <td>9.100231</td>\n",
       "      <td>0.0</td>\n",
       "      <td>3.3485</td>\n",
       "      <td>0.000256</td>\n",
       "      <td>1</td>\n",
       "      <td>1</td>\n",
       "      <td>1</td>\n",
       "    </tr>\n",
       "  </tbody>\n",
       "</table>\n",
       "<p>5 rows × 51 columns</p>\n",
       "</div>"
      ],
      "text/plain": [
       "   FIT101    LIT101  MV101  P101  P102    AIT201    AIT202    AIT203  FIT201  \\\n",
       "0     0.0  124.3135      1     1     1  251.9226  8.313446  312.7916     0.0   \n",
       "1     0.0  124.3920      1     1     1  251.9226  8.313446  312.7916     0.0   \n",
       "2     0.0  124.4705      1     1     1  251.9226  8.313446  312.7916     0.0   \n",
       "3     0.0  124.6668      1     1     1  251.9226  8.313446  312.7916     0.0   \n",
       "4     0.0  124.5098      1     1     1  251.9226  8.313446  312.7916     0.0   \n",
       "\n",
       "   MV201  ...  FIT504  P501  P502    PIT501  PIT502  PIT503    FIT601  P601  \\\n",
       "0      1  ...     0.0     1     1  9.100231     0.0  3.3485  0.000256     1   \n",
       "1      1  ...     0.0     1     1  9.100231     0.0  3.3485  0.000256     1   \n",
       "2      1  ...     0.0     1     1  9.100231     0.0  3.3485  0.000256     1   \n",
       "3      1  ...     0.0     1     1  9.100231     0.0  3.3485  0.000256     1   \n",
       "4      1  ...     0.0     1     1  9.100231     0.0  3.3485  0.000256     1   \n",
       "\n",
       "   P602  P603  \n",
       "0     1     1  \n",
       "1     1     1  \n",
       "2     1     1  \n",
       "3     1     1  \n",
       "4     1     1  \n",
       "\n",
       "[5 rows x 51 columns]"
      ]
     },
     "execution_count": 10,
     "metadata": {},
     "output_type": "execute_result"
    }
   ],
   "source": [
    "#Drop the time and label column from the train data\n",
    "\n",
    "normal = normal.drop([time_col , label_col] , axis = 1)\n",
    "# normal = normal.drop([label_col] , axis = 1)\n",
    "normal.head()"
   ]
  },
  {
   "cell_type": "code",
   "execution_count": 11,
   "metadata": {
    "scrolled": true
   },
   "outputs": [],
   "source": [
    "# print(type(normal.iloc[0,1]))\n",
    "# normal.dtypes"
   ]
  },
  {
   "cell_type": "code",
   "execution_count": 12,
   "metadata": {
    "id": "fFuLm1GH1G2n",
    "scrolled": true
   },
   "outputs": [],
   "source": [
    "# Transform all columns into float64\n",
    "for i in list(normal): \n",
    "    normal[i]=normal[i].apply(lambda x: str(x).replace(\",\" , \".\"))\n",
    "normal = normal.astype(float)"
   ]
  },
  {
   "cell_type": "markdown",
   "metadata": {
    "id": "zxFNH5kU9hIE"
   },
   "source": [
    "#### Normalization"
   ]
  },
  {
   "cell_type": "code",
   "execution_count": 13,
   "metadata": {
    "id": "Mfxj4Uxn9kv4",
    "scrolled": true
   },
   "outputs": [],
   "source": [
    "from sklearn import preprocessing\n",
    "min_max_scaler = preprocessing.StandardScaler()\n",
    "\n",
    "if dataset=='Swat':\n",
    "    x = normal.values\n",
    "    x_scaled = min_max_scaler.fit_transform(x)\n",
    "#     normal = pd.DataFrame(x_scaled)"
   ]
  },
  {
   "cell_type": "code",
   "execution_count": null,
   "metadata": {},
   "outputs": [],
   "source": []
  },
  {
   "cell_type": "markdown",
   "metadata": {},
   "source": [
    "A vital part of using PCA in practice is the ability to estimate how many components are needed to describe the data. This can be determined by looking at the cumulative explained variance ratio as a function of the number of components:"
   ]
  },
  {
   "cell_type": "code",
   "execution_count": 14,
   "metadata": {},
   "outputs": [
    {
     "data": {
      "image/png": "[encoded data removed]",
      "text/plain": [
       "<Figure size 432x288 with 1 Axes>"
      ]
     },
     "metadata": {
      "needs_background": "light"
     },
     "output_type": "display_data"
    }
   ],
   "source": [
    "pca = PCA().fit(x_scaled)\n",
    "plt.plot(np.cumsum(pca.explained_variance_ratio_))\n",
    "plt.xlabel('number of components')\n",
    "plt.ylabel('cumulative explained variance');"
   ]
  },
  {
   "cell_type": "markdown",
   "metadata": {},
   "source": [
    "This curve quantifies how much of the total, 64-dimensional variance is contained within the first N components. For example, we see that with the digits the first 10 components contain approximately 75% of the variance, while you need around 50 components to describe close to 100% of the variance.\n",
    "\n",
    "Here we see that our two-dimensional projection loses a lot of information (as measured by the explained variance) and that we'd need about 20 components to retain 90% of the variance. Looking at this plot for a high-dimensional dataset can help you understand the level of redundancy present in multiple observations."
   ]
  },
  {
   "cell_type": "code",
   "execution_count": 15,
   "metadata": {},
   "outputs": [
    {
     "name": "stdout",
     "output_type": "stream",
     "text": [
      "10\n"
     ]
    }
   ],
   "source": [
    "pca = PCA(n_components = 0.9) # \n",
    "X_pca = pca.fit_transform(x_scaled) # this will fit and reduce dimensions\n",
    "print(pca.n_components_) # one can print and see how many components are selected. In this case it is 4 same as above we saw in step 5"
   ]
  },
  {
   "cell_type": "code",
   "execution_count": 16,
   "metadata": {},
   "outputs": [
    {
     "data": {
      "text/html": [
       "<div>\n",
       "<style scoped>\n",
       "    .dataframe tbody tr th:only-of-type {\n",
       "        vertical-align: middle;\n",
       "    }\n",
       "\n",
       "    .dataframe tbody tr th {\n",
       "        vertical-align: top;\n",
       "    }\n",
       "\n",
       "    .dataframe thead th {\n",
       "        text-align: right;\n",
       "    }\n",
       "</style>\n",
       "<table border=\"1\" class=\"dataframe\">\n",
       "  <thead>\n",
       "    <tr style=\"text-align: right;\">\n",
       "      <th></th>\n",
       "      <th>FIT101</th>\n",
       "      <th>LIT101</th>\n",
       "      <th>MV101</th>\n",
       "      <th>P101</th>\n",
       "      <th>P102</th>\n",
       "      <th>AIT201</th>\n",
       "      <th>AIT202</th>\n",
       "      <th>AIT203</th>\n",
       "      <th>FIT201</th>\n",
       "      <th>MV201</th>\n",
       "      <th>...</th>\n",
       "      <th>FIT504</th>\n",
       "      <th>P501</th>\n",
       "      <th>P502</th>\n",
       "      <th>PIT501</th>\n",
       "      <th>PIT502</th>\n",
       "      <th>PIT503</th>\n",
       "      <th>FIT601</th>\n",
       "      <th>P601</th>\n",
       "      <th>P602</th>\n",
       "      <th>P603</th>\n",
       "    </tr>\n",
       "  </thead>\n",
       "  <tbody>\n",
       "    <tr>\n",
       "      <th>0</th>\n",
       "      <td>-0.013937</td>\n",
       "      <td>-0.047245</td>\n",
       "      <td>-0.013989</td>\n",
       "      <td>-0.024872</td>\n",
       "      <td>-5.551115e-17</td>\n",
       "      <td>-0.038831</td>\n",
       "      <td>0.016289</td>\n",
       "      <td>0.029578</td>\n",
       "      <td>-0.024891</td>\n",
       "      <td>-0.018291</td>\n",
       "      <td>...</td>\n",
       "      <td>-0.282626</td>\n",
       "      <td>-0.286320</td>\n",
       "      <td>-0.0</td>\n",
       "      <td>-0.279140</td>\n",
       "      <td>-0.082766</td>\n",
       "      <td>-0.275378</td>\n",
       "      <td>0.001328</td>\n",
       "      <td>-0.0</td>\n",
       "      <td>0.001212</td>\n",
       "      <td>-0.0</td>\n",
       "    </tr>\n",
       "    <tr>\n",
       "      <th>1</th>\n",
       "      <td>-0.050104</td>\n",
       "      <td>0.231110</td>\n",
       "      <td>-0.057036</td>\n",
       "      <td>-0.348667</td>\n",
       "      <td>0.000000e+00</td>\n",
       "      <td>0.004226</td>\n",
       "      <td>0.117944</td>\n",
       "      <td>-0.040019</td>\n",
       "      <td>-0.347087</td>\n",
       "      <td>-0.345937</td>\n",
       "      <td>...</td>\n",
       "      <td>0.017746</td>\n",
       "      <td>0.016565</td>\n",
       "      <td>0.0</td>\n",
       "      <td>0.013736</td>\n",
       "      <td>-0.016771</td>\n",
       "      <td>0.013125</td>\n",
       "      <td>0.030433</td>\n",
       "      <td>0.0</td>\n",
       "      <td>0.028826</td>\n",
       "      <td>0.0</td>\n",
       "    </tr>\n",
       "    <tr>\n",
       "      <th>2</th>\n",
       "      <td>-0.027696</td>\n",
       "      <td>-0.007447</td>\n",
       "      <td>-0.027350</td>\n",
       "      <td>-0.014525</td>\n",
       "      <td>-3.989864e-17</td>\n",
       "      <td>-0.298181</td>\n",
       "      <td>0.123445</td>\n",
       "      <td>0.348865</td>\n",
       "      <td>-0.013925</td>\n",
       "      <td>-0.016112</td>\n",
       "      <td>...</td>\n",
       "      <td>0.077968</td>\n",
       "      <td>0.048705</td>\n",
       "      <td>-0.0</td>\n",
       "      <td>0.107326</td>\n",
       "      <td>0.192450</td>\n",
       "      <td>0.121488</td>\n",
       "      <td>-0.003558</td>\n",
       "      <td>-0.0</td>\n",
       "      <td>-0.003783</td>\n",
       "      <td>-0.0</td>\n",
       "    </tr>\n",
       "    <tr>\n",
       "      <th>3</th>\n",
       "      <td>0.355236</td>\n",
       "      <td>-0.284059</td>\n",
       "      <td>0.350302</td>\n",
       "      <td>0.129344</td>\n",
       "      <td>5.551115e-17</td>\n",
       "      <td>-0.042446</td>\n",
       "      <td>-0.062374</td>\n",
       "      <td>0.026146</td>\n",
       "      <td>0.134352</td>\n",
       "      <td>0.129220</td>\n",
       "      <td>...</td>\n",
       "      <td>-0.007339</td>\n",
       "      <td>-0.005129</td>\n",
       "      <td>-0.0</td>\n",
       "      <td>0.006107</td>\n",
       "      <td>0.041966</td>\n",
       "      <td>0.008492</td>\n",
       "      <td>0.268086</td>\n",
       "      <td>-0.0</td>\n",
       "      <td>0.273254</td>\n",
       "      <td>-0.0</td>\n",
       "    </tr>\n",
       "    <tr>\n",
       "      <th>4</th>\n",
       "      <td>-0.333837</td>\n",
       "      <td>0.177561</td>\n",
       "      <td>-0.329592</td>\n",
       "      <td>0.013280</td>\n",
       "      <td>5.551115e-17</td>\n",
       "      <td>0.022891</td>\n",
       "      <td>-0.036870</td>\n",
       "      <td>-0.046084</td>\n",
       "      <td>0.010077</td>\n",
       "      <td>0.011292</td>\n",
       "      <td>...</td>\n",
       "      <td>0.017063</td>\n",
       "      <td>0.016801</td>\n",
       "      <td>-0.0</td>\n",
       "      <td>0.005616</td>\n",
       "      <td>-0.002798</td>\n",
       "      <td>0.002828</td>\n",
       "      <td>0.408269</td>\n",
       "      <td>-0.0</td>\n",
       "      <td>0.445752</td>\n",
       "      <td>-0.0</td>\n",
       "    </tr>\n",
       "    <tr>\n",
       "      <th>5</th>\n",
       "      <td>-0.068945</td>\n",
       "      <td>0.046721</td>\n",
       "      <td>-0.070118</td>\n",
       "      <td>-0.003768</td>\n",
       "      <td>5.551115e-17</td>\n",
       "      <td>-0.335784</td>\n",
       "      <td>-0.280787</td>\n",
       "      <td>-0.397111</td>\n",
       "      <td>-0.004732</td>\n",
       "      <td>-0.002799</td>\n",
       "      <td>...</td>\n",
       "      <td>-0.007587</td>\n",
       "      <td>-0.005316</td>\n",
       "      <td>0.0</td>\n",
       "      <td>0.005213</td>\n",
       "      <td>0.223071</td>\n",
       "      <td>0.006240</td>\n",
       "      <td>-0.076680</td>\n",
       "      <td>0.0</td>\n",
       "      <td>-0.092358</td>\n",
       "      <td>0.0</td>\n",
       "    </tr>\n",
       "    <tr>\n",
       "      <th>6</th>\n",
       "      <td>-0.066250</td>\n",
       "      <td>-0.089600</td>\n",
       "      <td>-0.069519</td>\n",
       "      <td>0.057294</td>\n",
       "      <td>1.110223e-16</td>\n",
       "      <td>0.380887</td>\n",
       "      <td>-0.168144</td>\n",
       "      <td>-0.063405</td>\n",
       "      <td>0.059300</td>\n",
       "      <td>0.054596</td>\n",
       "      <td>...</td>\n",
       "      <td>0.037395</td>\n",
       "      <td>0.044604</td>\n",
       "      <td>-0.0</td>\n",
       "      <td>0.047371</td>\n",
       "      <td>0.125219</td>\n",
       "      <td>0.044109</td>\n",
       "      <td>-0.097144</td>\n",
       "      <td>-0.0</td>\n",
       "      <td>-0.138460</td>\n",
       "      <td>-0.0</td>\n",
       "    </tr>\n",
       "    <tr>\n",
       "      <th>7</th>\n",
       "      <td>0.239297</td>\n",
       "      <td>-0.095375</td>\n",
       "      <td>0.239836</td>\n",
       "      <td>-0.144778</td>\n",
       "      <td>-0.000000e+00</td>\n",
       "      <td>0.148400</td>\n",
       "      <td>-0.159659</td>\n",
       "      <td>-0.178643</td>\n",
       "      <td>-0.143764</td>\n",
       "      <td>-0.147359</td>\n",
       "      <td>...</td>\n",
       "      <td>-0.002387</td>\n",
       "      <td>0.002035</td>\n",
       "      <td>-0.0</td>\n",
       "      <td>0.019914</td>\n",
       "      <td>0.193792</td>\n",
       "      <td>0.021199</td>\n",
       "      <td>0.094511</td>\n",
       "      <td>-0.0</td>\n",
       "      <td>0.141437</td>\n",
       "      <td>-0.0</td>\n",
       "    </tr>\n",
       "    <tr>\n",
       "      <th>8</th>\n",
       "      <td>-0.209072</td>\n",
       "      <td>0.048540</td>\n",
       "      <td>-0.226522</td>\n",
       "      <td>0.151815</td>\n",
       "      <td>5.551115e-17</td>\n",
       "      <td>-0.049005</td>\n",
       "      <td>0.131840</td>\n",
       "      <td>0.095371</td>\n",
       "      <td>0.154804</td>\n",
       "      <td>0.152327</td>\n",
       "      <td>...</td>\n",
       "      <td>0.012247</td>\n",
       "      <td>0.017936</td>\n",
       "      <td>-0.0</td>\n",
       "      <td>0.006649</td>\n",
       "      <td>-0.143063</td>\n",
       "      <td>0.003681</td>\n",
       "      <td>0.018705</td>\n",
       "      <td>-0.0</td>\n",
       "      <td>-0.047083</td>\n",
       "      <td>-0.0</td>\n",
       "    </tr>\n",
       "    <tr>\n",
       "      <th>9</th>\n",
       "      <td>0.114219</td>\n",
       "      <td>-0.028663</td>\n",
       "      <td>0.120996</td>\n",
       "      <td>-0.026086</td>\n",
       "      <td>-5.551115e-17</td>\n",
       "      <td>-0.224419</td>\n",
       "      <td>0.575049</td>\n",
       "      <td>0.019420</td>\n",
       "      <td>-0.030723</td>\n",
       "      <td>-0.029206</td>\n",
       "      <td>...</td>\n",
       "      <td>-0.009687</td>\n",
       "      <td>0.028903</td>\n",
       "      <td>-0.0</td>\n",
       "      <td>-0.023781</td>\n",
       "      <td>-0.284201</td>\n",
       "      <td>-0.039100</td>\n",
       "      <td>-0.009920</td>\n",
       "      <td>-0.0</td>\n",
       "      <td>0.017066</td>\n",
       "      <td>-0.0</td>\n",
       "    </tr>\n",
       "  </tbody>\n",
       "</table>\n",
       "<p>10 rows × 51 columns</p>\n",
       "</div>"
      ],
      "text/plain": [
       "     FIT101    LIT101     MV101      P101          P102    AIT201    AIT202  \\\n",
       "0 -0.013937 -0.047245 -0.013989 -0.024872 -5.551115e-17 -0.038831  0.016289   \n",
       "1 -0.050104  0.231110 -0.057036 -0.348667  0.000000e+00  0.004226  0.117944   \n",
       "2 -0.027696 -0.007447 -0.027350 -0.014525 -3.989864e-17 -0.298181  0.123445   \n",
       "3  0.355236 -0.284059  0.350302  0.129344  5.551115e-17 -0.042446 -0.062374   \n",
       "4 -0.333837  0.177561 -0.329592  0.013280  5.551115e-17  0.022891 -0.036870   \n",
       "5 -0.068945  0.046721 -0.070118 -0.003768  5.551115e-17 -0.335784 -0.280787   \n",
       "6 -0.066250 -0.089600 -0.069519  0.057294  1.110223e-16  0.380887 -0.168144   \n",
       "7  0.239297 -0.095375  0.239836 -0.144778 -0.000000e+00  0.148400 -0.159659   \n",
       "8 -0.209072  0.048540 -0.226522  0.151815  5.551115e-17 -0.049005  0.131840   \n",
       "9  0.114219 -0.028663  0.120996 -0.026086 -5.551115e-17 -0.224419  0.575049   \n",
       "\n",
       "     AIT203    FIT201     MV201  ...    FIT504      P501  P502    PIT501  \\\n",
       "0  0.029578 -0.024891 -0.018291  ... -0.282626 -0.286320  -0.0 -0.279140   \n",
       "1 -0.040019 -0.347087 -0.345937  ...  0.017746  0.016565   0.0  0.013736   \n",
       "2  0.348865 -0.013925 -0.016112  ...  0.077968  0.048705  -0.0  0.107326   \n",
       "3  0.026146  0.134352  0.129220  ... -0.007339 -0.005129  -0.0  0.006107   \n",
       "4 -0.046084  0.010077  0.011292  ...  0.017063  0.016801  -0.0  0.005616   \n",
       "5 -0.397111 -0.004732 -0.002799  ... -0.007587 -0.005316   0.0  0.005213   \n",
       "6 -0.063405  0.059300  0.054596  ...  0.037395  0.044604  -0.0  0.047371   \n",
       "7 -0.178643 -0.143764 -0.147359  ... -0.002387  0.002035  -0.0  0.019914   \n",
       "8  0.095371  0.154804  0.152327  ...  0.012247  0.017936  -0.0  0.006649   \n",
       "9  0.019420 -0.030723 -0.029206  ... -0.009687  0.028903  -0.0 -0.023781   \n",
       "\n",
       "     PIT502    PIT503    FIT601  P601      P602  P603  \n",
       "0 -0.082766 -0.275378  0.001328  -0.0  0.001212  -0.0  \n",
       "1 -0.016771  0.013125  0.030433   0.0  0.028826   0.0  \n",
       "2  0.192450  0.121488 -0.003558  -0.0 -0.003783  -0.0  \n",
       "3  0.041966  0.008492  0.268086  -0.0  0.273254  -0.0  \n",
       "4 -0.002798  0.002828  0.408269  -0.0  0.445752  -0.0  \n",
       "5  0.223071  0.006240 -0.076680   0.0 -0.092358   0.0  \n",
       "6  0.125219  0.044109 -0.097144  -0.0 -0.138460  -0.0  \n",
       "7  0.193792  0.021199  0.094511  -0.0  0.141437  -0.0  \n",
       "8 -0.143063  0.003681  0.018705  -0.0 -0.047083  -0.0  \n",
       "9 -0.284201 -0.039100 -0.009920  -0.0  0.017066  -0.0  \n",
       "\n",
       "[10 rows x 51 columns]"
      ]
     },
     "execution_count": 16,
     "metadata": {},
     "output_type": "execute_result"
    }
   ],
   "source": [
    "pd.DataFrame(pca.components_, columns = normal.columns)"
   ]
  },
  {
   "cell_type": "code",
   "execution_count": 17,
   "metadata": {},
   "outputs": [
    {
     "name": "stdout",
     "output_type": "stream",
     "text": [
      "['FIT401', 'P101', 'AIT402', 'FIT101', 'P602', 'AIT503', 'P301', 'MV304', 'MV304', 'AIT202']\n"
     ]
    }
   ],
   "source": [
    "n_pcs= pca.n_components_ # get number of component\n",
    "# get the index of the most important feature on EACH component\n",
    "most_important = [np.abs(pca.components_[i]).argmax() for i in range(n_pcs)]\n",
    "initial_feature_names = normal.columns\n",
    "# get the most important feature names\n",
    "most_important_names = [initial_feature_names[most_important[i]] for i in range(n_pcs)]\n",
    "print(most_important_names)"
   ]
  },
  {
   "cell_type": "code",
   "execution_count": 18,
   "metadata": {
    "scrolled": true
   },
   "outputs": [
    {
     "data": {
      "text/html": [
       "<div>\n",
       "<style scoped>\n",
       "    .dataframe tbody tr th:only-of-type {\n",
       "        vertical-align: middle;\n",
       "    }\n",
       "\n",
       "    .dataframe tbody tr th {\n",
       "        vertical-align: top;\n",
       "    }\n",
       "\n",
       "    .dataframe thead th {\n",
       "        text-align: right;\n",
       "    }\n",
       "</style>\n",
       "<table border=\"1\" class=\"dataframe\">\n",
       "  <thead>\n",
       "    <tr style=\"text-align: right;\">\n",
       "      <th></th>\n",
       "      <th>FIT101</th>\n",
       "      <th>LIT101</th>\n",
       "      <th>MV101</th>\n",
       "      <th>P101</th>\n",
       "      <th>P102</th>\n",
       "      <th>AIT201</th>\n",
       "      <th>AIT202</th>\n",
       "      <th>AIT203</th>\n",
       "      <th>FIT201</th>\n",
       "      <th>MV201</th>\n",
       "      <th>...</th>\n",
       "      <th>FIT504</th>\n",
       "      <th>P501</th>\n",
       "      <th>P502</th>\n",
       "      <th>PIT501</th>\n",
       "      <th>PIT502</th>\n",
       "      <th>PIT503</th>\n",
       "      <th>FIT601</th>\n",
       "      <th>P601</th>\n",
       "      <th>P602</th>\n",
       "      <th>P603</th>\n",
       "    </tr>\n",
       "  </thead>\n",
       "  <tbody>\n",
       "    <tr>\n",
       "      <th>0</th>\n",
       "      <td>0.0</td>\n",
       "      <td>124.3135</td>\n",
       "      <td>1.0</td>\n",
       "      <td>1.0</td>\n",
       "      <td>1.0</td>\n",
       "      <td>251.9226</td>\n",
       "      <td>8.313446</td>\n",
       "      <td>312.7916</td>\n",
       "      <td>0.0</td>\n",
       "      <td>1.0</td>\n",
       "      <td>...</td>\n",
       "      <td>0.0</td>\n",
       "      <td>1.0</td>\n",
       "      <td>1.0</td>\n",
       "      <td>9.100231</td>\n",
       "      <td>0.0</td>\n",
       "      <td>3.3485</td>\n",
       "      <td>0.000256</td>\n",
       "      <td>1.0</td>\n",
       "      <td>1.0</td>\n",
       "      <td>1.0</td>\n",
       "    </tr>\n",
       "    <tr>\n",
       "      <th>1</th>\n",
       "      <td>0.0</td>\n",
       "      <td>124.3920</td>\n",
       "      <td>1.0</td>\n",
       "      <td>1.0</td>\n",
       "      <td>1.0</td>\n",
       "      <td>251.9226</td>\n",
       "      <td>8.313446</td>\n",
       "      <td>312.7916</td>\n",
       "      <td>0.0</td>\n",
       "      <td>1.0</td>\n",
       "      <td>...</td>\n",
       "      <td>0.0</td>\n",
       "      <td>1.0</td>\n",
       "      <td>1.0</td>\n",
       "      <td>9.100231</td>\n",
       "      <td>0.0</td>\n",
       "      <td>3.3485</td>\n",
       "      <td>0.000256</td>\n",
       "      <td>1.0</td>\n",
       "      <td>1.0</td>\n",
       "      <td>1.0</td>\n",
       "    </tr>\n",
       "    <tr>\n",
       "      <th>2</th>\n",
       "      <td>0.0</td>\n",
       "      <td>124.4705</td>\n",
       "      <td>1.0</td>\n",
       "      <td>1.0</td>\n",
       "      <td>1.0</td>\n",
       "      <td>251.9226</td>\n",
       "      <td>8.313446</td>\n",
       "      <td>312.7916</td>\n",
       "      <td>0.0</td>\n",
       "      <td>1.0</td>\n",
       "      <td>...</td>\n",
       "      <td>0.0</td>\n",
       "      <td>1.0</td>\n",
       "      <td>1.0</td>\n",
       "      <td>9.100231</td>\n",
       "      <td>0.0</td>\n",
       "      <td>3.3485</td>\n",
       "      <td>0.000256</td>\n",
       "      <td>1.0</td>\n",
       "      <td>1.0</td>\n",
       "      <td>1.0</td>\n",
       "    </tr>\n",
       "    <tr>\n",
       "      <th>3</th>\n",
       "      <td>0.0</td>\n",
       "      <td>124.6668</td>\n",
       "      <td>1.0</td>\n",
       "      <td>1.0</td>\n",
       "      <td>1.0</td>\n",
       "      <td>251.9226</td>\n",
       "      <td>8.313446</td>\n",
       "      <td>312.7916</td>\n",
       "      <td>0.0</td>\n",
       "      <td>1.0</td>\n",
       "      <td>...</td>\n",
       "      <td>0.0</td>\n",
       "      <td>1.0</td>\n",
       "      <td>1.0</td>\n",
       "      <td>9.100231</td>\n",
       "      <td>0.0</td>\n",
       "      <td>3.3485</td>\n",
       "      <td>0.000256</td>\n",
       "      <td>1.0</td>\n",
       "      <td>1.0</td>\n",
       "      <td>1.0</td>\n",
       "    </tr>\n",
       "    <tr>\n",
       "      <th>4</th>\n",
       "      <td>0.0</td>\n",
       "      <td>124.5098</td>\n",
       "      <td>1.0</td>\n",
       "      <td>1.0</td>\n",
       "      <td>1.0</td>\n",
       "      <td>251.9226</td>\n",
       "      <td>8.313446</td>\n",
       "      <td>312.7916</td>\n",
       "      <td>0.0</td>\n",
       "      <td>1.0</td>\n",
       "      <td>...</td>\n",
       "      <td>0.0</td>\n",
       "      <td>1.0</td>\n",
       "      <td>1.0</td>\n",
       "      <td>9.100231</td>\n",
       "      <td>0.0</td>\n",
       "      <td>3.3485</td>\n",
       "      <td>0.000256</td>\n",
       "      <td>1.0</td>\n",
       "      <td>1.0</td>\n",
       "      <td>1.0</td>\n",
       "    </tr>\n",
       "  </tbody>\n",
       "</table>\n",
       "<p>5 rows × 51 columns</p>\n",
       "</div>"
      ],
      "text/plain": [
       "   FIT101    LIT101  MV101  P101  P102    AIT201    AIT202    AIT203  FIT201  \\\n",
       "0     0.0  124.3135    1.0   1.0   1.0  251.9226  8.313446  312.7916     0.0   \n",
       "1     0.0  124.3920    1.0   1.0   1.0  251.9226  8.313446  312.7916     0.0   \n",
       "2     0.0  124.4705    1.0   1.0   1.0  251.9226  8.313446  312.7916     0.0   \n",
       "3     0.0  124.6668    1.0   1.0   1.0  251.9226  8.313446  312.7916     0.0   \n",
       "4     0.0  124.5098    1.0   1.0   1.0  251.9226  8.313446  312.7916     0.0   \n",
       "\n",
       "   MV201  ...  FIT504  P501  P502    PIT501  PIT502  PIT503    FIT601  P601  \\\n",
       "0    1.0  ...     0.0   1.0   1.0  9.100231     0.0  3.3485  0.000256   1.0   \n",
       "1    1.0  ...     0.0   1.0   1.0  9.100231     0.0  3.3485  0.000256   1.0   \n",
       "2    1.0  ...     0.0   1.0   1.0  9.100231     0.0  3.3485  0.000256   1.0   \n",
       "3    1.0  ...     0.0   1.0   1.0  9.100231     0.0  3.3485  0.000256   1.0   \n",
       "4    1.0  ...     0.0   1.0   1.0  9.100231     0.0  3.3485  0.000256   1.0   \n",
       "\n",
       "   P602  P603  \n",
       "0   1.0   1.0  \n",
       "1   1.0   1.0  \n",
       "2   1.0   1.0  \n",
       "3   1.0   1.0  \n",
       "4   1.0   1.0  \n",
       "\n",
       "[5 rows x 51 columns]"
      ]
     },
     "execution_count": 18,
     "metadata": {},
     "output_type": "execute_result"
    }
   ],
   "source": [
    "normal.head()"
   ]
  },
  {
   "cell_type": "code",
   "execution_count": 19,
   "metadata": {},
   "outputs": [],
   "source": [
    "normal2 = normal[normal.columns.intersection(most_important_names)]"
   ]
  },
  {
   "cell_type": "code",
   "execution_count": 20,
   "metadata": {},
   "outputs": [
    {
     "data": {
      "text/html": [
       "<div>\n",
       "<style scoped>\n",
       "    .dataframe tbody tr th:only-of-type {\n",
       "        vertical-align: middle;\n",
       "    }\n",
       "\n",
       "    .dataframe tbody tr th {\n",
       "        vertical-align: top;\n",
       "    }\n",
       "\n",
       "    .dataframe thead th {\n",
       "        text-align: right;\n",
       "    }\n",
       "</style>\n",
       "<table border=\"1\" class=\"dataframe\">\n",
       "  <thead>\n",
       "    <tr style=\"text-align: right;\">\n",
       "      <th></th>\n",
       "      <th>FIT101</th>\n",
       "      <th>P101</th>\n",
       "      <th>AIT202</th>\n",
       "      <th>MV304</th>\n",
       "      <th>P301</th>\n",
       "      <th>AIT402</th>\n",
       "      <th>FIT401</th>\n",
       "      <th>AIT503</th>\n",
       "      <th>P602</th>\n",
       "    </tr>\n",
       "  </thead>\n",
       "  <tbody>\n",
       "    <tr>\n",
       "      <th>0</th>\n",
       "      <td>0.0</td>\n",
       "      <td>1.0</td>\n",
       "      <td>8.313446</td>\n",
       "      <td>1.0</td>\n",
       "      <td>1.0</td>\n",
       "      <td>169.2387</td>\n",
       "      <td>0.0</td>\n",
       "      <td>260.7024</td>\n",
       "      <td>1.0</td>\n",
       "    </tr>\n",
       "    <tr>\n",
       "      <th>1</th>\n",
       "      <td>0.0</td>\n",
       "      <td>1.0</td>\n",
       "      <td>8.313446</td>\n",
       "      <td>1.0</td>\n",
       "      <td>1.0</td>\n",
       "      <td>169.2387</td>\n",
       "      <td>0.0</td>\n",
       "      <td>260.7024</td>\n",
       "      <td>1.0</td>\n",
       "    </tr>\n",
       "    <tr>\n",
       "      <th>2</th>\n",
       "      <td>0.0</td>\n",
       "      <td>1.0</td>\n",
       "      <td>8.313446</td>\n",
       "      <td>1.0</td>\n",
       "      <td>1.0</td>\n",
       "      <td>169.2387</td>\n",
       "      <td>0.0</td>\n",
       "      <td>260.7024</td>\n",
       "      <td>1.0</td>\n",
       "    </tr>\n",
       "    <tr>\n",
       "      <th>3</th>\n",
       "      <td>0.0</td>\n",
       "      <td>1.0</td>\n",
       "      <td>8.313446</td>\n",
       "      <td>1.0</td>\n",
       "      <td>1.0</td>\n",
       "      <td>169.2387</td>\n",
       "      <td>0.0</td>\n",
       "      <td>260.7024</td>\n",
       "      <td>1.0</td>\n",
       "    </tr>\n",
       "    <tr>\n",
       "      <th>4</th>\n",
       "      <td>0.0</td>\n",
       "      <td>1.0</td>\n",
       "      <td>8.313446</td>\n",
       "      <td>1.0</td>\n",
       "      <td>1.0</td>\n",
       "      <td>169.2387</td>\n",
       "      <td>0.0</td>\n",
       "      <td>260.7024</td>\n",
       "      <td>1.0</td>\n",
       "    </tr>\n",
       "  </tbody>\n",
       "</table>\n",
       "</div>"
      ],
      "text/plain": [
       "   FIT101  P101    AIT202  MV304  P301    AIT402  FIT401    AIT503  P602\n",
       "0     0.0   1.0  8.313446    1.0   1.0  169.2387     0.0  260.7024   1.0\n",
       "1     0.0   1.0  8.313446    1.0   1.0  169.2387     0.0  260.7024   1.0\n",
       "2     0.0   1.0  8.313446    1.0   1.0  169.2387     0.0  260.7024   1.0\n",
       "3     0.0   1.0  8.313446    1.0   1.0  169.2387     0.0  260.7024   1.0\n",
       "4     0.0   1.0  8.313446    1.0   1.0  169.2387     0.0  260.7024   1.0"
      ]
     },
     "execution_count": 20,
     "metadata": {},
     "output_type": "execute_result"
    }
   ],
   "source": [
    "normal2.head()"
   ]
  },
  {
   "cell_type": "code",
   "execution_count": 21,
   "metadata": {},
   "outputs": [],
   "source": [
    "if dataset=='Swat':\n",
    "    x = normal2.values\n",
    "    x_scaled = min_max_scaler.fit_transform(x)\n",
    "    normal = pd.DataFrame(x_scaled)"
   ]
  },
  {
   "cell_type": "code",
   "execution_count": 22,
   "metadata": {},
   "outputs": [
    {
     "data": {
      "text/html": [
       "<div>\n",
       "<style scoped>\n",
       "    .dataframe tbody tr th:only-of-type {\n",
       "        vertical-align: middle;\n",
       "    }\n",
       "\n",
       "    .dataframe tbody tr th {\n",
       "        vertical-align: top;\n",
       "    }\n",
       "\n",
       "    .dataframe thead th {\n",
       "        text-align: right;\n",
       "    }\n",
       "</style>\n",
       "<table border=\"1\" class=\"dataframe\">\n",
       "  <thead>\n",
       "    <tr style=\"text-align: right;\">\n",
       "      <th></th>\n",
       "      <th>0</th>\n",
       "      <th>1</th>\n",
       "      <th>2</th>\n",
       "      <th>3</th>\n",
       "      <th>4</th>\n",
       "      <th>5</th>\n",
       "      <th>6</th>\n",
       "      <th>7</th>\n",
       "      <th>8</th>\n",
       "    </tr>\n",
       "  </thead>\n",
       "  <tbody>\n",
       "    <tr>\n",
       "      <th>0</th>\n",
       "      <td>-1.633984</td>\n",
       "      <td>-1.728131</td>\n",
       "      <td>-0.828035</td>\n",
       "      <td>-0.126355</td>\n",
       "      <td>-0.060057</td>\n",
       "      <td>-0.158643</td>\n",
       "      <td>-18.104095</td>\n",
       "      <td>-1.185669</td>\n",
       "      <td>-0.089482</td>\n",
       "    </tr>\n",
       "    <tr>\n",
       "      <th>1</th>\n",
       "      <td>-1.633984</td>\n",
       "      <td>-1.728131</td>\n",
       "      <td>-0.828035</td>\n",
       "      <td>-0.126355</td>\n",
       "      <td>-0.060057</td>\n",
       "      <td>-0.158643</td>\n",
       "      <td>-18.104095</td>\n",
       "      <td>-1.185669</td>\n",
       "      <td>-0.089482</td>\n",
       "    </tr>\n",
       "    <tr>\n",
       "      <th>2</th>\n",
       "      <td>-1.633984</td>\n",
       "      <td>-1.728131</td>\n",
       "      <td>-0.828035</td>\n",
       "      <td>-0.126355</td>\n",
       "      <td>-0.060057</td>\n",
       "      <td>-0.158643</td>\n",
       "      <td>-18.104095</td>\n",
       "      <td>-1.185669</td>\n",
       "      <td>-0.089482</td>\n",
       "    </tr>\n",
       "    <tr>\n",
       "      <th>3</th>\n",
       "      <td>-1.633984</td>\n",
       "      <td>-1.728131</td>\n",
       "      <td>-0.828035</td>\n",
       "      <td>-0.126355</td>\n",
       "      <td>-0.060057</td>\n",
       "      <td>-0.158643</td>\n",
       "      <td>-18.104095</td>\n",
       "      <td>-1.185669</td>\n",
       "      <td>-0.089482</td>\n",
       "    </tr>\n",
       "    <tr>\n",
       "      <th>4</th>\n",
       "      <td>-1.633984</td>\n",
       "      <td>-1.728131</td>\n",
       "      <td>-0.828035</td>\n",
       "      <td>-0.126355</td>\n",
       "      <td>-0.060057</td>\n",
       "      <td>-0.158643</td>\n",
       "      <td>-18.104095</td>\n",
       "      <td>-1.185669</td>\n",
       "      <td>-0.089482</td>\n",
       "    </tr>\n",
       "    <tr>\n",
       "      <th>...</th>\n",
       "      <td>...</td>\n",
       "      <td>...</td>\n",
       "      <td>...</td>\n",
       "      <td>...</td>\n",
       "      <td>...</td>\n",
       "      <td>...</td>\n",
       "      <td>...</td>\n",
       "      <td>...</td>\n",
       "      <td>...</td>\n",
       "    </tr>\n",
       "    <tr>\n",
       "      <th>494995</th>\n",
       "      <td>0.538489</td>\n",
       "      <td>0.578660</td>\n",
       "      <td>0.091710</td>\n",
       "      <td>-0.126355</td>\n",
       "      <td>-0.060057</td>\n",
       "      <td>-1.176790</td>\n",
       "      <td>0.113652</td>\n",
       "      <td>-0.448892</td>\n",
       "      <td>-0.089482</td>\n",
       "    </tr>\n",
       "    <tr>\n",
       "      <th>494996</th>\n",
       "      <td>0.528309</td>\n",
       "      <td>0.578660</td>\n",
       "      <td>0.091710</td>\n",
       "      <td>-0.126355</td>\n",
       "      <td>-0.060057</td>\n",
       "      <td>-1.176790</td>\n",
       "      <td>0.113652</td>\n",
       "      <td>-0.448892</td>\n",
       "      <td>-0.089482</td>\n",
       "    </tr>\n",
       "    <tr>\n",
       "      <th>494997</th>\n",
       "      <td>0.515865</td>\n",
       "      <td>0.578660</td>\n",
       "      <td>0.091710</td>\n",
       "      <td>-0.126355</td>\n",
       "      <td>-0.060057</td>\n",
       "      <td>-1.176790</td>\n",
       "      <td>0.113652</td>\n",
       "      <td>-0.448892</td>\n",
       "      <td>-0.089482</td>\n",
       "    </tr>\n",
       "    <tr>\n",
       "      <th>494998</th>\n",
       "      <td>0.510209</td>\n",
       "      <td>0.578660</td>\n",
       "      <td>0.091710</td>\n",
       "      <td>-0.126355</td>\n",
       "      <td>-0.060057</td>\n",
       "      <td>-1.176790</td>\n",
       "      <td>0.093240</td>\n",
       "      <td>-0.448892</td>\n",
       "      <td>-0.089482</td>\n",
       "    </tr>\n",
       "    <tr>\n",
       "      <th>494999</th>\n",
       "      <td>0.509078</td>\n",
       "      <td>0.578660</td>\n",
       "      <td>0.091710</td>\n",
       "      <td>-0.126355</td>\n",
       "      <td>-0.060057</td>\n",
       "      <td>-1.176790</td>\n",
       "      <td>0.093240</td>\n",
       "      <td>-0.448892</td>\n",
       "      <td>-0.089482</td>\n",
       "    </tr>\n",
       "  </tbody>\n",
       "</table>\n",
       "<p>495000 rows × 9 columns</p>\n",
       "</div>"
      ],
      "text/plain": [
       "               0         1         2         3         4         5          6  \\\n",
       "0      -1.633984 -1.728131 -0.828035 -0.126355 -0.060057 -0.158643 -18.104095   \n",
       "1      -1.633984 -1.728131 -0.828035 -0.126355 -0.060057 -0.158643 -18.104095   \n",
       "2      -1.633984 -1.728131 -0.828035 -0.126355 -0.060057 -0.158643 -18.104095   \n",
       "3      -1.633984 -1.728131 -0.828035 -0.126355 -0.060057 -0.158643 -18.104095   \n",
       "4      -1.633984 -1.728131 -0.828035 -0.126355 -0.060057 -0.158643 -18.104095   \n",
       "...          ...       ...       ...       ...       ...       ...        ...   \n",
       "494995  0.538489  0.578660  0.091710 -0.126355 -0.060057 -1.176790   0.113652   \n",
       "494996  0.528309  0.578660  0.091710 -0.126355 -0.060057 -1.176790   0.113652   \n",
       "494997  0.515865  0.578660  0.091710 -0.126355 -0.060057 -1.176790   0.113652   \n",
       "494998  0.510209  0.578660  0.091710 -0.126355 -0.060057 -1.176790   0.093240   \n",
       "494999  0.509078  0.578660  0.091710 -0.126355 -0.060057 -1.176790   0.093240   \n",
       "\n",
       "               7         8  \n",
       "0      -1.185669 -0.089482  \n",
       "1      -1.185669 -0.089482  \n",
       "2      -1.185669 -0.089482  \n",
       "3      -1.185669 -0.089482  \n",
       "4      -1.185669 -0.089482  \n",
       "...          ...       ...  \n",
       "494995 -0.448892 -0.089482  \n",
       "494996 -0.448892 -0.089482  \n",
       "494997 -0.448892 -0.089482  \n",
       "494998 -0.448892 -0.089482  \n",
       "494999 -0.448892 -0.089482  \n",
       "\n",
       "[495000 rows x 9 columns]"
      ]
     },
     "execution_count": 22,
     "metadata": {},
     "output_type": "execute_result"
    }
   ],
   "source": [
    "normal"
   ]
  },
  {
   "cell_type": "markdown",
   "metadata": {
    "id": "_i71RFAi9spa"
   },
   "source": [
    "### Attack"
   ]
  },
  {
   "cell_type": "code",
   "execution_count": 23,
   "metadata": {
    "colab": {
     "base_uri": "https://localhost:8080/",
     "height": 87
    },
    "id": "aN_TFp5x9uTE",
    "outputId": "38d7993d-c9a3-461d-c430-ebde697afbc6",
    "scrolled": true
   },
   "outputs": [],
   "source": [
    "#Read data\n",
    "# attack = pd.read_csv(\"input/SWaT_Dataset_Attack_v0.csv\",sep=\",\")#, nrows=1000)\n",
    "attack = pd.read_csv(testdata,sep=\",\")#, nrows=1000)\n",
    "\n",
    "# Create test labels\n",
    "\n",
    "if dataset=='Swat':\n",
    "    # For swat dataset\n",
    "#     labels = [ float(label!= 'Normal' ) for label  in attack[\"Normal/Attack\"].values]\n",
    "    labels = [ float(label!= 'Normal' ) for label  in attack[label_col].values]\n",
    "\n",
    "#For others SMAP, MSL, CC\n",
    "else:\n",
    "    labels = [ float(label!= 0 ) for label  in attack[label_col].values]\n",
    "\n"
   ]
  },
  {
   "cell_type": "code",
   "execution_count": 24,
   "metadata": {
    "scrolled": true
   },
   "outputs": [
    {
     "data": {
      "text/plain": [
       "Normal     395298\n",
       "Attack      54584\n",
       "A ttack        37\n",
       "Name: Normal/Attack, dtype: int64"
      ]
     },
     "execution_count": 24,
     "metadata": {},
     "output_type": "execute_result"
    }
   ],
   "source": [
    "attack[label_col].value_counts()"
   ]
  },
  {
   "cell_type": "code",
   "execution_count": 25,
   "metadata": {},
   "outputs": [
    {
     "data": {
      "text/plain": [
       "54584"
      ]
     },
     "execution_count": 25,
     "metadata": {},
     "output_type": "execute_result"
    }
   ],
   "source": [
    "attack[label_col].value_counts()[1]"
   ]
  },
  {
   "cell_type": "code",
   "execution_count": 26,
   "metadata": {
    "scrolled": true
   },
   "outputs": [
    {
     "data": {
      "text/plain": [
       "(449919, 51)"
      ]
     },
     "execution_count": 26,
     "metadata": {},
     "output_type": "execute_result"
    }
   ],
   "source": [
    "attack = attack.drop([time_col , label_col] , axis = 1)\n",
    "# attack = attack.drop([label_col] , axis = 1)\n",
    "\n",
    "\n",
    "attack.shape"
   ]
  },
  {
   "cell_type": "code",
   "execution_count": 27,
   "metadata": {
    "scrolled": true
   },
   "outputs": [
    {
     "data": {
      "text/plain": [
       "54621"
      ]
     },
     "execution_count": 27,
     "metadata": {},
     "output_type": "execute_result"
    }
   ],
   "source": [
    "labels.count(1)"
   ]
  },
  {
   "cell_type": "code",
   "execution_count": 28,
   "metadata": {},
   "outputs": [
    {
     "data": {
      "text/plain": [
       "449919"
      ]
     },
     "execution_count": 28,
     "metadata": {},
     "output_type": "execute_result"
    }
   ],
   "source": [
    "attack.shape[0]"
   ]
  },
  {
   "cell_type": "markdown",
   "metadata": {},
   "source": [
    "### Test data anomaly percentage "
   ]
  },
  {
   "cell_type": "code",
   "execution_count": 29,
   "metadata": {},
   "outputs": [
    {
     "data": {
      "text/plain": [
       "12.140185233342002"
      ]
     },
     "execution_count": 29,
     "metadata": {},
     "output_type": "execute_result"
    }
   ],
   "source": [
    "anormaly_percentage=labels.count(1)/attack.shape[0]*100\n",
    "anormaly_percentage"
   ]
  },
  {
   "cell_type": "code",
   "execution_count": 30,
   "metadata": {
    "id": "qLCInT-I9_-D",
    "scrolled": true
   },
   "outputs": [],
   "source": [
    "# Transform all columns into float64\n",
    "for i in list(attack):\n",
    "    attack[i]=attack[i].apply(lambda x: str(x).replace(\",\" , \".\"))\n",
    "attack = attack.astype(float)"
   ]
  },
  {
   "cell_type": "code",
   "execution_count": null,
   "metadata": {},
   "outputs": [],
   "source": []
  },
  {
   "cell_type": "code",
   "execution_count": 31,
   "metadata": {},
   "outputs": [],
   "source": [
    "attack = attack[attack.columns.intersection(most_important_names)]"
   ]
  },
  {
   "cell_type": "code",
   "execution_count": 32,
   "metadata": {},
   "outputs": [
    {
     "data": {
      "text/html": [
       "<div>\n",
       "<style scoped>\n",
       "    .dataframe tbody tr th:only-of-type {\n",
       "        vertical-align: middle;\n",
       "    }\n",
       "\n",
       "    .dataframe tbody tr th {\n",
       "        vertical-align: top;\n",
       "    }\n",
       "\n",
       "    .dataframe thead th {\n",
       "        text-align: right;\n",
       "    }\n",
       "</style>\n",
       "<table border=\"1\" class=\"dataframe\">\n",
       "  <thead>\n",
       "    <tr style=\"text-align: right;\">\n",
       "      <th></th>\n",
       "      <th>FIT101</th>\n",
       "      <th>P101</th>\n",
       "      <th>AIT202</th>\n",
       "      <th>MV304</th>\n",
       "      <th>P301</th>\n",
       "      <th>AIT402</th>\n",
       "      <th>FIT401</th>\n",
       "      <th>AIT503</th>\n",
       "      <th>P602</th>\n",
       "    </tr>\n",
       "  </thead>\n",
       "  <tbody>\n",
       "    <tr>\n",
       "      <th>0</th>\n",
       "      <td>2.427057</td>\n",
       "      <td>2.0</td>\n",
       "      <td>8.396437</td>\n",
       "      <td>1.0</td>\n",
       "      <td>1.0</td>\n",
       "      <td>156.0882</td>\n",
       "      <td>1.713517</td>\n",
       "      <td>264.5475</td>\n",
       "      <td>1.0</td>\n",
       "    </tr>\n",
       "    <tr>\n",
       "      <th>1</th>\n",
       "      <td>2.446274</td>\n",
       "      <td>2.0</td>\n",
       "      <td>8.396437</td>\n",
       "      <td>1.0</td>\n",
       "      <td>1.0</td>\n",
       "      <td>156.0882</td>\n",
       "      <td>1.715952</td>\n",
       "      <td>264.5475</td>\n",
       "      <td>1.0</td>\n",
       "    </tr>\n",
       "    <tr>\n",
       "      <th>2</th>\n",
       "      <td>2.489191</td>\n",
       "      <td>2.0</td>\n",
       "      <td>8.394514</td>\n",
       "      <td>1.0</td>\n",
       "      <td>1.0</td>\n",
       "      <td>156.0882</td>\n",
       "      <td>1.715952</td>\n",
       "      <td>264.5475</td>\n",
       "      <td>1.0</td>\n",
       "    </tr>\n",
       "    <tr>\n",
       "      <th>3</th>\n",
       "      <td>2.534350</td>\n",
       "      <td>2.0</td>\n",
       "      <td>8.394514</td>\n",
       "      <td>1.0</td>\n",
       "      <td>1.0</td>\n",
       "      <td>156.0882</td>\n",
       "      <td>1.714670</td>\n",
       "      <td>264.5475</td>\n",
       "      <td>1.0</td>\n",
       "    </tr>\n",
       "    <tr>\n",
       "      <th>4</th>\n",
       "      <td>2.569260</td>\n",
       "      <td>2.0</td>\n",
       "      <td>8.394514</td>\n",
       "      <td>1.0</td>\n",
       "      <td>1.0</td>\n",
       "      <td>156.0882</td>\n",
       "      <td>1.714670</td>\n",
       "      <td>264.5475</td>\n",
       "      <td>1.0</td>\n",
       "    </tr>\n",
       "    <tr>\n",
       "      <th>...</th>\n",
       "      <td>...</td>\n",
       "      <td>...</td>\n",
       "      <td>...</td>\n",
       "      <td>...</td>\n",
       "      <td>...</td>\n",
       "      <td>...</td>\n",
       "      <td>...</td>\n",
       "      <td>...</td>\n",
       "      <td>...</td>\n",
       "    </tr>\n",
       "    <tr>\n",
       "      <th>449914</th>\n",
       "      <td>2.559972</td>\n",
       "      <td>2.0</td>\n",
       "      <td>8.638683</td>\n",
       "      <td>1.0</td>\n",
       "      <td>1.0</td>\n",
       "      <td>145.6037</td>\n",
       "      <td>1.705315</td>\n",
       "      <td>257.1136</td>\n",
       "      <td>1.0</td>\n",
       "    </tr>\n",
       "    <tr>\n",
       "      <th>449915</th>\n",
       "      <td>2.549082</td>\n",
       "      <td>2.0</td>\n",
       "      <td>8.638683</td>\n",
       "      <td>1.0</td>\n",
       "      <td>1.0</td>\n",
       "      <td>145.6037</td>\n",
       "      <td>1.705315</td>\n",
       "      <td>257.1136</td>\n",
       "      <td>1.0</td>\n",
       "    </tr>\n",
       "    <tr>\n",
       "      <th>449916</th>\n",
       "      <td>2.531467</td>\n",
       "      <td>2.0</td>\n",
       "      <td>8.638683</td>\n",
       "      <td>1.0</td>\n",
       "      <td>1.0</td>\n",
       "      <td>145.5524</td>\n",
       "      <td>1.706212</td>\n",
       "      <td>257.1136</td>\n",
       "      <td>1.0</td>\n",
       "    </tr>\n",
       "    <tr>\n",
       "      <th>449917</th>\n",
       "      <td>2.521218</td>\n",
       "      <td>2.0</td>\n",
       "      <td>8.638683</td>\n",
       "      <td>1.0</td>\n",
       "      <td>1.0</td>\n",
       "      <td>145.5524</td>\n",
       "      <td>1.706212</td>\n",
       "      <td>257.1136</td>\n",
       "      <td>1.0</td>\n",
       "    </tr>\n",
       "    <tr>\n",
       "      <th>449918</th>\n",
       "      <td>2.501681</td>\n",
       "      <td>2.0</td>\n",
       "      <td>8.638683</td>\n",
       "      <td>1.0</td>\n",
       "      <td>1.0</td>\n",
       "      <td>145.5524</td>\n",
       "      <td>1.705315</td>\n",
       "      <td>257.1136</td>\n",
       "      <td>1.0</td>\n",
       "    </tr>\n",
       "  </tbody>\n",
       "</table>\n",
       "<p>449919 rows × 9 columns</p>\n",
       "</div>"
      ],
      "text/plain": [
       "          FIT101  P101    AIT202  MV304  P301    AIT402    FIT401    AIT503  \\\n",
       "0       2.427057   2.0  8.396437    1.0   1.0  156.0882  1.713517  264.5475   \n",
       "1       2.446274   2.0  8.396437    1.0   1.0  156.0882  1.715952  264.5475   \n",
       "2       2.489191   2.0  8.394514    1.0   1.0  156.0882  1.715952  264.5475   \n",
       "3       2.534350   2.0  8.394514    1.0   1.0  156.0882  1.714670  264.5475   \n",
       "4       2.569260   2.0  8.394514    1.0   1.0  156.0882  1.714670  264.5475   \n",
       "...          ...   ...       ...    ...   ...       ...       ...       ...   \n",
       "449914  2.559972   2.0  8.638683    1.0   1.0  145.6037  1.705315  257.1136   \n",
       "449915  2.549082   2.0  8.638683    1.0   1.0  145.6037  1.705315  257.1136   \n",
       "449916  2.531467   2.0  8.638683    1.0   1.0  145.5524  1.706212  257.1136   \n",
       "449917  2.521218   2.0  8.638683    1.0   1.0  145.5524  1.706212  257.1136   \n",
       "449918  2.501681   2.0  8.638683    1.0   1.0  145.5524  1.705315  257.1136   \n",
       "\n",
       "        P602  \n",
       "0        1.0  \n",
       "1        1.0  \n",
       "2        1.0  \n",
       "3        1.0  \n",
       "4        1.0  \n",
       "...      ...  \n",
       "449914   1.0  \n",
       "449915   1.0  \n",
       "449916   1.0  \n",
       "449917   1.0  \n",
       "449918   1.0  \n",
       "\n",
       "[449919 rows x 9 columns]"
      ]
     },
     "execution_count": 32,
     "metadata": {},
     "output_type": "execute_result"
    }
   ],
   "source": [
    "attack"
   ]
  },
  {
   "cell_type": "markdown",
   "metadata": {
    "id": "c4cB4v3N-Dhu"
   },
   "source": [
    "#### Normalization"
   ]
  },
  {
   "cell_type": "code",
   "execution_count": 33,
   "metadata": {
    "id": "jZrha9cO-BGK",
    "scrolled": true
   },
   "outputs": [],
   "source": [
    "from sklearn import preprocessing\n",
    "\n",
    "if dataset=='Swat':\n",
    "    x = attack.values \n",
    "    x_scaled = min_max_scaler.transform(x)\n",
    "    attack = pd.DataFrame(x_scaled)"
   ]
  },
  {
   "cell_type": "code",
   "execution_count": 34,
   "metadata": {
    "colab": {
     "base_uri": "https://localhost:8080/",
     "height": 126
    },
    "id": "z9SwiPco-BUa",
    "outputId": "f2507282-c0f9-4253-ece7-0a802b68240f",
    "scrolled": true
   },
   "outputs": [
    {
     "data": {
      "text/html": [
       "<div>\n",
       "<style scoped>\n",
       "    .dataframe tbody tr th:only-of-type {\n",
       "        vertical-align: middle;\n",
       "    }\n",
       "\n",
       "    .dataframe tbody tr th {\n",
       "        vertical-align: top;\n",
       "    }\n",
       "\n",
       "    .dataframe thead th {\n",
       "        text-align: right;\n",
       "    }\n",
       "</style>\n",
       "<table border=\"1\" class=\"dataframe\">\n",
       "  <thead>\n",
       "    <tr style=\"text-align: right;\">\n",
       "      <th></th>\n",
       "      <th>0</th>\n",
       "      <th>1</th>\n",
       "      <th>2</th>\n",
       "      <th>3</th>\n",
       "      <th>4</th>\n",
       "      <th>5</th>\n",
       "      <th>6</th>\n",
       "      <th>7</th>\n",
       "      <th>8</th>\n",
       "    </tr>\n",
       "  </thead>\n",
       "  <tbody>\n",
       "    <tr>\n",
       "      <th>0</th>\n",
       "      <td>0.509078</td>\n",
       "      <td>0.57866</td>\n",
       "      <td>0.09171</td>\n",
       "      <td>-0.126355</td>\n",
       "      <td>-0.060057</td>\n",
       "      <td>-1.17679</td>\n",
       "      <td>0.09324</td>\n",
       "      <td>-0.448892</td>\n",
       "      <td>-0.089482</td>\n",
       "    </tr>\n",
       "    <tr>\n",
       "      <th>1</th>\n",
       "      <td>0.526046</td>\n",
       "      <td>0.57866</td>\n",
       "      <td>0.09171</td>\n",
       "      <td>-0.126355</td>\n",
       "      <td>-0.060057</td>\n",
       "      <td>-1.17679</td>\n",
       "      <td>0.11910</td>\n",
       "      <td>-0.448892</td>\n",
       "      <td>-0.089482</td>\n",
       "    </tr>\n",
       "  </tbody>\n",
       "</table>\n",
       "</div>"
      ],
      "text/plain": [
       "          0        1        2         3         4        5        6         7  \\\n",
       "0  0.509078  0.57866  0.09171 -0.126355 -0.060057 -1.17679  0.09324 -0.448892   \n",
       "1  0.526046  0.57866  0.09171 -0.126355 -0.060057 -1.17679  0.11910 -0.448892   \n",
       "\n",
       "          8  \n",
       "0 -0.089482  \n",
       "1 -0.089482  "
      ]
     },
     "execution_count": 34,
     "metadata": {},
     "output_type": "execute_result"
    }
   ],
   "source": [
    "attack.head(2)"
   ]
  },
  {
   "cell_type": "markdown",
   "metadata": {
    "id": "xXJi503b-j_d"
   },
   "source": [
    "### Windows"
   ]
  },
  {
   "cell_type": "code",
   "execution_count": 35,
   "metadata": {
    "id": "vyplttZa-BRN",
    "scrolled": true
   },
   "outputs": [],
   "source": [
    "window_size=1     #5 ,10 ,30,60"
   ]
  },
  {
   "cell_type": "code",
   "execution_count": 36,
   "metadata": {
    "colab": {
     "base_uri": "https://localhost:8080/",
     "height": 34
    },
    "id": "dzGJMp6Y-BN5",
    "outputId": "2949d278-1313-442c-f06b-275a8c6c6578",
    "scrolled": true
   },
   "outputs": [
    {
     "data": {
      "text/plain": [
       "(494999, 1, 9)"
      ]
     },
     "execution_count": 36,
     "metadata": {},
     "output_type": "execute_result"
    }
   ],
   "source": [
    "windows_normal=normal.values[np.arange(window_size)[None, :] + np.arange(normal.shape[0]-window_size)[:, None]]\n",
    "windows_normal.shape"
   ]
  },
  {
   "cell_type": "code",
   "execution_count": 37,
   "metadata": {
    "colab": {
     "base_uri": "https://localhost:8080/",
     "height": 34
    },
    "id": "17LdB3c8-pRH",
    "outputId": "721059d4-5937-4dd3-d73c-e5d255fc273c",
    "scrolled": true
   },
   "outputs": [
    {
     "data": {
      "text/plain": [
       "(449918, 1, 9)"
      ]
     },
     "execution_count": 37,
     "metadata": {},
     "output_type": "execute_result"
    }
   ],
   "source": [
    "windows_attack=attack.values[np.arange(window_size)[None, :] + np.arange(attack.shape[0]-window_size)[:, None]]\n",
    "windows_attack.shape"
   ]
  },
  {
   "cell_type": "markdown",
   "metadata": {
    "id": "k70ZFxGs-_7m"
   },
   "source": [
    "## Training"
   ]
  },
  {
   "cell_type": "code",
   "execution_count": 38,
   "metadata": {
    "id": "yi9S0SGnDKNc",
    "scrolled": true
   },
   "outputs": [],
   "source": [
    "import torch.utils.data as data_utils\n",
    "\n",
    "BATCH_SIZE =  1000 #1000\n",
    "N_EPOCHS = 100\n",
    "hidden_size = 5 # 10,30,50 \n",
    "\n",
    "w_size=windows_normal.shape[1]*windows_normal.shape[2]\n",
    "z_size= windows_normal.shape[1]*hidden_size\n",
    "\n",
    "windows_normal_train = windows_normal[:int(np.floor(.8 *  windows_normal.shape[0]))]\n",
    "windows_normal_val = windows_normal[int(np.floor(.8 *  windows_normal.shape[0])):int(np.floor(windows_normal.shape[0]))]\n",
    "\n",
    "train_loader = torch.utils.data.DataLoader(data_utils.TensorDataset(\n",
    "    torch.from_numpy(windows_normal_train).float().view(([windows_normal_train.shape[0],w_size]))\n",
    ") , batch_size=BATCH_SIZE, shuffle=False, num_workers=0)\n",
    "\n",
    "val_loader = torch.utils.data.DataLoader(data_utils.TensorDataset(\n",
    "    torch.from_numpy(windows_normal_val).float().view(([windows_normal_val.shape[0],w_size]))\n",
    ") , batch_size=BATCH_SIZE, shuffle=False, num_workers=0)\n",
    "\n",
    "test_loader = torch.utils.data.DataLoader(data_utils.TensorDataset(\n",
    "    torch.from_numpy(windows_attack).float().view(([windows_attack.shape[0],w_size]))\n",
    ") , batch_size=BATCH_SIZE, shuffle=False, num_workers=0)\n",
    "\n",
    "model = UsadModel(w_size, z_size)\n",
    "model = to_device(model,device)"
   ]
  },
  {
   "cell_type": "code",
   "execution_count": 39,
   "metadata": {
    "scrolled": true
   },
   "outputs": [
    {
     "data": {
      "text/plain": [
       "(9, 5)"
      ]
     },
     "execution_count": 39,
     "metadata": {},
     "output_type": "execute_result"
    }
   ],
   "source": [
    "w_size, z_size"
   ]
  },
  {
   "cell_type": "code",
   "execution_count": null,
   "metadata": {
    "scrolled": true
   },
   "outputs": [],
   "source": []
  },
  {
   "cell_type": "code",
   "execution_count": 40,
   "metadata": {
    "colab": {
     "base_uri": "https://localhost:8080/",
     "height": 1000
    },
    "id": "So9yjDPEDObC",
    "outputId": "629bcd13-37b1-4907-ef0d-46d9e3ad5398",
    "scrolled": true
   },
   "outputs": [
    {
     "name": "stdout",
     "output_type": "stream",
     "text": [
      "Epoch [0], val_loss1: 0.6505, val_loss2: 0.6864\n",
      "Epoch [1], val_loss1: 0.6533, val_loss2: -0.0066\n",
      "Epoch [2], val_loss1: 0.6508, val_loss2: -0.2312\n",
      "Epoch [3], val_loss1: 0.6522, val_loss2: -0.3423\n",
      "Epoch [4], val_loss1: 0.6540, val_loss2: -0.4078\n",
      "Epoch [5], val_loss1: 0.6556, val_loss2: -0.4511\n",
      "Epoch [6], val_loss1: 0.6569, val_loss2: -0.4821\n",
      "Epoch [7], val_loss1: 0.6582, val_loss2: -0.5055\n",
      "Epoch [8], val_loss1: 0.6599, val_loss2: -0.5244\n",
      "Epoch [9], val_loss1: 0.6607, val_loss2: -0.5390\n",
      "Epoch [10], val_loss1: 0.6615, val_loss2: -0.5510\n",
      "Epoch [11], val_loss1: 0.6618, val_loss2: -0.5608\n",
      "Epoch [12], val_loss1: 0.6625, val_loss2: -0.5694\n",
      "Epoch [13], val_loss1: 0.6633, val_loss2: -0.5770\n",
      "Epoch [14], val_loss1: 0.6640, val_loss2: -0.5837\n",
      "Epoch [15], val_loss1: 0.6651, val_loss2: -0.5899\n",
      "Epoch [16], val_loss1: 0.6660, val_loss2: -0.5953\n",
      "Epoch [17], val_loss1: 0.6669, val_loss2: -0.6002\n",
      "Epoch [18], val_loss1: 0.6679, val_loss2: -0.6048\n",
      "Epoch [19], val_loss1: 0.6687, val_loss2: -0.6088\n",
      "Epoch [20], val_loss1: 0.6697, val_loss2: -0.6127\n",
      "Epoch [21], val_loss1: 0.6695, val_loss2: -0.6151\n",
      "Epoch [22], val_loss1: 0.6706, val_loss2: -0.6187\n",
      "Epoch [23], val_loss1: 0.6718, val_loss2: -0.6221\n",
      "Epoch [24], val_loss1: 0.6713, val_loss2: -0.6236\n",
      "Epoch [25], val_loss1: 0.6731, val_loss2: -0.6273\n",
      "Epoch [26], val_loss1: 0.6720, val_loss2: -0.6280\n",
      "Epoch [27], val_loss1: 0.6737, val_loss2: -0.6312\n",
      "Epoch [28], val_loss1: 0.6722, val_loss2: -0.6312\n",
      "Epoch [29], val_loss1: 0.6755, val_loss2: -0.6360\n",
      "Epoch [30], val_loss1: 0.6746, val_loss2: -0.6364\n",
      "Epoch [31], val_loss1: 0.6716, val_loss2: -0.6346\n",
      "Epoch [32], val_loss1: 0.6716, val_loss2: -0.6357\n",
      "Epoch [33], val_loss1: 0.6736, val_loss2: -0.6388\n",
      "Epoch [34], val_loss1: 0.6730, val_loss2: -0.6393\n",
      "Epoch [35], val_loss1: 0.6739, val_loss2: -0.6411\n",
      "Epoch [36], val_loss1: 0.6723, val_loss2: -0.6405\n",
      "Epoch [37], val_loss1: 0.6747, val_loss2: -0.6436\n",
      "Epoch [38], val_loss1: 0.6724, val_loss2: -0.6421\n",
      "Epoch [39], val_loss1: 0.6720, val_loss2: -0.6425\n",
      "Epoch [40], val_loss1: 0.6725, val_loss2: -0.6438\n",
      "Epoch [41], val_loss1: 0.6702, val_loss2: -0.6421\n",
      "Epoch [42], val_loss1: 0.6717, val_loss2: -0.6443\n",
      "Epoch [43], val_loss1: 0.6692, val_loss2: -0.6424\n",
      "Epoch [44], val_loss1: 0.6683, val_loss2: -0.6421\n",
      "Epoch [45], val_loss1: 0.6697, val_loss2: -0.6441\n",
      "Epoch [46], val_loss1: 0.6684, val_loss2: -0.6434\n",
      "Epoch [47], val_loss1: 0.6700, val_loss2: -0.6455\n",
      "Epoch [48], val_loss1: 0.6698, val_loss2: -0.6458\n",
      "Epoch [49], val_loss1: 0.6690, val_loss2: -0.6455\n",
      "Epoch [50], val_loss1: 0.6669, val_loss2: -0.6438\n",
      "Epoch [51], val_loss1: 0.6643, val_loss2: -0.6417\n",
      "Epoch [52], val_loss1: 0.6661, val_loss2: -0.6439\n",
      "Epoch [53], val_loss1: 0.6685, val_loss2: -0.6467\n",
      "Epoch [54], val_loss1: 0.6673, val_loss2: -0.6458\n",
      "Epoch [55], val_loss1: 0.6655, val_loss2: -0.6445\n",
      "Epoch [56], val_loss1: 0.6626, val_loss2: -0.6419\n",
      "Epoch [57], val_loss1: 0.6627, val_loss2: -0.6424\n",
      "Epoch [58], val_loss1: 0.6649, val_loss2: -0.6449\n",
      "Epoch [59], val_loss1: 0.6647, val_loss2: -0.6450\n",
      "Epoch [60], val_loss1: 0.6590, val_loss2: -0.6397\n",
      "Epoch [61], val_loss1: 0.6570, val_loss2: -0.6380\n",
      "Epoch [62], val_loss1: 0.6596, val_loss2: -0.6409\n",
      "Epoch [63], val_loss1: 0.6568, val_loss2: -0.6384\n",
      "Epoch [64], val_loss1: 0.6577, val_loss2: -0.6396\n",
      "Epoch [65], val_loss1: 0.6569, val_loss2: -0.6390\n",
      "Epoch [66], val_loss1: 0.6578, val_loss2: -0.6403\n",
      "Epoch [67], val_loss1: 0.6585, val_loss2: -0.6412\n",
      "Epoch [68], val_loss1: 0.6556, val_loss2: -0.6385\n",
      "Epoch [69], val_loss1: 0.6541, val_loss2: -0.6373\n",
      "Epoch [70], val_loss1: 0.6554, val_loss2: -0.6388\n",
      "Epoch [71], val_loss1: 0.6517, val_loss2: -0.6353\n",
      "Epoch [72], val_loss1: 0.6506, val_loss2: -0.6344\n",
      "Epoch [73], val_loss1: 0.6543, val_loss2: -0.6383\n",
      "Epoch [74], val_loss1: 0.6530, val_loss2: -0.6372\n",
      "Epoch [75], val_loss1: 0.6535, val_loss2: -0.6379\n",
      "Epoch [76], val_loss1: 0.6513, val_loss2: -0.6360\n",
      "Epoch [77], val_loss1: 0.6499, val_loss2: -0.6347\n",
      "Epoch [78], val_loss1: 0.6498, val_loss2: -0.6349\n",
      "Epoch [79], val_loss1: 0.6519, val_loss2: -0.6372\n",
      "Epoch [80], val_loss1: 0.6488, val_loss2: -0.6342\n",
      "Epoch [81], val_loss1: 0.6526, val_loss2: -0.6382\n",
      "Epoch [82], val_loss1: 0.6538, val_loss2: -0.6397\n",
      "Epoch [83], val_loss1: 0.6523, val_loss2: -0.6383\n",
      "Epoch [84], val_loss1: 0.6549, val_loss2: -0.6411\n",
      "Epoch [85], val_loss1: 0.6531, val_loss2: -0.6395\n",
      "Epoch [86], val_loss1: 0.6508, val_loss2: -0.6373\n",
      "Epoch [87], val_loss1: 0.6567, val_loss2: -0.6433\n",
      "Epoch [88], val_loss1: 0.6526, val_loss2: -0.6394\n",
      "Epoch [89], val_loss1: 0.6531, val_loss2: -0.6400\n",
      "Epoch [90], val_loss1: 0.6522, val_loss2: -0.6393\n",
      "Epoch [91], val_loss1: 0.6502, val_loss2: -0.6375\n",
      "Epoch [92], val_loss1: 0.6506, val_loss2: -0.6380\n",
      "Epoch [93], val_loss1: 0.6488, val_loss2: -0.6363\n",
      "Epoch [94], val_loss1: 0.6514, val_loss2: -0.6390\n",
      "Epoch [95], val_loss1: 0.6521, val_loss2: -0.6398\n",
      "Epoch [96], val_loss1: 0.6507, val_loss2: -0.6386\n",
      "Epoch [97], val_loss1: 0.6517, val_loss2: -0.6398\n",
      "Epoch [98], val_loss1: 0.6482, val_loss2: -0.6364\n",
      "Epoch [99], val_loss1: 0.6504, val_loss2: -0.6387\n"
     ]
    }
   ],
   "source": [
    "history = training(N_EPOCHS,model,train_loader,val_loader)"
   ]
  },
  {
   "cell_type": "code",
   "execution_count": 41,
   "metadata": {
    "colab": {
     "base_uri": "https://localhost:8080/",
     "height": 295
    },
    "id": "fYwlN0JKVVtN",
    "outputId": "c742ff8b-3b4a-41f5-dd09-effee1be928a",
    "scrolled": false
   },
   "outputs": [
    {
     "data": {
      "image/png": "[encoded data removed]",
      "text/plain": [
       "<Figure size 432x288 with 1 Axes>"
      ]
     },
     "metadata": {
      "needs_background": "light"
     },
     "output_type": "display_data"
    }
   ],
   "source": [
    "plot_history(history)"
   ]
  },
  {
   "cell_type": "code",
   "execution_count": 42,
   "metadata": {
    "id": "ieObNqKYsOzh",
    "scrolled": true
   },
   "outputs": [],
   "source": [
    "torch.save({\n",
    "            'encoder': model.encoder.state_dict(),\n",
    "            'decoder1': model.decoder1.state_dict(),\n",
    "            'decoder2': model.decoder2.state_dict()\n",
    "            }, \"model.pth\")"
   ]
  },
  {
   "cell_type": "code",
   "execution_count": 43,
   "metadata": {
    "scrolled": true
   },
   "outputs": [],
   "source": [
    "# model"
   ]
  },
  {
   "cell_type": "markdown",
   "metadata": {
    "id": "ymhjbmvR_DgJ"
   },
   "source": [
    "## Testing"
   ]
  },
  {
   "cell_type": "code",
   "execution_count": 44,
   "metadata": {
    "colab": {
     "base_uri": "https://localhost:8080/",
     "height": 34
    },
    "id": "b7rbm9wdXKeF",
    "outputId": "076309c7-22be-41f6-f916-5f11cb679672",
    "scrolled": true
   },
   "outputs": [
    {
     "data": {
      "text/plain": [
       "<All keys matched successfully>"
      ]
     },
     "execution_count": 44,
     "metadata": {},
     "output_type": "execute_result"
    }
   ],
   "source": [
    "checkpoint = torch.load(\"model.pth\")\n",
    "\n",
    "model.encoder.load_state_dict(checkpoint['encoder'])\n",
    "model.decoder1.load_state_dict(checkpoint['decoder1'])\n",
    "model.decoder2.load_state_dict(checkpoint['decoder2'])"
   ]
  },
  {
   "cell_type": "code",
   "execution_count": 45,
   "metadata": {
    "id": "Ry1QTp6V2ny4",
    "scrolled": true
   },
   "outputs": [],
   "source": [
    "#                       alpha, beta \n",
    "# results=testing(model,test_loader,0.5,0.5)\n",
    "\n",
    "with torch.no_grad(): results=testing(model,test_loader,0.5,0.5)"
   ]
  },
  {
   "cell_type": "code",
   "execution_count": 46,
   "metadata": {
    "scrolled": true
   },
   "outputs": [
    {
     "data": {
      "text/plain": [
       "450"
      ]
     },
     "execution_count": 46,
     "metadata": {},
     "output_type": "execute_result"
    }
   ],
   "source": [
    "len(results)"
   ]
  },
  {
   "cell_type": "code",
   "execution_count": 47,
   "metadata": {
    "scrolled": true
   },
   "outputs": [],
   "source": [
    "windows_labels=[]\n",
    "for i in range(len(labels)-window_size):\n",
    "    windows_labels.append(list(np.int_(labels[i:i+window_size])))"
   ]
  },
  {
   "cell_type": "code",
   "execution_count": 48,
   "metadata": {
    "scrolled": true
   },
   "outputs": [],
   "source": [
    "y_test = [1.0 if (np.sum(window) > 0) else 0 for window in windows_labels ]"
   ]
  },
  {
   "cell_type": "code",
   "execution_count": 49,
   "metadata": {},
   "outputs": [
    {
     "name": "stdout",
     "output_type": "stream",
     "text": [
      "449918\n"
     ]
    }
   ],
   "source": [
    "print(len(windows_labels))"
   ]
  },
  {
   "cell_type": "code",
   "execution_count": 50,
   "metadata": {},
   "outputs": [
    {
     "data": {
      "text/plain": [
       "395298"
      ]
     },
     "execution_count": 50,
     "metadata": {},
     "output_type": "execute_result"
    }
   ],
   "source": [
    "labels.count(0)\n"
   ]
  },
  {
   "cell_type": "code",
   "execution_count": 51,
   "metadata": {},
   "outputs": [
    {
     "name": "stdout",
     "output_type": "stream",
     "text": [
      "Number of windows :449918\n",
      "Number of windows (abnormal) :54621\n",
      "Number of windows (normal) :395297\n",
      "Abnormal windows (%) :12.14\n"
     ]
    }
   ],
   "source": [
    "num_windows=len(y_test)\n",
    "num_anormal_windows=y_test.count(1)\n",
    "win_anormal_percentage=num_anormal_windows/num_windows*100\n",
    "\n",
    "print('Number of windows :'+ str(len(y_test)))\n",
    "print('Number of windows (abnormal) :'+ str(y_test.count(1)))\n",
    "print('Number of windows (normal) :'+ str(y_test.count(0)))\n",
    "print('Abnormal windows (%) :'+ str(round(win_anormal_percentage,3)))\n"
   ]
  },
  {
   "cell_type": "code",
   "execution_count": 52,
   "metadata": {
    "id": "FSWwxheNvxR7",
    "scrolled": true
   },
   "outputs": [],
   "source": [
    "y_pred=np.concatenate([torch.stack(results[:-1]).flatten().detach().cpu().numpy(),\n",
    "                              results[-1].flatten().detach().cpu().numpy()])"
   ]
  },
  {
   "cell_type": "code",
   "execution_count": 53,
   "metadata": {
    "scrolled": true
   },
   "outputs": [
    {
     "data": {
      "text/plain": [
       "(449918, 449918)"
      ]
     },
     "execution_count": 53,
     "metadata": {},
     "output_type": "execute_result"
    }
   ],
   "source": [
    "len(y_test), len(y_pred)"
   ]
  },
  {
   "cell_type": "code",
   "execution_count": 54,
   "metadata": {
    "colab": {
     "base_uri": "https://localhost:8080/",
     "height": 279
    },
    "id": "bROUyLM93cG3",
    "outputId": "755359d9-d0fb-4deb-b313-d3c2a2465a26",
    "scrolled": true
   },
   "outputs": [
    {
     "data": {
      "image/png": "[encoded data removed]",
      "text/plain": [
       "<Figure size 432x288 with 1 Axes>"
      ]
     },
     "metadata": {
      "needs_background": "light"
     },
     "output_type": "display_data"
    }
   ],
   "source": [
    "threshold=ROC(y_test,y_pred)\n",
    "\n"
   ]
  },
  {
   "cell_type": "code",
   "execution_count": 55,
   "metadata": {
    "scrolled": true
   },
   "outputs": [
    {
     "name": "stdout",
     "output_type": "stream",
     "text": [
      "Threshold :  [1.6699549]\n"
     ]
    }
   ],
   "source": [
    "print('Threshold : ', threshold)"
   ]
  },
  {
   "cell_type": "code",
   "execution_count": 72,
   "metadata": {},
   "outputs": [],
   "source": [
    "threshold= [18]\n",
    "# threshold= [0.305] #Optimal threshold for swat(us)\n",
    "# threshold= [15] #Threshold for Swat for good F1 "
   ]
  },
  {
   "cell_type": "code",
   "execution_count": 73,
   "metadata": {
    "scrolled": true
   },
   "outputs": [],
   "source": [
    "y_pred_ = np.zeros(y_pred.shape[0])"
   ]
  },
  {
   "cell_type": "code",
   "execution_count": 74,
   "metadata": {
    "scrolled": true
   },
   "outputs": [],
   "source": [
    "y_pred_[y_pred >= threshold] = 1"
   ]
  },
  {
   "cell_type": "code",
   "execution_count": 75,
   "metadata": {
    "scrolled": true
   },
   "outputs": [
    {
     "data": {
      "text/plain": [
       "array([0., 0., 0., ..., 0., 0., 0.])"
      ]
     },
     "execution_count": 75,
     "metadata": {},
     "output_type": "execute_result"
    }
   ],
   "source": [
    "y_pred_"
   ]
  },
  {
   "cell_type": "code",
   "execution_count": 76,
   "metadata": {
    "scrolled": true
   },
   "outputs": [
    {
     "data": {
      "text/plain": [
       "array([0., 0., 0., ..., 0., 0., 0.])"
      ]
     },
     "execution_count": 76,
     "metadata": {},
     "output_type": "execute_result"
    }
   ],
   "source": [
    "np.array(y_test)"
   ]
  },
  {
   "cell_type": "code",
   "execution_count": 77,
   "metadata": {
    "scrolled": false
   },
   "outputs": [
    {
     "data": {
      "image/png": "[encoded data removed]",
      "text/plain": [
       "<Figure size 432x288 with 2 Axes>"
      ]
     },
     "metadata": {
      "needs_background": "light"
     },
     "output_type": "display_data"
    }
   ],
   "source": [
    "confusion_matrix(np.array(y_test), y_pred_)"
   ]
  },
  {
   "cell_type": "code",
   "execution_count": 78,
   "metadata": {
    "scrolled": true
   },
   "outputs": [],
   "source": [
    "import sklearn"
   ]
  },
  {
   "cell_type": "code",
   "execution_count": 79,
   "metadata": {
    "scrolled": false
   },
   "outputs": [
    {
     "name": "stdout",
     "output_type": "stream",
     "text": [
      "              precision    recall  f1-score   support\n",
      "\n",
      "         0.0       0.95      1.00      0.97    395297\n",
      "         1.0       0.99      0.61      0.76     54621\n",
      "\n",
      "    accuracy                           0.95    449918\n",
      "   macro avg       0.97      0.80      0.86    449918\n",
      "weighted avg       0.95      0.95      0.95    449918\n",
      "\n"
     ]
    }
   ],
   "source": [
    "print(sklearn.metrics.classification_report(y_test, y_pred_))"
   ]
  },
  {
   "cell_type": "code",
   "execution_count": null,
   "metadata": {},
   "outputs": [],
   "source": []
  },
  {
   "cell_type": "code",
   "execution_count": 80,
   "metadata": {
    "scrolled": false
   },
   "outputs": [
    {
     "data": {
      "image/png": "[encoded data removed]",
      "text/plain": [
       "<Figure size 432x288 with 1 Axes>"
      ]
     },
     "metadata": {
      "needs_background": "light"
     },
     "output_type": "display_data"
    }
   ],
   "source": [
    "plt.plot(y_test)\n",
    "\n",
    "\n",
    "plt.ylim([0,1.2])\n",
    "plt.savefig(\"y_test.png\") \n",
    "plt.show()\n"
   ]
  },
  {
   "cell_type": "code",
   "execution_count": 81,
   "metadata": {},
   "outputs": [],
   "source": [
    "# x=list(range(len(y_test)))\n",
    "x=list(range(len(labels)))\n"
   ]
  },
  {
   "cell_type": "code",
   "execution_count": 82,
   "metadata": {
    "scrolled": true
   },
   "outputs": [
    {
     "data": {
      "image/png": "[encoded data removed]",
      "text/plain": [
       "<Figure size 1600x240 with 1 Axes>"
      ]
     },
     "metadata": {
      "needs_background": "light"
     },
     "output_type": "display_data"
    }
   ],
   "source": [
    "x=list(range(len(labels)))\n",
    "plt.figure(figsize=(20, 3), dpi=80)\n",
    "# plt.plot(x, y_test)\n",
    "plt.plot(x, labels)\n",
    "\n",
    "plt.show()"
   ]
  },
  {
   "cell_type": "code",
   "execution_count": 83,
   "metadata": {},
   "outputs": [
    {
     "data": {
      "image/png": "[encoded data removed]",
      "text/plain": [
       "<Figure size 1440x240 with 1 Axes>"
      ]
     },
     "metadata": {
      "needs_background": "light"
     },
     "output_type": "display_data"
    }
   ],
   "source": [
    "x=list(range(len(y_test)))\n",
    "\n",
    "plt.figure(figsize=(18, 3), dpi=80)\n",
    "\n",
    "plt.plot(x, y_test, label = \"y_test\")\n",
    "plt.plot(x, y_pred_, label = \"y_pred\")\n",
    "\n",
    "plt.legend()\n",
    "plt.show()\n",
    "\n",
    "\n"
   ]
  },
  {
   "cell_type": "code",
   "execution_count": 84,
   "metadata": {},
   "outputs": [
    {
     "data": {
      "image/png": "[encoded data removed]",
      "text/plain": [
       "<Figure size 1152x504 with 2 Axes>"
      ]
     },
     "metadata": {
      "needs_background": "light"
     },
     "output_type": "display_data"
    }
   ],
   "source": [
    "x=list(range(len(y_test)))\n",
    "\n",
    "fig, (ax1, ax2) = plt.subplots(2, figsize=(16,7))\n",
    "\n",
    "fig.suptitle('Test labels and predicted results')\n",
    "ax1.plot(x, y_test, 'b')\n",
    "ax2.plot(x, y_pred_, color='orange')\n",
    "ax1.set_title('Actual Labels')\n",
    "ax2.set_title('Prediction')\n",
    "\n",
    "fig.savefig(\"fig1.png\") "
   ]
  },
  {
   "cell_type": "markdown",
   "metadata": {},
   "source": [
    "### Plot the anomaly score"
   ]
  },
  {
   "cell_type": "code",
   "execution_count": 85,
   "metadata": {},
   "outputs": [
    {
     "data": {
      "image/png": "[encoded data removed]",
      "text/plain": [
       "<Figure size 1280x240 with 1 Axes>"
      ]
     },
     "metadata": {
      "needs_background": "light"
     },
     "output_type": "display_data"
    },
    {
     "data": {
      "text/plain": [
       "<Figure size 432x288 with 0 Axes>"
      ]
     },
     "metadata": {},
     "output_type": "display_data"
    }
   ],
   "source": [
    "plt.figure(figsize=(16, 3), dpi=80)\n",
    "plt.plot(x, y_pred)\n",
    "plt.show()\n",
    "plt.savefig(\"2.png\") "
   ]
  },
  {
   "cell_type": "code",
   "execution_count": 94,
   "metadata": {},
   "outputs": [
    {
     "data": {
      "image/png": "[encoded data removed]",
      "text/plain": [
       "<Figure size 1152x648 with 3 Axes>"
      ]
     },
     "metadata": {
      "needs_background": "light"
     },
     "output_type": "display_data"
    }
   ],
   "source": [
    "x=list(range(len(y_test)))\n",
    "\n",
    "fig, (ax1, ax2, ax3) = plt.subplots(3, figsize=(16,9))\n",
    "\n",
    "fig.suptitle('Test labels and predicted results')\n",
    "ax1.plot(x, y_pred)\n",
    "ax2.plot(x, y_test, 'b')\n",
    "ax3.plot(x, y_pred_, color='orange')\n",
    "\n",
    "ax1.set_title('Anomaly Score')\n",
    "ax2.set_title('Actual Labels')\n",
    "ax3.set_title('Prediction')\n",
    "\n",
    "\n",
    "fig.savefig(\"fig1.png\") "
   ]
  },
  {
   "cell_type": "code",
   "execution_count": null,
   "metadata": {},
   "outputs": [],
   "source": []
  },
  {
   "cell_type": "code",
   "execution_count": null,
   "metadata": {},
   "outputs": [],
   "source": []
  },
  {
   "cell_type": "code",
   "execution_count": 87,
   "metadata": {
    "scrolled": true
   },
   "outputs": [],
   "source": [
    "# report = sklearn.metrics.classification_report(y_test, y_pred_)"
   ]
  },
  {
   "cell_type": "code",
   "execution_count": 88,
   "metadata": {
    "scrolled": true
   },
   "outputs": [],
   "source": [
    "report = sklearn.metrics.classification_report(y_test, y_pred_, output_dict=True)\n"
   ]
  },
  {
   "cell_type": "code",
   "execution_count": 89,
   "metadata": {
    "scrolled": false
   },
   "outputs": [],
   "source": [
    "# accuracy = report[1]\n",
    "# print(report)"
   ]
  },
  {
   "cell_type": "code",
   "execution_count": 90,
   "metadata": {
    "scrolled": false
   },
   "outputs": [],
   "source": [
    "precision =  report['1.0']['precision'] \n",
    "recall = report['1.0']['recall']    \n",
    "f1 = report['1.0']['f1-score']"
   ]
  },
  {
   "cell_type": "code",
   "execution_count": 91,
   "metadata": {},
   "outputs": [
    {
     "name": "stderr",
     "output_type": "stream",
     "text": [
      "\u001b[34m\u001b[1mwandb\u001b[0m: Logging into wandb.ai. (Learn how to deploy a W&B server locally: https://wandb.me/wandb-server)\n",
      "\u001b[34m\u001b[1mwandb\u001b[0m: You can find your API key in your browser here: https://wandb.ai/authorize\n",
      "\u001b[34m\u001b[1mwandb\u001b[0m: Paste an API key from your profile and hit enter, or press ctrl+c to quit:"
     ]
    },
    {
     "name": "stdout",
     "output_type": "stream",
     "text": [
      " ········\n"
     ]
    },
    {
     "name": "stderr",
     "output_type": "stream",
     "text": [
      "\u001b[34m\u001b[1mwandb\u001b[0m: Appending key for api.wandb.ai to your netrc file: /root/.netrc\n"
     ]
    },
    {
     "data": {
      "text/html": [
       "wandb version 0.13.5 is available!  To upgrade, please run:\n",
       " $ pip install wandb --upgrade"
      ],
      "text/plain": [
       "<IPython.core.display.HTML object>"
      ]
     },
     "metadata": {},
     "output_type": "display_data"
    },
    {
     "data": {
      "text/html": [
       "Tracking run with wandb version 0.13.4"
      ],
      "text/plain": [
       "<IPython.core.display.HTML object>"
      ]
     },
     "metadata": {},
     "output_type": "display_data"
    },
    {
     "data": {
      "text/html": [
       "Run data is saved locally in <code>/workspace/usad_final/wandb/run-20221116_065546-2gysc3hd</code>"
      ],
      "text/plain": [
       "<IPython.core.display.HTML object>"
      ]
     },
     "metadata": {},
     "output_type": "display_data"
    },
    {
     "data": {
      "text/html": [
       "Syncing run <strong><a href=\"https://wandb.ai/richardchua/Swat/runs/2gysc3hd\" target=\"_blank\">mild-bee-31</a></strong> to <a href=\"https://wandb.ai/richardchua/Swat\" target=\"_blank\">Weights & Biases</a> (<a href=\"https://wandb.me/run\" target=\"_blank\">docs</a>)<br/>"
      ],
      "text/plain": [
       "<IPython.core.display.HTML object>"
      ]
     },
     "metadata": {},
     "output_type": "display_data"
    },
    {
     "data": {
      "text/html": [
       "<button onClick=\"this.nextSibling.style.display='block';this.style.display='none';\">Display W&B run</button><iframe src=\"https://wandb.ai/richardchua/Swat/runs/2gysc3hd?jupyter=true\" style=\"border:none;width:100%;height:420px;display:none;\"></iframe>"
      ],
      "text/plain": [
       "<wandb.sdk.wandb_run.Run at 0x7f5b54d7ea30>"
      ]
     },
     "execution_count": 91,
     "metadata": {},
     "output_type": "execute_result"
    }
   ],
   "source": [
    "# wandb.init(project=dataset, config={\"epochs\": N_EPOCHS, \"batch_size\": BATCH_SIZE,\\\n",
    "#                                     \"hidden_size\": hidden_size, \"window_size\": window_size,\\\n",
    "#                                     \"dataset\": dataset, \"anomaly\": str(round(anormaly_percentage,3))+'%'})\n",
    "\n",
    "\n",
    "\n",
    "wandb.init(project=dataset, config={\"epochs\": N_EPOCHS,\\\n",
    "                                    \"batch_size\": BATCH_SIZE,\\\n",
    "                                    \"hidden_size\": hidden_size,\\\n",
    "                                    \"window_size\": window_size,\\\n",
    "                                    \"dataset\": dataset,\\\n",
    "                                    \"anomaly\": str(round(anormaly_percentage,3))+'%',\\\n",
    "                                    \"win anomaly\": str(round(win_anormal_percentage,3))+'%',\\\n",
    "\n",
    "                                    })\n",
    "\n",
    "# wandb.init(project='CC_SS', config={\"epochs\": N_EPOCHS,\\\n",
    "#                                     \"batch_size\": BATCH_SIZE,\\\n",
    "#                                     \"hidden_size\": hidden_size,\\\n",
    "#                                     \"window_size\": window_size,\\\n",
    "#                                     \"dataset\": dataset,\\\n",
    "#                                     \"anomaly\": str(round(anormaly_percentage,3))+'%',\\\n",
    "#                                     \"win anomaly\": str(round(win_anormal_percentage,3))+'%',\\\n",
    "#                                     })\n",
    "\n",
    "\n",
    "\n",
    "# remarks='batch size: '+ str(BATCH_SIZE) + ', epoch: '+ str(N_EPOCHS) + ', win_size: '+ str(window_size) + \\\n",
    "# ', hid size: '+ str(hidden_size)\n",
    "\n",
    "\n",
    "\n",
    "\n",
    "#api key ad12641c47042f4b9e35d82ab5a7afab9dfa7629"
   ]
  },
  {
   "cell_type": "code",
   "execution_count": 92,
   "metadata": {
    "scrolled": true
   },
   "outputs": [],
   "source": [
    "wandb.log({\n",
    "    \"Threshold\" : threshold,\n",
    "    \"Precision\" : precision,\n",
    "    \"Recall\" : recall,\n",
    "    \"F1\" : f1,\n",
    "    \"Training Loss\": wandb.Image(\"training_loss.png\"),\n",
    "    \"Confusion Matrix\": wandb.Image(\"CF_heatmap.png\"),\n",
    "    \"Y_test Plot\": wandb.Image(\"y_test.png\"),\n",
    "})\n",
    "\n",
    "# wandb.log({\"Training Loss\": wandb.Image(\"training_loss.png\")})\n",
    "# wandb.log({\"Confusion Matrix\": wandb.Image(\"CF_heatmap.png\")})\n"
   ]
  },
  {
   "cell_type": "code",
   "execution_count": 63,
   "metadata": {
    "scrolled": true
   },
   "outputs": [],
   "source": [
    "# x = {'datetime': datetime.now().strftime(\"%d-%b-%Y, %H:%M:%S\"), 'F1_score': round(f1,2), 'Precision': round(precision,2), 'Recall': round(recall,2), 'Remarks': remarks }\n"
   ]
  },
  {
   "cell_type": "code",
   "execution_count": 93,
   "metadata": {},
   "outputs": [],
   "source": [
    "#Path to save the performance metric result\n",
    "\n",
    "\n",
    "path=os.path.join(os.getcwd(),'result_final')\n",
    "\n",
    "# file_path = os.sep.join([path, 'result_'+dataset+'.json'])\n",
    "file_path = os.sep.join([path, 'result_'+'swat'+'.json'])\n",
    "\n",
    "# print(file_path)\n",
    "\n",
    "\n"
   ]
  },
  {
   "cell_type": "code",
   "execution_count": 65,
   "metadata": {
    "scrolled": true
   },
   "outputs": [],
   "source": [
    "# y = {'datetime': datetime.now().strftime(\"%d-%b-%Y, %H:%M:%S\"), 'F1_score': round(f1,2), 'Precision': round(precision,2), 'Recall': round(recall,2), 'Remarks': remarks }\n",
    "\n",
    "\n",
    "\n",
    "y = {'datetime': datetime.now().strftime(\"%d-%b-%Y, %H:%M:%S\"),\n",
    "     'F1_score': round(f1,2),\n",
    "     'Precision': round(precision,2),\n",
    "     'Recall': round(recall,2),\n",
    "     'Epoch': N_EPOCHS,\n",
    "     'Batch Size': BATCH_SIZE ,\n",
    "     'Win Size': window_size,\n",
    "     'Hidden_size': hidden_size ,\n",
    "     'Threshold': str(threshold[0]),\n",
    "     'Win_anomaly(%)': str(round(win_anormal_percentage,3)),\n",
    "\n",
    "    }\n",
    "\n",
    "\n",
    "\n",
    "\n",
    "if os.path.isfile(file_path): #if an existing file exist in file_path \n",
    "    with open(file_path, 'r+') as f:\n",
    "        file_data = json.load(f)\n",
    "        \n",
    "        if dataset in file_data.keys():\n",
    "            file_data[dataset].append(y)\n",
    "            f.seek(0)\n",
    "        else:\n",
    "            file_data[dataset] = [y]\n",
    "            f.seek(0)\n",
    "            \n",
    "        json.dump(file_data, f, indent=10)\n",
    "else:\n",
    "    with open(file_path, 'w') as f:\n",
    "        file_data = {dataset: [y]}\n",
    "        json.dump(file_data, f, indent=10)    \n",
    "          "
   ]
  },
  {
   "cell_type": "code",
   "execution_count": 66,
   "metadata": {
    "scrolled": true
   },
   "outputs": [
    {
     "data": {
      "text/plain": [
       "'/workspace/result_final/result_swat.json'"
      ]
     },
     "execution_count": 66,
     "metadata": {},
     "output_type": "execute_result"
    }
   ],
   "source": [
    "# file_path = os.sep.join([os.getcwd(), 'result.json'])\n",
    "file_path"
   ]
  },
  {
   "cell_type": "code",
   "execution_count": 67,
   "metadata": {
    "scrolled": true
   },
   "outputs": [
    {
     "data": {
      "text/html": [
       "<div>\n",
       "<style scoped>\n",
       "    .dataframe tbody tr th:only-of-type {\n",
       "        vertical-align: middle;\n",
       "    }\n",
       "\n",
       "    .dataframe tbody tr th {\n",
       "        vertical-align: top;\n",
       "    }\n",
       "\n",
       "    .dataframe thead th {\n",
       "        text-align: right;\n",
       "    }\n",
       "</style>\n",
       "<table border=\"1\" class=\"dataframe\">\n",
       "  <thead>\n",
       "    <tr style=\"text-align: right;\">\n",
       "      <th></th>\n",
       "      <th>datetime</th>\n",
       "      <th>Dataset</th>\n",
       "      <th>F1_score</th>\n",
       "      <th>Precision</th>\n",
       "      <th>Recall</th>\n",
       "      <th>Epoch</th>\n",
       "      <th>Batch Size</th>\n",
       "      <th>Win Size</th>\n",
       "      <th>Hidden_size</th>\n",
       "      <th>Threshold</th>\n",
       "      <th>Win_anomaly(%)</th>\n",
       "    </tr>\n",
       "  </thead>\n",
       "  <tbody>\n",
       "    <tr>\n",
       "      <th>0</th>\n",
       "      <td>06-Nov-2022, 21:51:47</td>\n",
       "      <td>Swat</td>\n",
       "      <td>0.74</td>\n",
       "      <td>0.89</td>\n",
       "      <td>0.64</td>\n",
       "      <td>60</td>\n",
       "      <td>1000</td>\n",
       "      <td>2</td>\n",
       "      <td>1</td>\n",
       "      <td>10</td>\n",
       "      <td>12.148</td>\n",
       "    </tr>\n",
       "    <tr>\n",
       "      <th>1</th>\n",
       "      <td>06-Nov-2022, 22:06:06</td>\n",
       "      <td>Swat</td>\n",
       "      <td>0.74</td>\n",
       "      <td>0.89</td>\n",
       "      <td>0.64</td>\n",
       "      <td>60</td>\n",
       "      <td>1000</td>\n",
       "      <td>2</td>\n",
       "      <td>5</td>\n",
       "      <td>10</td>\n",
       "      <td>12.148</td>\n",
       "    </tr>\n",
       "    <tr>\n",
       "      <th>2</th>\n",
       "      <td>06-Nov-2022, 22:17:27</td>\n",
       "      <td>Swat</td>\n",
       "      <td>0.75</td>\n",
       "      <td>0.91</td>\n",
       "      <td>0.64</td>\n",
       "      <td>60</td>\n",
       "      <td>1000</td>\n",
       "      <td>2</td>\n",
       "      <td>10</td>\n",
       "      <td>10</td>\n",
       "      <td>12.148</td>\n",
       "    </tr>\n",
       "    <tr>\n",
       "      <th>3</th>\n",
       "      <td>06-Nov-2022, 22:29:09</td>\n",
       "      <td>Swat</td>\n",
       "      <td>0.74</td>\n",
       "      <td>0.89</td>\n",
       "      <td>0.64</td>\n",
       "      <td>60</td>\n",
       "      <td>1000</td>\n",
       "      <td>2</td>\n",
       "      <td>20</td>\n",
       "      <td>10</td>\n",
       "      <td>12.148</td>\n",
       "    </tr>\n",
       "    <tr>\n",
       "      <th>4</th>\n",
       "      <td>06-Nov-2022, 07:39:50</td>\n",
       "      <td>Swat</td>\n",
       "      <td>0.75</td>\n",
       "      <td>0.90</td>\n",
       "      <td>0.63</td>\n",
       "      <td>100</td>\n",
       "      <td>1000</td>\n",
       "      <td>20</td>\n",
       "      <td>30</td>\n",
       "      <td>10</td>\n",
       "      <td>12.289</td>\n",
       "    </tr>\n",
       "    <tr>\n",
       "      <th>5</th>\n",
       "      <td>06-Nov-2022, 08:00:28</td>\n",
       "      <td>Swat</td>\n",
       "      <td>0.75</td>\n",
       "      <td>0.90</td>\n",
       "      <td>0.63</td>\n",
       "      <td>100</td>\n",
       "      <td>1000</td>\n",
       "      <td>20</td>\n",
       "      <td>20</td>\n",
       "      <td>10</td>\n",
       "      <td>12.289</td>\n",
       "    </tr>\n",
       "    <tr>\n",
       "      <th>6</th>\n",
       "      <td>06-Nov-2022, 08:19:16</td>\n",
       "      <td>Swat</td>\n",
       "      <td>0.75</td>\n",
       "      <td>0.91</td>\n",
       "      <td>0.63</td>\n",
       "      <td>100</td>\n",
       "      <td>1000</td>\n",
       "      <td>20</td>\n",
       "      <td>10</td>\n",
       "      <td>10</td>\n",
       "      <td>12.289</td>\n",
       "    </tr>\n",
       "    <tr>\n",
       "      <th>7</th>\n",
       "      <td>06-Nov-2022, 11:18:28</td>\n",
       "      <td>Swat</td>\n",
       "      <td>0.74</td>\n",
       "      <td>0.90</td>\n",
       "      <td>0.63</td>\n",
       "      <td>100</td>\n",
       "      <td>1000</td>\n",
       "      <td>20</td>\n",
       "      <td>5</td>\n",
       "      <td>10</td>\n",
       "      <td>12.289</td>\n",
       "    </tr>\n",
       "    <tr>\n",
       "      <th>8</th>\n",
       "      <td>04-Nov-2022, 03:26:01</td>\n",
       "      <td>Swat</td>\n",
       "      <td>0.74</td>\n",
       "      <td>0.90</td>\n",
       "      <td>0.63</td>\n",
       "      <td>60</td>\n",
       "      <td>1000</td>\n",
       "      <td>20</td>\n",
       "      <td>20</td>\n",
       "      <td>10</td>\n",
       "      <td>12.289</td>\n",
       "    </tr>\n",
       "    <tr>\n",
       "      <th>9</th>\n",
       "      <td>04-Nov-2022, 03:39:29</td>\n",
       "      <td>Swat</td>\n",
       "      <td>0.75</td>\n",
       "      <td>0.90</td>\n",
       "      <td>0.64</td>\n",
       "      <td>60</td>\n",
       "      <td>1000</td>\n",
       "      <td>10</td>\n",
       "      <td>20</td>\n",
       "      <td>10</td>\n",
       "      <td>12.21</td>\n",
       "    </tr>\n",
       "    <tr>\n",
       "      <th>10</th>\n",
       "      <td>04-Nov-2022, 03:59:01</td>\n",
       "      <td>Swat</td>\n",
       "      <td>0.75</td>\n",
       "      <td>0.91</td>\n",
       "      <td>0.64</td>\n",
       "      <td>60</td>\n",
       "      <td>1000</td>\n",
       "      <td>5</td>\n",
       "      <td>20</td>\n",
       "      <td>10</td>\n",
       "      <td>12.171</td>\n",
       "    </tr>\n",
       "    <tr>\n",
       "      <th>11</th>\n",
       "      <td>04-Nov-2022, 05:17:26</td>\n",
       "      <td>Swat</td>\n",
       "      <td>0.75</td>\n",
       "      <td>0.90</td>\n",
       "      <td>0.64</td>\n",
       "      <td>60</td>\n",
       "      <td>1000</td>\n",
       "      <td>3</td>\n",
       "      <td>20</td>\n",
       "      <td>10</td>\n",
       "      <td>12.156</td>\n",
       "    </tr>\n",
       "    <tr>\n",
       "      <th>12</th>\n",
       "      <td>04-Nov-2022, 07:17:19</td>\n",
       "      <td>Swat</td>\n",
       "      <td>0.75</td>\n",
       "      <td>0.89</td>\n",
       "      <td>0.64</td>\n",
       "      <td>60</td>\n",
       "      <td>1000</td>\n",
       "      <td>1</td>\n",
       "      <td>20</td>\n",
       "      <td>10</td>\n",
       "      <td>12.14</td>\n",
       "    </tr>\n",
       "    <tr>\n",
       "      <th>13</th>\n",
       "      <td>04-Nov-2022, 12:00:46</td>\n",
       "      <td>Swat</td>\n",
       "      <td>0.75</td>\n",
       "      <td>0.91</td>\n",
       "      <td>0.64</td>\n",
       "      <td>60</td>\n",
       "      <td>1000</td>\n",
       "      <td>1</td>\n",
       "      <td>10</td>\n",
       "      <td>10.5</td>\n",
       "      <td>12.14</td>\n",
       "    </tr>\n",
       "    <tr>\n",
       "      <th>14</th>\n",
       "      <td>04-Nov-2022, 12:13:47</td>\n",
       "      <td>Swat</td>\n",
       "      <td>0.75</td>\n",
       "      <td>0.92</td>\n",
       "      <td>0.64</td>\n",
       "      <td>60</td>\n",
       "      <td>1000</td>\n",
       "      <td>1</td>\n",
       "      <td>5</td>\n",
       "      <td>10.5</td>\n",
       "      <td>12.14</td>\n",
       "    </tr>\n",
       "    <tr>\n",
       "      <th>15</th>\n",
       "      <td>06-Nov-2022, 07:01:49</td>\n",
       "      <td>Swat</td>\n",
       "      <td>0.75</td>\n",
       "      <td>0.92</td>\n",
       "      <td>0.63</td>\n",
       "      <td>100</td>\n",
       "      <td>1000</td>\n",
       "      <td>20</td>\n",
       "      <td>30</td>\n",
       "      <td>10.5</td>\n",
       "      <td>12.289</td>\n",
       "    </tr>\n",
       "    <tr>\n",
       "      <th>16</th>\n",
       "      <td>06-Nov-2022, 07:06:06</td>\n",
       "      <td>Swat</td>\n",
       "      <td>0.74</td>\n",
       "      <td>0.90</td>\n",
       "      <td>0.63</td>\n",
       "      <td>100</td>\n",
       "      <td>1000</td>\n",
       "      <td>20</td>\n",
       "      <td>30</td>\n",
       "      <td>10</td>\n",
       "      <td>12.289</td>\n",
       "    </tr>\n",
       "    <tr>\n",
       "      <th>17</th>\n",
       "      <td>06-Nov-2022, 20:55:55</td>\n",
       "      <td>Swat</td>\n",
       "      <td>0.75</td>\n",
       "      <td>0.90</td>\n",
       "      <td>0.63</td>\n",
       "      <td>100</td>\n",
       "      <td>1000</td>\n",
       "      <td>20</td>\n",
       "      <td>3</td>\n",
       "      <td>10</td>\n",
       "      <td>12.289</td>\n",
       "    </tr>\n",
       "    <tr>\n",
       "      <th>18</th>\n",
       "      <td>06-Nov-2022, 21:14:19</td>\n",
       "      <td>Swat</td>\n",
       "      <td>0.75</td>\n",
       "      <td>0.91</td>\n",
       "      <td>0.63</td>\n",
       "      <td>100</td>\n",
       "      <td>1000</td>\n",
       "      <td>20</td>\n",
       "      <td>1</td>\n",
       "      <td>10</td>\n",
       "      <td>12.289</td>\n",
       "    </tr>\n",
       "    <tr>\n",
       "      <th>19</th>\n",
       "      <td>06-Nov-2022, 21:35:56</td>\n",
       "      <td>Swat</td>\n",
       "      <td>0.75</td>\n",
       "      <td>0.90</td>\n",
       "      <td>0.64</td>\n",
       "      <td>80</td>\n",
       "      <td>1000</td>\n",
       "      <td>5</td>\n",
       "      <td>1</td>\n",
       "      <td>10</td>\n",
       "      <td>12.171</td>\n",
       "    </tr>\n",
       "    <tr>\n",
       "      <th>20</th>\n",
       "      <td>04-Nov-2022, 12:51:37</td>\n",
       "      <td>Swat(us)</td>\n",
       "      <td>0.73</td>\n",
       "      <td>0.93</td>\n",
       "      <td>0.60</td>\n",
       "      <td>60</td>\n",
       "      <td>1000</td>\n",
       "      <td>1</td>\n",
       "      <td>5</td>\n",
       "      <td>0.3</td>\n",
       "      <td>12.209</td>\n",
       "    </tr>\n",
       "    <tr>\n",
       "      <th>21</th>\n",
       "      <td>04-Nov-2022, 13:07:09</td>\n",
       "      <td>Swat(us)</td>\n",
       "      <td>0.71</td>\n",
       "      <td>0.88</td>\n",
       "      <td>0.60</td>\n",
       "      <td>60</td>\n",
       "      <td>1000</td>\n",
       "      <td>1</td>\n",
       "      <td>10</td>\n",
       "      <td>0.305</td>\n",
       "      <td>12.209</td>\n",
       "    </tr>\n",
       "    <tr>\n",
       "      <th>22</th>\n",
       "      <td>04-Nov-2022, 13:21:00</td>\n",
       "      <td>Swat(us)</td>\n",
       "      <td>0.72</td>\n",
       "      <td>0.91</td>\n",
       "      <td>0.60</td>\n",
       "      <td>60</td>\n",
       "      <td>1000</td>\n",
       "      <td>1</td>\n",
       "      <td>20</td>\n",
       "      <td>0.305</td>\n",
       "      <td>12.209</td>\n",
       "    </tr>\n",
       "    <tr>\n",
       "      <th>23</th>\n",
       "      <td>07-Nov-2022, 03:30:09</td>\n",
       "      <td>Swat(us)</td>\n",
       "      <td>0.73</td>\n",
       "      <td>0.98</td>\n",
       "      <td>0.59</td>\n",
       "      <td>60</td>\n",
       "      <td>1000</td>\n",
       "      <td>3</td>\n",
       "      <td>5</td>\n",
       "      <td>0.305</td>\n",
       "      <td>12.366</td>\n",
       "    </tr>\n",
       "    <tr>\n",
       "      <th>24</th>\n",
       "      <td>07-Nov-2022, 03:34:58</td>\n",
       "      <td>Swat(us)</td>\n",
       "      <td>0.73</td>\n",
       "      <td>0.97</td>\n",
       "      <td>0.59</td>\n",
       "      <td>60</td>\n",
       "      <td>1000</td>\n",
       "      <td>3</td>\n",
       "      <td>10</td>\n",
       "      <td>0.305</td>\n",
       "      <td>12.366</td>\n",
       "    </tr>\n",
       "    <tr>\n",
       "      <th>25</th>\n",
       "      <td>07-Nov-2022, 03:41:44</td>\n",
       "      <td>Swat(us)</td>\n",
       "      <td>0.73</td>\n",
       "      <td>0.98</td>\n",
       "      <td>0.59</td>\n",
       "      <td>60</td>\n",
       "      <td>1000</td>\n",
       "      <td>3</td>\n",
       "      <td>20</td>\n",
       "      <td>0.305</td>\n",
       "      <td>12.366</td>\n",
       "    </tr>\n",
       "  </tbody>\n",
       "</table>\n",
       "</div>"
      ],
      "text/plain": [
       "                 datetime   Dataset  F1_score  Precision  Recall  Epoch  \\\n",
       "0   06-Nov-2022, 21:51:47      Swat      0.74       0.89    0.64     60   \n",
       "1   06-Nov-2022, 22:06:06      Swat      0.74       0.89    0.64     60   \n",
       "2   06-Nov-2022, 22:17:27      Swat      0.75       0.91    0.64     60   \n",
       "3   06-Nov-2022, 22:29:09      Swat      0.74       0.89    0.64     60   \n",
       "4   06-Nov-2022, 07:39:50      Swat      0.75       0.90    0.63    100   \n",
       "5   06-Nov-2022, 08:00:28      Swat      0.75       0.90    0.63    100   \n",
       "6   06-Nov-2022, 08:19:16      Swat      0.75       0.91    0.63    100   \n",
       "7   06-Nov-2022, 11:18:28      Swat      0.74       0.90    0.63    100   \n",
       "8   04-Nov-2022, 03:26:01      Swat      0.74       0.90    0.63     60   \n",
       "9   04-Nov-2022, 03:39:29      Swat      0.75       0.90    0.64     60   \n",
       "10  04-Nov-2022, 03:59:01      Swat      0.75       0.91    0.64     60   \n",
       "11  04-Nov-2022, 05:17:26      Swat      0.75       0.90    0.64     60   \n",
       "12  04-Nov-2022, 07:17:19      Swat      0.75       0.89    0.64     60   \n",
       "13  04-Nov-2022, 12:00:46      Swat      0.75       0.91    0.64     60   \n",
       "14  04-Nov-2022, 12:13:47      Swat      0.75       0.92    0.64     60   \n",
       "15  06-Nov-2022, 07:01:49      Swat      0.75       0.92    0.63    100   \n",
       "16  06-Nov-2022, 07:06:06      Swat      0.74       0.90    0.63    100   \n",
       "17  06-Nov-2022, 20:55:55      Swat      0.75       0.90    0.63    100   \n",
       "18  06-Nov-2022, 21:14:19      Swat      0.75       0.91    0.63    100   \n",
       "19  06-Nov-2022, 21:35:56      Swat      0.75       0.90    0.64     80   \n",
       "20  04-Nov-2022, 12:51:37  Swat(us)      0.73       0.93    0.60     60   \n",
       "21  04-Nov-2022, 13:07:09  Swat(us)      0.71       0.88    0.60     60   \n",
       "22  04-Nov-2022, 13:21:00  Swat(us)      0.72       0.91    0.60     60   \n",
       "23  07-Nov-2022, 03:30:09  Swat(us)      0.73       0.98    0.59     60   \n",
       "24  07-Nov-2022, 03:34:58  Swat(us)      0.73       0.97    0.59     60   \n",
       "25  07-Nov-2022, 03:41:44  Swat(us)      0.73       0.98    0.59     60   \n",
       "\n",
       "    Batch Size  Win Size  Hidden_size Threshold Win_anomaly(%)  \n",
       "0         1000         2            1        10         12.148  \n",
       "1         1000         2            5        10         12.148  \n",
       "2         1000         2           10        10         12.148  \n",
       "3         1000         2           20        10         12.148  \n",
       "4         1000        20           30        10         12.289  \n",
       "5         1000        20           20        10         12.289  \n",
       "6         1000        20           10        10         12.289  \n",
       "7         1000        20            5        10         12.289  \n",
       "8         1000        20           20        10         12.289  \n",
       "9         1000        10           20        10          12.21  \n",
       "10        1000         5           20        10         12.171  \n",
       "11        1000         3           20        10         12.156  \n",
       "12        1000         1           20        10          12.14  \n",
       "13        1000         1           10      10.5          12.14  \n",
       "14        1000         1            5      10.5          12.14  \n",
       "15        1000        20           30      10.5         12.289  \n",
       "16        1000        20           30        10         12.289  \n",
       "17        1000        20            3        10         12.289  \n",
       "18        1000        20            1        10         12.289  \n",
       "19        1000         5            1        10         12.171  \n",
       "20        1000         1            5       0.3         12.209  \n",
       "21        1000         1           10     0.305         12.209  \n",
       "22        1000         1           20     0.305         12.209  \n",
       "23        1000         3            5     0.305         12.366  \n",
       "24        1000         3           10     0.305         12.366  \n",
       "25        1000         3           20     0.305         12.366  "
      ]
     },
     "execution_count": 67,
     "metadata": {},
     "output_type": "execute_result"
    }
   ],
   "source": [
    "with open(file_path, 'r') as f:\n",
    "    data = json.load(f)\n",
    "\n",
    "temp = []\n",
    "for k in data.keys():\n",
    "    df = pd.json_normalize(data[k])\n",
    "    df.insert(1, 'Dataset', k)\n",
    "    temp.append(df)\n",
    "\n",
    "df1 = pd.concat(temp, axis=0).reset_index(drop=True)\n",
    "df1"
   ]
  },
  {
   "cell_type": "code",
   "execution_count": null,
   "metadata": {},
   "outputs": [],
   "source": []
  },
  {
   "cell_type": "code",
   "execution_count": null,
   "metadata": {},
   "outputs": [],
   "source": []
  },
  {
   "cell_type": "code",
   "execution_count": 68,
   "metadata": {
    "scrolled": true
   },
   "outputs": [
    {
     "data": {
      "text/html": [
       "<div>\n",
       "<style scoped>\n",
       "    .dataframe tbody tr th:only-of-type {\n",
       "        vertical-align: middle;\n",
       "    }\n",
       "\n",
       "    .dataframe tbody tr th {\n",
       "        vertical-align: top;\n",
       "    }\n",
       "\n",
       "    .dataframe thead th {\n",
       "        text-align: right;\n",
       "    }\n",
       "</style>\n",
       "<table border=\"1\" class=\"dataframe\">\n",
       "  <thead>\n",
       "    <tr style=\"text-align: right;\">\n",
       "      <th></th>\n",
       "      <th>datetime</th>\n",
       "      <th>Dataset</th>\n",
       "      <th>F1_score</th>\n",
       "      <th>Precision</th>\n",
       "      <th>Recall</th>\n",
       "      <th>Epoch</th>\n",
       "      <th>Batch Size</th>\n",
       "      <th>Win Size</th>\n",
       "      <th>Hidden_size</th>\n",
       "      <th>Threshold</th>\n",
       "      <th>Win_anomaly(%)</th>\n",
       "    </tr>\n",
       "  </thead>\n",
       "  <tbody>\n",
       "    <tr>\n",
       "      <th>0</th>\n",
       "      <td>06-Nov-2022, 21:51:47</td>\n",
       "      <td>Swat</td>\n",
       "      <td>0.74</td>\n",
       "      <td>0.89</td>\n",
       "      <td>0.64</td>\n",
       "      <td>60</td>\n",
       "      <td>1000</td>\n",
       "      <td>2</td>\n",
       "      <td>1</td>\n",
       "      <td>10</td>\n",
       "      <td>12.148</td>\n",
       "    </tr>\n",
       "    <tr>\n",
       "      <th>1</th>\n",
       "      <td>06-Nov-2022, 22:06:06</td>\n",
       "      <td>Swat</td>\n",
       "      <td>0.74</td>\n",
       "      <td>0.89</td>\n",
       "      <td>0.64</td>\n",
       "      <td>60</td>\n",
       "      <td>1000</td>\n",
       "      <td>2</td>\n",
       "      <td>5</td>\n",
       "      <td>10</td>\n",
       "      <td>12.148</td>\n",
       "    </tr>\n",
       "    <tr>\n",
       "      <th>2</th>\n",
       "      <td>06-Nov-2022, 22:17:27</td>\n",
       "      <td>Swat</td>\n",
       "      <td>0.75</td>\n",
       "      <td>0.91</td>\n",
       "      <td>0.64</td>\n",
       "      <td>60</td>\n",
       "      <td>1000</td>\n",
       "      <td>2</td>\n",
       "      <td>10</td>\n",
       "      <td>10</td>\n",
       "      <td>12.148</td>\n",
       "    </tr>\n",
       "    <tr>\n",
       "      <th>3</th>\n",
       "      <td>06-Nov-2022, 22:29:09</td>\n",
       "      <td>Swat</td>\n",
       "      <td>0.74</td>\n",
       "      <td>0.89</td>\n",
       "      <td>0.64</td>\n",
       "      <td>60</td>\n",
       "      <td>1000</td>\n",
       "      <td>2</td>\n",
       "      <td>20</td>\n",
       "      <td>10</td>\n",
       "      <td>12.148</td>\n",
       "    </tr>\n",
       "    <tr>\n",
       "      <th>4</th>\n",
       "      <td>06-Nov-2022, 07:39:50</td>\n",
       "      <td>Swat</td>\n",
       "      <td>0.75</td>\n",
       "      <td>0.90</td>\n",
       "      <td>0.63</td>\n",
       "      <td>100</td>\n",
       "      <td>1000</td>\n",
       "      <td>20</td>\n",
       "      <td>30</td>\n",
       "      <td>10</td>\n",
       "      <td>12.289</td>\n",
       "    </tr>\n",
       "    <tr>\n",
       "      <th>5</th>\n",
       "      <td>06-Nov-2022, 08:00:28</td>\n",
       "      <td>Swat</td>\n",
       "      <td>0.75</td>\n",
       "      <td>0.90</td>\n",
       "      <td>0.63</td>\n",
       "      <td>100</td>\n",
       "      <td>1000</td>\n",
       "      <td>20</td>\n",
       "      <td>20</td>\n",
       "      <td>10</td>\n",
       "      <td>12.289</td>\n",
       "    </tr>\n",
       "    <tr>\n",
       "      <th>6</th>\n",
       "      <td>06-Nov-2022, 08:19:16</td>\n",
       "      <td>Swat</td>\n",
       "      <td>0.75</td>\n",
       "      <td>0.91</td>\n",
       "      <td>0.63</td>\n",
       "      <td>100</td>\n",
       "      <td>1000</td>\n",
       "      <td>20</td>\n",
       "      <td>10</td>\n",
       "      <td>10</td>\n",
       "      <td>12.289</td>\n",
       "    </tr>\n",
       "    <tr>\n",
       "      <th>7</th>\n",
       "      <td>06-Nov-2022, 11:18:28</td>\n",
       "      <td>Swat</td>\n",
       "      <td>0.74</td>\n",
       "      <td>0.90</td>\n",
       "      <td>0.63</td>\n",
       "      <td>100</td>\n",
       "      <td>1000</td>\n",
       "      <td>20</td>\n",
       "      <td>5</td>\n",
       "      <td>10</td>\n",
       "      <td>12.289</td>\n",
       "    </tr>\n",
       "    <tr>\n",
       "      <th>8</th>\n",
       "      <td>04-Nov-2022, 03:26:01</td>\n",
       "      <td>Swat</td>\n",
       "      <td>0.74</td>\n",
       "      <td>0.90</td>\n",
       "      <td>0.63</td>\n",
       "      <td>60</td>\n",
       "      <td>1000</td>\n",
       "      <td>20</td>\n",
       "      <td>20</td>\n",
       "      <td>10</td>\n",
       "      <td>12.289</td>\n",
       "    </tr>\n",
       "    <tr>\n",
       "      <th>9</th>\n",
       "      <td>04-Nov-2022, 03:39:29</td>\n",
       "      <td>Swat</td>\n",
       "      <td>0.75</td>\n",
       "      <td>0.90</td>\n",
       "      <td>0.64</td>\n",
       "      <td>60</td>\n",
       "      <td>1000</td>\n",
       "      <td>10</td>\n",
       "      <td>20</td>\n",
       "      <td>10</td>\n",
       "      <td>12.21</td>\n",
       "    </tr>\n",
       "    <tr>\n",
       "      <th>10</th>\n",
       "      <td>04-Nov-2022, 03:59:01</td>\n",
       "      <td>Swat</td>\n",
       "      <td>0.75</td>\n",
       "      <td>0.91</td>\n",
       "      <td>0.64</td>\n",
       "      <td>60</td>\n",
       "      <td>1000</td>\n",
       "      <td>5</td>\n",
       "      <td>20</td>\n",
       "      <td>10</td>\n",
       "      <td>12.171</td>\n",
       "    </tr>\n",
       "    <tr>\n",
       "      <th>11</th>\n",
       "      <td>04-Nov-2022, 05:17:26</td>\n",
       "      <td>Swat</td>\n",
       "      <td>0.75</td>\n",
       "      <td>0.90</td>\n",
       "      <td>0.64</td>\n",
       "      <td>60</td>\n",
       "      <td>1000</td>\n",
       "      <td>3</td>\n",
       "      <td>20</td>\n",
       "      <td>10</td>\n",
       "      <td>12.156</td>\n",
       "    </tr>\n",
       "    <tr>\n",
       "      <th>12</th>\n",
       "      <td>04-Nov-2022, 07:17:19</td>\n",
       "      <td>Swat</td>\n",
       "      <td>0.75</td>\n",
       "      <td>0.89</td>\n",
       "      <td>0.64</td>\n",
       "      <td>60</td>\n",
       "      <td>1000</td>\n",
       "      <td>1</td>\n",
       "      <td>20</td>\n",
       "      <td>10</td>\n",
       "      <td>12.14</td>\n",
       "    </tr>\n",
       "    <tr>\n",
       "      <th>13</th>\n",
       "      <td>04-Nov-2022, 12:00:46</td>\n",
       "      <td>Swat</td>\n",
       "      <td>0.75</td>\n",
       "      <td>0.91</td>\n",
       "      <td>0.64</td>\n",
       "      <td>60</td>\n",
       "      <td>1000</td>\n",
       "      <td>1</td>\n",
       "      <td>10</td>\n",
       "      <td>10.5</td>\n",
       "      <td>12.14</td>\n",
       "    </tr>\n",
       "    <tr>\n",
       "      <th>14</th>\n",
       "      <td>04-Nov-2022, 12:13:47</td>\n",
       "      <td>Swat</td>\n",
       "      <td>0.75</td>\n",
       "      <td>0.92</td>\n",
       "      <td>0.64</td>\n",
       "      <td>60</td>\n",
       "      <td>1000</td>\n",
       "      <td>1</td>\n",
       "      <td>5</td>\n",
       "      <td>10.5</td>\n",
       "      <td>12.14</td>\n",
       "    </tr>\n",
       "    <tr>\n",
       "      <th>15</th>\n",
       "      <td>06-Nov-2022, 07:01:49</td>\n",
       "      <td>Swat</td>\n",
       "      <td>0.75</td>\n",
       "      <td>0.92</td>\n",
       "      <td>0.63</td>\n",
       "      <td>100</td>\n",
       "      <td>1000</td>\n",
       "      <td>20</td>\n",
       "      <td>30</td>\n",
       "      <td>10.5</td>\n",
       "      <td>12.289</td>\n",
       "    </tr>\n",
       "    <tr>\n",
       "      <th>16</th>\n",
       "      <td>06-Nov-2022, 07:06:06</td>\n",
       "      <td>Swat</td>\n",
       "      <td>0.74</td>\n",
       "      <td>0.90</td>\n",
       "      <td>0.63</td>\n",
       "      <td>100</td>\n",
       "      <td>1000</td>\n",
       "      <td>20</td>\n",
       "      <td>30</td>\n",
       "      <td>10</td>\n",
       "      <td>12.289</td>\n",
       "    </tr>\n",
       "    <tr>\n",
       "      <th>17</th>\n",
       "      <td>06-Nov-2022, 20:55:55</td>\n",
       "      <td>Swat</td>\n",
       "      <td>0.75</td>\n",
       "      <td>0.90</td>\n",
       "      <td>0.63</td>\n",
       "      <td>100</td>\n",
       "      <td>1000</td>\n",
       "      <td>20</td>\n",
       "      <td>3</td>\n",
       "      <td>10</td>\n",
       "      <td>12.289</td>\n",
       "    </tr>\n",
       "    <tr>\n",
       "      <th>18</th>\n",
       "      <td>06-Nov-2022, 21:14:19</td>\n",
       "      <td>Swat</td>\n",
       "      <td>0.75</td>\n",
       "      <td>0.91</td>\n",
       "      <td>0.63</td>\n",
       "      <td>100</td>\n",
       "      <td>1000</td>\n",
       "      <td>20</td>\n",
       "      <td>1</td>\n",
       "      <td>10</td>\n",
       "      <td>12.289</td>\n",
       "    </tr>\n",
       "    <tr>\n",
       "      <th>19</th>\n",
       "      <td>06-Nov-2022, 21:35:56</td>\n",
       "      <td>Swat</td>\n",
       "      <td>0.75</td>\n",
       "      <td>0.90</td>\n",
       "      <td>0.64</td>\n",
       "      <td>80</td>\n",
       "      <td>1000</td>\n",
       "      <td>5</td>\n",
       "      <td>1</td>\n",
       "      <td>10</td>\n",
       "      <td>12.171</td>\n",
       "    </tr>\n",
       "    <tr>\n",
       "      <th>20</th>\n",
       "      <td>04-Nov-2022, 12:51:37</td>\n",
       "      <td>Swat(us)</td>\n",
       "      <td>0.73</td>\n",
       "      <td>0.93</td>\n",
       "      <td>0.60</td>\n",
       "      <td>60</td>\n",
       "      <td>1000</td>\n",
       "      <td>1</td>\n",
       "      <td>5</td>\n",
       "      <td>0.3</td>\n",
       "      <td>12.209</td>\n",
       "    </tr>\n",
       "    <tr>\n",
       "      <th>21</th>\n",
       "      <td>04-Nov-2022, 13:07:09</td>\n",
       "      <td>Swat(us)</td>\n",
       "      <td>0.71</td>\n",
       "      <td>0.88</td>\n",
       "      <td>0.60</td>\n",
       "      <td>60</td>\n",
       "      <td>1000</td>\n",
       "      <td>1</td>\n",
       "      <td>10</td>\n",
       "      <td>0.305</td>\n",
       "      <td>12.209</td>\n",
       "    </tr>\n",
       "    <tr>\n",
       "      <th>22</th>\n",
       "      <td>04-Nov-2022, 13:21:00</td>\n",
       "      <td>Swat(us)</td>\n",
       "      <td>0.72</td>\n",
       "      <td>0.91</td>\n",
       "      <td>0.60</td>\n",
       "      <td>60</td>\n",
       "      <td>1000</td>\n",
       "      <td>1</td>\n",
       "      <td>20</td>\n",
       "      <td>0.305</td>\n",
       "      <td>12.209</td>\n",
       "    </tr>\n",
       "    <tr>\n",
       "      <th>23</th>\n",
       "      <td>07-Nov-2022, 03:30:09</td>\n",
       "      <td>Swat(us)</td>\n",
       "      <td>0.73</td>\n",
       "      <td>0.98</td>\n",
       "      <td>0.59</td>\n",
       "      <td>60</td>\n",
       "      <td>1000</td>\n",
       "      <td>3</td>\n",
       "      <td>5</td>\n",
       "      <td>0.305</td>\n",
       "      <td>12.366</td>\n",
       "    </tr>\n",
       "    <tr>\n",
       "      <th>24</th>\n",
       "      <td>07-Nov-2022, 03:34:58</td>\n",
       "      <td>Swat(us)</td>\n",
       "      <td>0.73</td>\n",
       "      <td>0.97</td>\n",
       "      <td>0.59</td>\n",
       "      <td>60</td>\n",
       "      <td>1000</td>\n",
       "      <td>3</td>\n",
       "      <td>10</td>\n",
       "      <td>0.305</td>\n",
       "      <td>12.366</td>\n",
       "    </tr>\n",
       "    <tr>\n",
       "      <th>25</th>\n",
       "      <td>07-Nov-2022, 03:41:44</td>\n",
       "      <td>Swat(us)</td>\n",
       "      <td>0.73</td>\n",
       "      <td>0.98</td>\n",
       "      <td>0.59</td>\n",
       "      <td>60</td>\n",
       "      <td>1000</td>\n",
       "      <td>3</td>\n",
       "      <td>20</td>\n",
       "      <td>0.305</td>\n",
       "      <td>12.366</td>\n",
       "    </tr>\n",
       "  </tbody>\n",
       "</table>\n",
       "</div>"
      ],
      "text/plain": [
       "                 datetime   Dataset  F1_score  Precision  Recall  Epoch  \\\n",
       "0   06-Nov-2022, 21:51:47      Swat      0.74       0.89    0.64     60   \n",
       "1   06-Nov-2022, 22:06:06      Swat      0.74       0.89    0.64     60   \n",
       "2   06-Nov-2022, 22:17:27      Swat      0.75       0.91    0.64     60   \n",
       "3   06-Nov-2022, 22:29:09      Swat      0.74       0.89    0.64     60   \n",
       "4   06-Nov-2022, 07:39:50      Swat      0.75       0.90    0.63    100   \n",
       "5   06-Nov-2022, 08:00:28      Swat      0.75       0.90    0.63    100   \n",
       "6   06-Nov-2022, 08:19:16      Swat      0.75       0.91    0.63    100   \n",
       "7   06-Nov-2022, 11:18:28      Swat      0.74       0.90    0.63    100   \n",
       "8   04-Nov-2022, 03:26:01      Swat      0.74       0.90    0.63     60   \n",
       "9   04-Nov-2022, 03:39:29      Swat      0.75       0.90    0.64     60   \n",
       "10  04-Nov-2022, 03:59:01      Swat      0.75       0.91    0.64     60   \n",
       "11  04-Nov-2022, 05:17:26      Swat      0.75       0.90    0.64     60   \n",
       "12  04-Nov-2022, 07:17:19      Swat      0.75       0.89    0.64     60   \n",
       "13  04-Nov-2022, 12:00:46      Swat      0.75       0.91    0.64     60   \n",
       "14  04-Nov-2022, 12:13:47      Swat      0.75       0.92    0.64     60   \n",
       "15  06-Nov-2022, 07:01:49      Swat      0.75       0.92    0.63    100   \n",
       "16  06-Nov-2022, 07:06:06      Swat      0.74       0.90    0.63    100   \n",
       "17  06-Nov-2022, 20:55:55      Swat      0.75       0.90    0.63    100   \n",
       "18  06-Nov-2022, 21:14:19      Swat      0.75       0.91    0.63    100   \n",
       "19  06-Nov-2022, 21:35:56      Swat      0.75       0.90    0.64     80   \n",
       "20  04-Nov-2022, 12:51:37  Swat(us)      0.73       0.93    0.60     60   \n",
       "21  04-Nov-2022, 13:07:09  Swat(us)      0.71       0.88    0.60     60   \n",
       "22  04-Nov-2022, 13:21:00  Swat(us)      0.72       0.91    0.60     60   \n",
       "23  07-Nov-2022, 03:30:09  Swat(us)      0.73       0.98    0.59     60   \n",
       "24  07-Nov-2022, 03:34:58  Swat(us)      0.73       0.97    0.59     60   \n",
       "25  07-Nov-2022, 03:41:44  Swat(us)      0.73       0.98    0.59     60   \n",
       "\n",
       "    Batch Size  Win Size  Hidden_size Threshold Win_anomaly(%)  \n",
       "0         1000         2            1        10         12.148  \n",
       "1         1000         2            5        10         12.148  \n",
       "2         1000         2           10        10         12.148  \n",
       "3         1000         2           20        10         12.148  \n",
       "4         1000        20           30        10         12.289  \n",
       "5         1000        20           20        10         12.289  \n",
       "6         1000        20           10        10         12.289  \n",
       "7         1000        20            5        10         12.289  \n",
       "8         1000        20           20        10         12.289  \n",
       "9         1000        10           20        10          12.21  \n",
       "10        1000         5           20        10         12.171  \n",
       "11        1000         3           20        10         12.156  \n",
       "12        1000         1           20        10          12.14  \n",
       "13        1000         1           10      10.5          12.14  \n",
       "14        1000         1            5      10.5          12.14  \n",
       "15        1000        20           30      10.5         12.289  \n",
       "16        1000        20           30        10         12.289  \n",
       "17        1000        20            3        10         12.289  \n",
       "18        1000        20            1        10         12.289  \n",
       "19        1000         5            1        10         12.171  \n",
       "20        1000         1            5       0.3         12.209  \n",
       "21        1000         1           10     0.305         12.209  \n",
       "22        1000         1           20     0.305         12.209  \n",
       "23        1000         3            5     0.305         12.366  \n",
       "24        1000         3           10     0.305         12.366  \n",
       "25        1000         3           20     0.305         12.366  "
      ]
     },
     "execution_count": 68,
     "metadata": {},
     "output_type": "execute_result"
    }
   ],
   "source": [
    "pd.options.display.max_colwidth=100\n",
    "df1"
   ]
  },
  {
   "cell_type": "code",
   "execution_count": 69,
   "metadata": {},
   "outputs": [
    {
     "name": "stdout",
     "output_type": "stream",
     "text": [
      "[0.305]\n"
     ]
    }
   ],
   "source": [
    "print(threshold)"
   ]
  },
  {
   "cell_type": "code",
   "execution_count": 70,
   "metadata": {
    "scrolled": false
   },
   "outputs": [
    {
     "name": "stdout",
     "output_type": "stream",
     "text": [
      "              precision    recall  f1-score   support\n",
      "\n",
      "         0.0       0.94      1.00      0.97     39425\n",
      "         1.0       0.96      0.59      0.73      5563\n",
      "\n",
      "    accuracy                           0.95     44988\n",
      "   macro avg       0.95      0.79      0.85     44988\n",
      "weighted avg       0.95      0.95      0.94     44988\n",
      "\n"
     ]
    }
   ],
   "source": [
    "import sklearn\n",
    "threshold = [0.3]\n",
    "y_pred_ = np.zeros(y_pred.shape[0])\n",
    "y_pred_[y_pred >= threshold] = 1\n",
    "print(sklearn.metrics.classification_report(y_test, y_pred_))"
   ]
  },
  {
   "cell_type": "code",
   "execution_count": 71,
   "metadata": {
    "scrolled": true
   },
   "outputs": [
    {
     "name": "stdout",
     "output_type": "stream",
     "text": [
      "              precision    recall  f1-score   support\n",
      "\n",
      "         0.0       0.94      1.00      0.97     39425\n",
      "         1.0       0.98      0.59      0.73      5563\n",
      "\n",
      "    accuracy                           0.95     44988\n",
      "   macro avg       0.96      0.79      0.85     44988\n",
      "weighted avg       0.95      0.95      0.94     44988\n",
      "\n"
     ]
    }
   ],
   "source": [
    "threshold = [0.305]\n",
    "y_pred_ = np.zeros(y_pred.shape[0])\n",
    "y_pred_[y_pred >= threshold] = 1\n",
    "print(sklearn.metrics.classification_report(y_test, y_pred_))"
   ]
  },
  {
   "cell_type": "code",
   "execution_count": null,
   "metadata": {
    "scrolled": true
   },
   "outputs": [],
   "source": []
  }
 ],
 "metadata": {
  "accelerator": "GPU",
  "colab": {
   "name": "USAD_test.ipynb",
   "provenance": [],
   "toc_visible": true
  },
  "kernelspec": {
   "display_name": "Python 3 (ipykernel)",
   "language": "python",
   "name": "python3"
  },
  "language_info": {
   "codemirror_mode": {
    "name": "ipython",
    "version": 3
   },
   "file_extension": ".py",
   "mimetype": "text/x-python",
   "name": "python",
   "nbconvert_exporter": "python",
   "pygments_lexer": "ipython3",
   "version": "3.8.13"
  }
 },
 "nbformat": 4,
 "nbformat_minor": 4
}
