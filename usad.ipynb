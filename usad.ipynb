{
 "cells": [
  {
   "cell_type": "markdown",
   "metadata": {
    "id": "etniX_KTlJ5U"
   },
   "source": [
    "# USAD"
   ]
  },
  {
   "cell_type": "markdown",
   "metadata": {
    "id": "N3jM0qLU8MgZ"
   },
   "source": [
    "## Environment"
   ]
  },
  {
   "cell_type": "code",
   "execution_count": 1,
   "metadata": {
    "id": "6u1DGKsAlLF-",
    "scrolled": true
   },
   "outputs": [
    {
     "name": "stderr",
     "output_type": "stream",
     "text": [
      "/opt/conda/lib/python3.8/site-packages/tqdm/auto.py:22: TqdmWarning: IProgress not found. Please update jupyter and ipywidgets. See https://ipywidgets.readthedocs.io/en/stable/user_install.html\n",
      "  from .autonotebook import tqdm as notebook_tqdm\n"
     ]
    }
   ],
   "source": [
    "import numpy as np\n",
    "import pandas as pd\n",
    "import matplotlib.pyplot as plt\n",
    "import seaborn as sns\n",
    "import torch\n",
    "import torch.nn as nn\n",
    "\n",
    "torch.cuda.empty_cache()\n",
    "\n",
    "\n",
    "import math\n",
    "import time\n",
    "from datetime import datetime\n",
    "import pytz\n",
    "import os\n",
    "import json\n",
    "import sklearn\n",
    "\n",
    "from utils import *\n",
    "from usad import *\n",
    "\n",
    "\n",
    "\n",
    "import wandb #For logging results in weights and bias\n",
    "# wandb.login() \n",
    "# os.environ[\"WANDB_MODE\"] = \"offline\"\n",
    "\n",
    "# wandb.init(project=\"capstone-usad\")\n",
    "\n"
   ]
  },
  {
   "cell_type": "code",
   "execution_count": 2,
   "metadata": {
    "colab": {
     "base_uri": "https://localhost:8080/",
     "height": 34
    },
    "id": "4AzWlDBI_djV",
    "outputId": "7a8d0c19-2389-461b-c0be-3427a25dda91",
    "scrolled": true
   },
   "outputs": [],
   "source": [
    "# !nvidia-smi -L\n",
    "\n",
    "device = get_default_device()"
   ]
  },
  {
   "cell_type": "markdown",
   "metadata": {
    "id": "1crx5rGP9ONf",
    "jp-MarkdownHeadingCollapsed": true,
    "tags": []
   },
   "source": [
    "## EDA - Data Pre-Processing"
   ]
  },
  {
   "cell_type": "markdown",
   "metadata": {},
   "source": [
    "### Select dataset"
   ]
  },
  {
   "cell_type": "code",
   "execution_count": 3,
   "metadata": {
    "scrolled": true
   },
   "outputs": [],
   "source": [
    "# Dataset to be used\n",
    "dataset='Swat(us)'\n",
    "\n",
    "if dataset=='Swat': #Full swat dataset\n",
    "    traindata='/dataset/swat/SWaT_Dataset_Normal_v1.csv'\n",
    "    testdata='/dataset/swat/SWaT_Dataset_Attack_v0.csv'\n",
    "    time_col= \" Timestamp\"\n",
    "    label_col=\"Normal/Attack\"\n",
    "\n",
    "if dataset=='Swat(us)': # Swat dataset undersampled by 10 times\n",
    "    traindata='/dataset/swat(mini)/train.csv'\n",
    "    testdata='/dataset/swat(mini)/test.csv'\n",
    "    time_col= \"Unnamed: 0\"\n",
    "    label_col=\"attack\"\n",
    "    \n",
    "    \n",
    "elif dataset =='CC_minmax_adasyn':\n",
    "    traindata='/dataset/creditcard/minmax/adasyn/train.csv'\n",
    "    testdata='/dataset/creditcard/minmax/adasyn/test.csv'\n",
    "    time_col= \"Time\"\n",
    "    label_col=\"attack\"    \n",
    "    \n",
    "elif dataset =='CC_minmax_all':\n",
    "    traindata='/dataset/creditcard/minmax/all/train.csv'\n",
    "    testdata='/dataset/creditcard/minmax/all/test.csv'\n",
    "    time_col= \"Time\"\n",
    "    label_col=\"attack\"\n",
    "    \n",
    "elif dataset =='CC_minmax_anomaly':\n",
    "    traindata='/dataset/creditcard/minmax/anomaly/train.csv'\n",
    "    testdata='/dataset/creditcard/minmax/anomaly/test.csv'\n",
    "    time_col= \"Time\"\n",
    "    label_col=\"attack\"  \n",
    "    \n",
    "    \n",
    "elif dataset =='CC_minmax_first':\n",
    "    traindata='/dataset/creditcard/minmax/first/train.csv'\n",
    "    testdata='/dataset/creditcard/minmax/first/test.csv'\n",
    "    time_col= \"Time\"\n",
    "    label_col=\"attack\"\n",
    "\n",
    "elif dataset =='CC_minmax_last':\n",
    "    traindata='/dataset/creditcard/minmax/last/train.csv'\n",
    "    testdata='/dataset/creditcard/minmax/last/test.csv'\n",
    "    time_col= \"Time\"\n",
    "    label_col=\"attack\"\n",
    "\n",
    "elif dataset =='CC_minmax_mean':\n",
    "    traindata='/dataset/creditcard/minmax/mean/train.csv'\n",
    "    testdata='/dataset/creditcard/minmax/mean/test.csv'\n",
    "    time_col= \"Time\"\n",
    "    label_col=\"attack\"\n",
    "    \n",
    "elif dataset =='CC_minmax_median':\n",
    "    traindata='/dataset/creditcard/minmax/median/train.csv'\n",
    "    testdata='/dataset/creditcard/minmax/median/test.csv'\n",
    "    time_col= \"Time\"\n",
    "    label_col=\"attack\"\n",
    "\n",
    "elif dataset =='CC_minmax_pca':\n",
    "    traindata='/dataset/creditcard/minmax/pca/train.csv'\n",
    "    testdata='/dataset/creditcard/minmax/pca/test.csv'\n",
    "    time_col= \"Time\"\n",
    "    label_col=\"attack\"\n",
    "    \n",
    "elif dataset =='CC_ss_adasyn':\n",
    "    traindata='/dataset/creditcard/standardscale/adasyn_s/train.csv'\n",
    "    testdata='/dataset/creditcard/standardscale/adasyn_s/test.csv'\n",
    "    time_col= \"Time\"\n",
    "    label_col=\"attack\"      \n",
    "    \n",
    "elif dataset =='CC_ss_all':\n",
    "    traindata='/dataset/creditcard/standardscale/all/train.csv'\n",
    "    testdata='/dataset/creditcard/standardscale/all/test.csv'\n",
    "    time_col= \"Time\"\n",
    "    label_col=\"attack\"\n",
    "    \n",
    "elif dataset =='CC_ss_anomaly':\n",
    "    traindata='/dataset/creditcard/standardscale/anomaly/train.csv'\n",
    "    testdata='/dataset/creditcard/standardscale/anomaly/test.csv'\n",
    "    time_col= \"Time\"\n",
    "    label_col=\"attack\"  \n",
    "    \n",
    "    \n",
    "elif dataset =='CC_ss_first':\n",
    "    traindata='/dataset/creditcard/standardscale/first/train.csv'\n",
    "    testdata='/dataset/creditcard/standardscale/first/test.csv'\n",
    "    time_col= \"Time\"\n",
    "    label_col=\"attack\"\n",
    "\n",
    "elif dataset =='CC_ss_last':\n",
    "    traindata='/dataset/creditcard/standardscale/last/train.csv'\n",
    "    testdata='/dataset/creditcard/standardscale/last/test.csv'\n",
    "    time_col= \"Time\"\n",
    "    label_col=\"attack\"\n",
    "\n",
    "elif dataset =='CC_ss_mean':\n",
    "    traindata='/dataset/creditcard/standardscale/mean/train.csv'\n",
    "    testdata='/dataset/creditcard/standardscale/mean/test.csv'\n",
    "    time_col= \"Time\"\n",
    "    label_col=\"attack\"\n",
    "    \n",
    "elif dataset =='CC_ss_median':\n",
    "    traindata='/dataset/creditcard/standardscale/median/train.csv'\n",
    "    testdata='/dataset/creditcard/standardscale/median/test.csv'\n",
    "    time_col= \"Time\"\n",
    "    label_col=\"attack\"\n",
    "\n",
    "elif dataset =='CC_ss_pca':\n",
    "    traindata='/dataset/creditcard/standardscale/pca/train.csv'\n",
    "    testdata='/dataset/creditcard/standardscale/pca/test.csv'\n",
    "    time_col= \"Time\"\n",
    "    label_col=\"attack\"    \n",
    "    \n",
    "elif dataset =='MSL_m':\n",
    "    traindata='/dataset/MSL/msl_m/train.csv'\n",
    "    testdata='/dataset/MSL/msl_m/test.csv'\n",
    "    time_col= \"timestamp\"\n",
    "    label_col=\"attack\"\n",
    "\n",
    "elif dataset =='MSL_tel':\n",
    "    traindata='/dataset/MSL/msl_tel/train.csv'\n",
    "    testdata='/dataset/MSL/msl_tel/test.csv'\n",
    "    time_col= \"timestamp\"\n",
    "    label_col=\"attack\"\n",
    "    \n",
    "elif dataset =='MSL_tel_m':\n",
    "    traindata='/dataset/MSL/msl_tel_m/train.csv'\n",
    "    testdata='/dataset/MSL/msl_tel_m/test.csv'\n",
    "    time_col= \"timestamp\"\n",
    "    label_col=\"attack\"    \n",
    "    \n",
    "elif dataset =='SMAP_m':\n",
    "    traindata='/dataset/SMAP/smap_m/train.csv'\n",
    "    testdata='/dataset/SMAP/smap_m/test.csv'\n",
    "    time_col= \"timestamp\"\n",
    "    label_col=\"attack\"\n",
    "\n",
    "elif dataset =='SMAP_tel':\n",
    "    traindata='/dataset/SMAP/smap_tel/train.csv'\n",
    "    testdata='/dataset/SMAP/smap_tel/test.csv'\n",
    "    time_col= \"timestamp\"\n",
    "    label_col=\"attack\"\n",
    "    \n",
    "elif dataset =='SMAP_tel_m':\n",
    "    traindata='/dataset/SMAP/smap_tel/train.csv'\n",
    "    testdata='/dataset/SMAP/smap_tel/test.csv'\n",
    "    time_col= \"timestamp\"\n",
    "    label_col=\"attack\""
   ]
  },
  {
   "cell_type": "markdown",
   "metadata": {
    "id": "kfSj4FYL9W8Y",
    "jp-MarkdownHeadingCollapsed": true,
    "tags": []
   },
   "source": [
    "### Normal period"
   ]
  },
  {
   "cell_type": "code",
   "execution_count": 4,
   "metadata": {
    "colab": {
     "base_uri": "https://localhost:8080/",
     "height": 87
    },
    "id": "XeDLxV_r1G9n",
    "outputId": "576538dd-64f2-46fa-8e6f-6c2ffdebad15",
    "scrolled": true
   },
   "outputs": [
    {
     "data": {
      "text/plain": [
       "(47520, 53)"
      ]
     },
     "execution_count": 4,
     "metadata": {},
     "output_type": "execute_result"
    }
   ],
   "source": [
    "# Load the train data\n",
    "normal = pd.read_csv(traindata)\n",
    "\n",
    "normal.shape"
   ]
  },
  {
   "cell_type": "code",
   "execution_count": 5,
   "metadata": {
    "scrolled": true
   },
   "outputs": [
    {
     "data": {
      "text/html": [
       "<div>\n",
       "<style scoped>\n",
       "    .dataframe tbody tr th:only-of-type {\n",
       "        vertical-align: middle;\n",
       "    }\n",
       "\n",
       "    .dataframe tbody tr th {\n",
       "        vertical-align: top;\n",
       "    }\n",
       "\n",
       "    .dataframe thead th {\n",
       "        text-align: right;\n",
       "    }\n",
       "</style>\n",
       "<table border=\"1\" class=\"dataframe\">\n",
       "  <thead>\n",
       "    <tr style=\"text-align: right;\">\n",
       "      <th></th>\n",
       "      <th>Unnamed: 0</th>\n",
       "      <th>FIT101</th>\n",
       "      <th>LIT101</th>\n",
       "      <th>MV101</th>\n",
       "      <th>P101</th>\n",
       "      <th>P102</th>\n",
       "      <th>AIT201</th>\n",
       "      <th>AIT202</th>\n",
       "      <th>AIT203</th>\n",
       "      <th>FIT201</th>\n",
       "      <th>...</th>\n",
       "      <th>P501</th>\n",
       "      <th>P502</th>\n",
       "      <th>PIT501</th>\n",
       "      <th>PIT502</th>\n",
       "      <th>PIT503</th>\n",
       "      <th>FIT601</th>\n",
       "      <th>P601</th>\n",
       "      <th>P602</th>\n",
       "      <th>P603</th>\n",
       "      <th>attack</th>\n",
       "    </tr>\n",
       "  </thead>\n",
       "  <tbody>\n",
       "    <tr>\n",
       "      <th>0</th>\n",
       "      <td>2160</td>\n",
       "      <td>0.935538</td>\n",
       "      <td>0.433560</td>\n",
       "      <td>1.0</td>\n",
       "      <td>1.0</td>\n",
       "      <td>0.0</td>\n",
       "      <td>0.604545</td>\n",
       "      <td>0.186672</td>\n",
       "      <td>0.548938</td>\n",
       "      <td>0.988694</td>\n",
       "      <td>...</td>\n",
       "      <td>1.0</td>\n",
       "      <td>0.0</td>\n",
       "      <td>0.958091</td>\n",
       "      <td>0.283843</td>\n",
       "      <td>0.961230</td>\n",
       "      <td>0.000037</td>\n",
       "      <td>0.0</td>\n",
       "      <td>0.0</td>\n",
       "      <td>0.0</td>\n",
       "      <td>0</td>\n",
       "    </tr>\n",
       "    <tr>\n",
       "      <th>1</th>\n",
       "      <td>2161</td>\n",
       "      <td>0.894236</td>\n",
       "      <td>0.434363</td>\n",
       "      <td>1.0</td>\n",
       "      <td>1.0</td>\n",
       "      <td>0.0</td>\n",
       "      <td>0.604545</td>\n",
       "      <td>0.186672</td>\n",
       "      <td>0.546774</td>\n",
       "      <td>0.989363</td>\n",
       "      <td>...</td>\n",
       "      <td>1.0</td>\n",
       "      <td>0.0</td>\n",
       "      <td>0.958216</td>\n",
       "      <td>0.283843</td>\n",
       "      <td>0.961189</td>\n",
       "      <td>0.000037</td>\n",
       "      <td>0.0</td>\n",
       "      <td>0.0</td>\n",
       "      <td>0.0</td>\n",
       "      <td>0</td>\n",
       "    </tr>\n",
       "    <tr>\n",
       "      <th>2</th>\n",
       "      <td>2162</td>\n",
       "      <td>0.952981</td>\n",
       "      <td>0.433002</td>\n",
       "      <td>1.0</td>\n",
       "      <td>1.0</td>\n",
       "      <td>0.0</td>\n",
       "      <td>0.604545</td>\n",
       "      <td>0.186672</td>\n",
       "      <td>0.544756</td>\n",
       "      <td>0.989234</td>\n",
       "      <td>...</td>\n",
       "      <td>1.0</td>\n",
       "      <td>0.0</td>\n",
       "      <td>0.959343</td>\n",
       "      <td>0.296943</td>\n",
       "      <td>0.963501</td>\n",
       "      <td>0.000037</td>\n",
       "      <td>0.0</td>\n",
       "      <td>0.0</td>\n",
       "      <td>0.0</td>\n",
       "      <td>0</td>\n",
       "    </tr>\n",
       "    <tr>\n",
       "      <th>3</th>\n",
       "      <td>2163</td>\n",
       "      <td>0.912204</td>\n",
       "      <td>0.434542</td>\n",
       "      <td>1.0</td>\n",
       "      <td>1.0</td>\n",
       "      <td>0.0</td>\n",
       "      <td>0.604545</td>\n",
       "      <td>0.190285</td>\n",
       "      <td>0.543553</td>\n",
       "      <td>0.990162</td>\n",
       "      <td>...</td>\n",
       "      <td>1.0</td>\n",
       "      <td>0.0</td>\n",
       "      <td>0.959187</td>\n",
       "      <td>0.292577</td>\n",
       "      <td>0.962446</td>\n",
       "      <td>0.000037</td>\n",
       "      <td>0.0</td>\n",
       "      <td>0.0</td>\n",
       "      <td>0.0</td>\n",
       "      <td>0</td>\n",
       "    </tr>\n",
       "    <tr>\n",
       "      <th>4</th>\n",
       "      <td>2164</td>\n",
       "      <td>0.922004</td>\n",
       "      <td>0.433872</td>\n",
       "      <td>1.0</td>\n",
       "      <td>1.0</td>\n",
       "      <td>0.0</td>\n",
       "      <td>0.604545</td>\n",
       "      <td>0.190285</td>\n",
       "      <td>0.541775</td>\n",
       "      <td>0.989157</td>\n",
       "      <td>...</td>\n",
       "      <td>1.0</td>\n",
       "      <td>0.0</td>\n",
       "      <td>0.958592</td>\n",
       "      <td>0.288210</td>\n",
       "      <td>0.962163</td>\n",
       "      <td>0.000037</td>\n",
       "      <td>0.0</td>\n",
       "      <td>0.0</td>\n",
       "      <td>0.0</td>\n",
       "      <td>0</td>\n",
       "    </tr>\n",
       "  </tbody>\n",
       "</table>\n",
       "<p>5 rows × 53 columns</p>\n",
       "</div>"
      ],
      "text/plain": [
       "   Unnamed: 0    FIT101    LIT101  MV101  P101  P102    AIT201    AIT202  \\\n",
       "0        2160  0.935538  0.433560    1.0   1.0   0.0  0.604545  0.186672   \n",
       "1        2161  0.894236  0.434363    1.0   1.0   0.0  0.604545  0.186672   \n",
       "2        2162  0.952981  0.433002    1.0   1.0   0.0  0.604545  0.186672   \n",
       "3        2163  0.912204  0.434542    1.0   1.0   0.0  0.604545  0.190285   \n",
       "4        2164  0.922004  0.433872    1.0   1.0   0.0  0.604545  0.190285   \n",
       "\n",
       "     AIT203    FIT201  ...  P501  P502    PIT501    PIT502    PIT503  \\\n",
       "0  0.548938  0.988694  ...   1.0   0.0  0.958091  0.283843  0.961230   \n",
       "1  0.546774  0.989363  ...   1.0   0.0  0.958216  0.283843  0.961189   \n",
       "2  0.544756  0.989234  ...   1.0   0.0  0.959343  0.296943  0.963501   \n",
       "3  0.543553  0.990162  ...   1.0   0.0  0.959187  0.292577  0.962446   \n",
       "4  0.541775  0.989157  ...   1.0   0.0  0.958592  0.288210  0.962163   \n",
       "\n",
       "     FIT601  P601  P602  P603  attack  \n",
       "0  0.000037   0.0   0.0   0.0       0  \n",
       "1  0.000037   0.0   0.0   0.0       0  \n",
       "2  0.000037   0.0   0.0   0.0       0  \n",
       "3  0.000037   0.0   0.0   0.0       0  \n",
       "4  0.000037   0.0   0.0   0.0       0  \n",
       "\n",
       "[5 rows x 53 columns]"
      ]
     },
     "execution_count": 5,
     "metadata": {},
     "output_type": "execute_result"
    }
   ],
   "source": [
    "normal.head()"
   ]
  },
  {
   "cell_type": "code",
   "execution_count": 6,
   "metadata": {
    "scrolled": true
   },
   "outputs": [],
   "source": [
    "#Drop the anormalies from the train data\n",
    "# Swat train data already do no contain abnormal data\n",
    "if dataset!='Swat':\n",
    "    normal= normal.loc[normal[label_col] == 0] \n"
   ]
  },
  {
   "cell_type": "code",
   "execution_count": 7,
   "metadata": {
    "scrolled": true
   },
   "outputs": [
    {
     "data": {
      "text/plain": [
       "0    47520\n",
       "Name: attack, dtype: int64"
      ]
     },
     "execution_count": 7,
     "metadata": {},
     "output_type": "execute_result"
    }
   ],
   "source": [
    "normal[label_col].value_counts()"
   ]
  },
  {
   "cell_type": "code",
   "execution_count": 8,
   "metadata": {
    "scrolled": true
   },
   "outputs": [
    {
     "data": {
      "text/html": [
       "<div>\n",
       "<style scoped>\n",
       "    .dataframe tbody tr th:only-of-type {\n",
       "        vertical-align: middle;\n",
       "    }\n",
       "\n",
       "    .dataframe tbody tr th {\n",
       "        vertical-align: top;\n",
       "    }\n",
       "\n",
       "    .dataframe thead th {\n",
       "        text-align: right;\n",
       "    }\n",
       "</style>\n",
       "<table border=\"1\" class=\"dataframe\">\n",
       "  <thead>\n",
       "    <tr style=\"text-align: right;\">\n",
       "      <th></th>\n",
       "      <th>FIT101</th>\n",
       "      <th>LIT101</th>\n",
       "      <th>MV101</th>\n",
       "      <th>P101</th>\n",
       "      <th>P102</th>\n",
       "      <th>AIT201</th>\n",
       "      <th>AIT202</th>\n",
       "      <th>AIT203</th>\n",
       "      <th>FIT201</th>\n",
       "      <th>MV201</th>\n",
       "      <th>...</th>\n",
       "      <th>FIT504</th>\n",
       "      <th>P501</th>\n",
       "      <th>P502</th>\n",
       "      <th>PIT501</th>\n",
       "      <th>PIT502</th>\n",
       "      <th>PIT503</th>\n",
       "      <th>FIT601</th>\n",
       "      <th>P601</th>\n",
       "      <th>P602</th>\n",
       "      <th>P603</th>\n",
       "    </tr>\n",
       "  </thead>\n",
       "  <tbody>\n",
       "    <tr>\n",
       "      <th>0</th>\n",
       "      <td>0.935538</td>\n",
       "      <td>0.433560</td>\n",
       "      <td>1.0</td>\n",
       "      <td>1.0</td>\n",
       "      <td>0.0</td>\n",
       "      <td>0.604545</td>\n",
       "      <td>0.186672</td>\n",
       "      <td>0.548938</td>\n",
       "      <td>0.988694</td>\n",
       "      <td>1.0</td>\n",
       "      <td>...</td>\n",
       "      <td>0.972722</td>\n",
       "      <td>1.0</td>\n",
       "      <td>0.0</td>\n",
       "      <td>0.958091</td>\n",
       "      <td>0.283843</td>\n",
       "      <td>0.961230</td>\n",
       "      <td>0.000037</td>\n",
       "      <td>0.0</td>\n",
       "      <td>0.0</td>\n",
       "      <td>0.0</td>\n",
       "    </tr>\n",
       "    <tr>\n",
       "      <th>1</th>\n",
       "      <td>0.894236</td>\n",
       "      <td>0.434363</td>\n",
       "      <td>1.0</td>\n",
       "      <td>1.0</td>\n",
       "      <td>0.0</td>\n",
       "      <td>0.604545</td>\n",
       "      <td>0.186672</td>\n",
       "      <td>0.546774</td>\n",
       "      <td>0.989363</td>\n",
       "      <td>1.0</td>\n",
       "      <td>...</td>\n",
       "      <td>0.972722</td>\n",
       "      <td>1.0</td>\n",
       "      <td>0.0</td>\n",
       "      <td>0.958216</td>\n",
       "      <td>0.283843</td>\n",
       "      <td>0.961189</td>\n",
       "      <td>0.000037</td>\n",
       "      <td>0.0</td>\n",
       "      <td>0.0</td>\n",
       "      <td>0.0</td>\n",
       "    </tr>\n",
       "    <tr>\n",
       "      <th>2</th>\n",
       "      <td>0.952981</td>\n",
       "      <td>0.433002</td>\n",
       "      <td>1.0</td>\n",
       "      <td>1.0</td>\n",
       "      <td>0.0</td>\n",
       "      <td>0.604545</td>\n",
       "      <td>0.186672</td>\n",
       "      <td>0.544756</td>\n",
       "      <td>0.989234</td>\n",
       "      <td>1.0</td>\n",
       "      <td>...</td>\n",
       "      <td>0.973227</td>\n",
       "      <td>1.0</td>\n",
       "      <td>0.0</td>\n",
       "      <td>0.959343</td>\n",
       "      <td>0.296943</td>\n",
       "      <td>0.963501</td>\n",
       "      <td>0.000037</td>\n",
       "      <td>0.0</td>\n",
       "      <td>0.0</td>\n",
       "      <td>0.0</td>\n",
       "    </tr>\n",
       "    <tr>\n",
       "      <th>3</th>\n",
       "      <td>0.912204</td>\n",
       "      <td>0.434542</td>\n",
       "      <td>1.0</td>\n",
       "      <td>1.0</td>\n",
       "      <td>0.0</td>\n",
       "      <td>0.604545</td>\n",
       "      <td>0.190285</td>\n",
       "      <td>0.543553</td>\n",
       "      <td>0.990162</td>\n",
       "      <td>1.0</td>\n",
       "      <td>...</td>\n",
       "      <td>0.972116</td>\n",
       "      <td>1.0</td>\n",
       "      <td>0.0</td>\n",
       "      <td>0.959187</td>\n",
       "      <td>0.292577</td>\n",
       "      <td>0.962446</td>\n",
       "      <td>0.000037</td>\n",
       "      <td>0.0</td>\n",
       "      <td>0.0</td>\n",
       "      <td>0.0</td>\n",
       "    </tr>\n",
       "    <tr>\n",
       "      <th>4</th>\n",
       "      <td>0.922004</td>\n",
       "      <td>0.433872</td>\n",
       "      <td>1.0</td>\n",
       "      <td>1.0</td>\n",
       "      <td>0.0</td>\n",
       "      <td>0.604545</td>\n",
       "      <td>0.190285</td>\n",
       "      <td>0.541775</td>\n",
       "      <td>0.989157</td>\n",
       "      <td>1.0</td>\n",
       "      <td>...</td>\n",
       "      <td>0.972116</td>\n",
       "      <td>1.0</td>\n",
       "      <td>0.0</td>\n",
       "      <td>0.958592</td>\n",
       "      <td>0.288210</td>\n",
       "      <td>0.962163</td>\n",
       "      <td>0.000037</td>\n",
       "      <td>0.0</td>\n",
       "      <td>0.0</td>\n",
       "      <td>0.0</td>\n",
       "    </tr>\n",
       "  </tbody>\n",
       "</table>\n",
       "<p>5 rows × 51 columns</p>\n",
       "</div>"
      ],
      "text/plain": [
       "     FIT101    LIT101  MV101  P101  P102    AIT201    AIT202    AIT203  \\\n",
       "0  0.935538  0.433560    1.0   1.0   0.0  0.604545  0.186672  0.548938   \n",
       "1  0.894236  0.434363    1.0   1.0   0.0  0.604545  0.186672  0.546774   \n",
       "2  0.952981  0.433002    1.0   1.0   0.0  0.604545  0.186672  0.544756   \n",
       "3  0.912204  0.434542    1.0   1.0   0.0  0.604545  0.190285  0.543553   \n",
       "4  0.922004  0.433872    1.0   1.0   0.0  0.604545  0.190285  0.541775   \n",
       "\n",
       "     FIT201  MV201  ...    FIT504  P501  P502    PIT501    PIT502    PIT503  \\\n",
       "0  0.988694    1.0  ...  0.972722   1.0   0.0  0.958091  0.283843  0.961230   \n",
       "1  0.989363    1.0  ...  0.972722   1.0   0.0  0.958216  0.283843  0.961189   \n",
       "2  0.989234    1.0  ...  0.973227   1.0   0.0  0.959343  0.296943  0.963501   \n",
       "3  0.990162    1.0  ...  0.972116   1.0   0.0  0.959187  0.292577  0.962446   \n",
       "4  0.989157    1.0  ...  0.972116   1.0   0.0  0.958592  0.288210  0.962163   \n",
       "\n",
       "     FIT601  P601  P602  P603  \n",
       "0  0.000037   0.0   0.0   0.0  \n",
       "1  0.000037   0.0   0.0   0.0  \n",
       "2  0.000037   0.0   0.0   0.0  \n",
       "3  0.000037   0.0   0.0   0.0  \n",
       "4  0.000037   0.0   0.0   0.0  \n",
       "\n",
       "[5 rows x 51 columns]"
      ]
     },
     "execution_count": 8,
     "metadata": {},
     "output_type": "execute_result"
    }
   ],
   "source": [
    "#Drop the time and label column from the train data\n",
    "\n",
    "normal = normal.drop([time_col , label_col] , axis = 1)\n",
    "# normal = normal.drop([label_col] , axis = 1)\n",
    "normal.head()"
   ]
  },
  {
   "cell_type": "code",
   "execution_count": 9,
   "metadata": {
    "id": "fFuLm1GH1G2n",
    "scrolled": true
   },
   "outputs": [],
   "source": [
    "# Transform all columns into float64\n",
    "for i in list(normal): \n",
    "    normal[i]=normal[i].apply(lambda x: str(x).replace(\",\" , \".\"))\n",
    "normal = normal.astype(float)"
   ]
  },
  {
   "cell_type": "markdown",
   "metadata": {
    "id": "zxFNH5kU9hIE"
   },
   "source": [
    "#### Normalization for datasets which have not done scaling"
   ]
  },
  {
   "cell_type": "code",
   "execution_count": 10,
   "metadata": {
    "id": "Mfxj4Uxn9kv4",
    "scrolled": true
   },
   "outputs": [],
   "source": [
    "from sklearn import preprocessing\n",
    "min_max_scaler = preprocessing.StandardScaler()\n",
    "\n",
    "if dataset=='Swat':\n",
    "    x = normal.values\n",
    "    x_scaled = min_max_scaler.fit_transform(x)\n",
    "    normal = pd.DataFrame(x_scaled)"
   ]
  },
  {
   "cell_type": "markdown",
   "metadata": {
    "id": "_i71RFAi9spa"
   },
   "source": [
    "### Attack"
   ]
  },
  {
   "cell_type": "code",
   "execution_count": 11,
   "metadata": {
    "colab": {
     "base_uri": "https://localhost:8080/",
     "height": 87
    },
    "id": "aN_TFp5x9uTE",
    "outputId": "38d7993d-c9a3-461d-c430-ebde697afbc6",
    "scrolled": true
   },
   "outputs": [],
   "source": [
    "#Read data\n",
    "# attack = pd.read_csv(\"input/SWaT_Dataset_Attack_v0.csv\",sep=\",\")#, nrows=1000)\n",
    "attack = pd.read_csv(testdata,sep=\",\")#, nrows=1000)\n",
    "\n",
    "# Create test labels\n",
    "\n",
    "if dataset=='Swat':\n",
    "    # For swat dataset\n",
    "    labels = [ float(label!= 'Normal' ) for label  in attack[label_col].values]\n",
    "\n",
    "#For others credit card, SMAP, MSL,\n",
    "else:\n",
    "    labels = [ float(label!= 0 ) for label  in attack[label_col].values]\n",
    "\n"
   ]
  },
  {
   "cell_type": "code",
   "execution_count": 12,
   "metadata": {
    "scrolled": true
   },
   "outputs": [],
   "source": [
    "#Drop the time and label column from the train data\n",
    "\n",
    "attack = attack.drop([time_col , label_col] , axis = 1)\n",
    "# attack = attack.drop([label_col] , axis = 1)\n",
    "\n"
   ]
  },
  {
   "cell_type": "code",
   "execution_count": 13,
   "metadata": {},
   "outputs": [
    {
     "data": {
      "text/plain": [
       "12.20910848836434"
      ]
     },
     "execution_count": 13,
     "metadata": {},
     "output_type": "execute_result"
    }
   ],
   "source": [
    "#Calculate test data anomaly percentage\n",
    "anormaly_percentage=labels.count(1)/attack.shape[0]*100\n",
    "anormaly_percentage"
   ]
  },
  {
   "cell_type": "code",
   "execution_count": 14,
   "metadata": {
    "id": "qLCInT-I9_-D",
    "scrolled": true
   },
   "outputs": [],
   "source": [
    "# Transform all columns into float64\n",
    "for i in list(attack):\n",
    "    attack[i]=attack[i].apply(lambda x: str(x).replace(\",\" , \".\"))\n",
    "attack = attack.astype(float)"
   ]
  },
  {
   "cell_type": "markdown",
   "metadata": {
    "id": "c4cB4v3N-Dhu"
   },
   "source": [
    "#### Normalization for test data which has not done scaling"
   ]
  },
  {
   "cell_type": "code",
   "execution_count": 15,
   "metadata": {
    "id": "jZrha9cO-BGK",
    "scrolled": true
   },
   "outputs": [],
   "source": [
    "from sklearn import preprocessing\n",
    "\n",
    "if dataset=='Swat':\n",
    "    x = attack.values \n",
    "    x_scaled = min_max_scaler.transform(x)\n",
    "    attack = pd.DataFrame(x_scaled)"
   ]
  },
  {
   "cell_type": "markdown",
   "metadata": {
    "id": "xXJi503b-j_d"
   },
   "source": [
    "### Windows"
   ]
  },
  {
   "cell_type": "code",
   "execution_count": 16,
   "metadata": {
    "id": "vyplttZa-BRN",
    "scrolled": true
   },
   "outputs": [],
   "source": [
    "window_size=1     #5 ,10 ,30,60"
   ]
  },
  {
   "cell_type": "code",
   "execution_count": 17,
   "metadata": {
    "colab": {
     "base_uri": "https://localhost:8080/",
     "height": 34
    },
    "id": "dzGJMp6Y-BN5",
    "outputId": "2949d278-1313-442c-f06b-275a8c6c6578",
    "scrolled": true
   },
   "outputs": [
    {
     "data": {
      "text/plain": [
       "(47519, 1, 51)"
      ]
     },
     "execution_count": 17,
     "metadata": {},
     "output_type": "execute_result"
    }
   ],
   "source": [
    "windows_normal=normal.values[np.arange(window_size)[None, :] + np.arange(normal.shape[0]-window_size)[:, None]]\n",
    "windows_normal.shape"
   ]
  },
  {
   "cell_type": "code",
   "execution_count": 18,
   "metadata": {
    "colab": {
     "base_uri": "https://localhost:8080/",
     "height": 34
    },
    "id": "17LdB3c8-pRH",
    "outputId": "721059d4-5937-4dd3-d73c-e5d255fc273c",
    "scrolled": true
   },
   "outputs": [
    {
     "data": {
      "text/plain": [
       "(44990, 1, 51)"
      ]
     },
     "execution_count": 18,
     "metadata": {},
     "output_type": "execute_result"
    }
   ],
   "source": [
    "windows_attack=attack.values[np.arange(window_size)[None, :] + np.arange(attack.shape[0]-window_size)[:, None]]\n",
    "windows_attack.shape"
   ]
  },
  {
   "cell_type": "markdown",
   "metadata": {
    "id": "k70ZFxGs-_7m"
   },
   "source": [
    "## Training"
   ]
  },
  {
   "cell_type": "code",
   "execution_count": 19,
   "metadata": {
    "id": "yi9S0SGnDKNc",
    "scrolled": true
   },
   "outputs": [],
   "source": [
    "import torch.utils.data as data_utils\n",
    "\n",
    "BATCH_SIZE =  1000 #1000\n",
    "N_EPOCHS = 100\n",
    "hidden_size = 5 # 10,30,50 \n",
    "\n",
    "w_size=windows_normal.shape[1]*windows_normal.shape[2]\n",
    "z_size= windows_normal.shape[1]*hidden_size\n",
    "\n",
    "windows_normal_train = windows_normal[:int(np.floor(.8 *  windows_normal.shape[0]))]\n",
    "windows_normal_val = windows_normal[int(np.floor(.8 *  windows_normal.shape[0])):int(np.floor(windows_normal.shape[0]))]\n",
    "\n",
    "train_loader = torch.utils.data.DataLoader(data_utils.TensorDataset(\n",
    "    torch.from_numpy(windows_normal_train).float().view(([windows_normal_train.shape[0],w_size]))\n",
    ") , batch_size=BATCH_SIZE, shuffle=False, num_workers=0)\n",
    "\n",
    "val_loader = torch.utils.data.DataLoader(data_utils.TensorDataset(\n",
    "    torch.from_numpy(windows_normal_val).float().view(([windows_normal_val.shape[0],w_size]))\n",
    ") , batch_size=BATCH_SIZE, shuffle=False, num_workers=0)\n",
    "\n",
    "test_loader = torch.utils.data.DataLoader(data_utils.TensorDataset(\n",
    "    torch.from_numpy(windows_attack).float().view(([windows_attack.shape[0],w_size]))\n",
    ") , batch_size=BATCH_SIZE, shuffle=False, num_workers=0)\n",
    "\n",
    "model = UsadModel(w_size, z_size)\n",
    "model = to_device(model,device)"
   ]
  },
  {
   "cell_type": "code",
   "execution_count": 20,
   "metadata": {
    "scrolled": true
   },
   "outputs": [
    {
     "data": {
      "text/plain": [
       "(51, 5)"
      ]
     },
     "execution_count": 20,
     "metadata": {},
     "output_type": "execute_result"
    }
   ],
   "source": [
    "w_size, z_size"
   ]
  },
  {
   "cell_type": "code",
   "execution_count": 21,
   "metadata": {
    "colab": {
     "base_uri": "https://localhost:8080/",
     "height": 1000
    },
    "id": "So9yjDPEDObC",
    "outputId": "629bcd13-37b1-4907-ef0d-46d9e3ad5398",
    "scrolled": true
   },
   "outputs": [
    {
     "name": "stdout",
     "output_type": "stream",
     "text": [
      "Epoch [0], val_loss1: 0.1530, val_loss2: 0.1455\n",
      "Epoch [1], val_loss1: 0.0399, val_loss2: -0.0009\n",
      "Epoch [2], val_loss1: 0.0306, val_loss2: -0.0110\n",
      "Epoch [3], val_loss1: 0.0302, val_loss2: -0.0158\n",
      "Epoch [4], val_loss1: 0.0299, val_loss2: -0.0186\n",
      "Epoch [5], val_loss1: 0.0297, val_loss2: -0.0204\n",
      "Epoch [6], val_loss1: 0.0297, val_loss2: -0.0217\n",
      "Epoch [7], val_loss1: 0.0297, val_loss2: -0.0227\n",
      "Epoch [8], val_loss1: 0.0297, val_loss2: -0.0235\n",
      "Epoch [9], val_loss1: 0.0297, val_loss2: -0.0242\n",
      "Epoch [10], val_loss1: 0.0297, val_loss2: -0.0247\n",
      "Epoch [11], val_loss1: 0.0303, val_loss2: -0.0257\n",
      "Epoch [12], val_loss1: 0.0300, val_loss2: -0.0257\n",
      "Epoch [13], val_loss1: 0.0298, val_loss2: -0.0259\n",
      "Epoch [14], val_loss1: 0.0299, val_loss2: -0.0262\n",
      "Epoch [15], val_loss1: 0.0299, val_loss2: -0.0264\n",
      "Epoch [16], val_loss1: 0.0299, val_loss2: -0.0267\n",
      "Epoch [17], val_loss1: 0.0299, val_loss2: -0.0268\n",
      "Epoch [18], val_loss1: 0.0299, val_loss2: -0.0270\n",
      "Epoch [19], val_loss1: 0.0299, val_loss2: -0.0272\n",
      "Epoch [20], val_loss1: 0.0299, val_loss2: -0.0273\n",
      "Epoch [21], val_loss1: 0.0299, val_loss2: -0.0274\n",
      "Epoch [22], val_loss1: 0.0299, val_loss2: -0.0275\n",
      "Epoch [23], val_loss1: 0.0299, val_loss2: -0.0276\n",
      "Epoch [24], val_loss1: 0.0299, val_loss2: -0.0277\n",
      "Epoch [25], val_loss1: 0.0299, val_loss2: -0.0278\n",
      "Epoch [26], val_loss1: 0.0299, val_loss2: -0.0279\n",
      "Epoch [27], val_loss1: 0.0299, val_loss2: -0.0279\n",
      "Epoch [28], val_loss1: 0.0299, val_loss2: -0.0280\n",
      "Epoch [29], val_loss1: 0.0299, val_loss2: -0.0281\n",
      "Epoch [30], val_loss1: 0.0299, val_loss2: -0.0281\n",
      "Epoch [31], val_loss1: 0.0299, val_loss2: -0.0282\n",
      "Epoch [32], val_loss1: 0.0299, val_loss2: -0.0283\n",
      "Epoch [33], val_loss1: 0.0299, val_loss2: -0.0283\n",
      "Epoch [34], val_loss1: 0.0299, val_loss2: -0.0284\n",
      "Epoch [35], val_loss1: 0.0299, val_loss2: -0.0284\n",
      "Epoch [36], val_loss1: 0.0300, val_loss2: -0.0285\n",
      "Epoch [37], val_loss1: 0.0300, val_loss2: -0.0285\n",
      "Epoch [38], val_loss1: 0.0300, val_loss2: -0.0286\n",
      "Epoch [39], val_loss1: 0.0300, val_loss2: -0.0287\n",
      "Epoch [40], val_loss1: 0.0300, val_loss2: -0.0287\n",
      "Epoch [41], val_loss1: 0.0300, val_loss2: -0.0287\n",
      "Epoch [42], val_loss1: 0.0301, val_loss2: -0.0288\n",
      "Epoch [43], val_loss1: 0.0300, val_loss2: -0.0288\n",
      "Epoch [44], val_loss1: 0.0301, val_loss2: -0.0289\n",
      "Epoch [45], val_loss1: 0.0301, val_loss2: -0.0289\n",
      "Epoch [46], val_loss1: 0.0301, val_loss2: -0.0290\n",
      "Epoch [47], val_loss1: 0.0301, val_loss2: -0.0290\n",
      "Epoch [48], val_loss1: 0.0302, val_loss2: -0.0291\n",
      "Epoch [49], val_loss1: 0.0302, val_loss2: -0.0291\n",
      "Epoch [50], val_loss1: 0.0302, val_loss2: -0.0291\n",
      "Epoch [51], val_loss1: 0.0302, val_loss2: -0.0291\n",
      "Epoch [52], val_loss1: 0.0302, val_loss2: -0.0292\n",
      "Epoch [53], val_loss1: 0.0302, val_loss2: -0.0292\n",
      "Epoch [54], val_loss1: 0.0302, val_loss2: -0.0293\n",
      "Epoch [55], val_loss1: 0.0303, val_loss2: -0.0293\n",
      "Epoch [56], val_loss1: 0.0302, val_loss2: -0.0293\n",
      "Epoch [57], val_loss1: 0.0302, val_loss2: -0.0293\n",
      "Epoch [58], val_loss1: 0.0303, val_loss2: -0.0294\n",
      "Epoch [59], val_loss1: 0.0303, val_loss2: -0.0294\n",
      "Epoch [60], val_loss1: 0.0303, val_loss2: -0.0294\n",
      "Epoch [61], val_loss1: 0.0303, val_loss2: -0.0294\n",
      "Epoch [62], val_loss1: 0.0303, val_loss2: -0.0295\n",
      "Epoch [63], val_loss1: 0.0304, val_loss2: -0.0296\n",
      "Epoch [64], val_loss1: 0.0303, val_loss2: -0.0295\n",
      "Epoch [65], val_loss1: 0.0303, val_loss2: -0.0295\n",
      "Epoch [66], val_loss1: 0.0303, val_loss2: -0.0295\n",
      "Epoch [67], val_loss1: 0.0302, val_loss2: -0.0294\n",
      "Epoch [68], val_loss1: 0.0303, val_loss2: -0.0295\n",
      "Epoch [69], val_loss1: 0.0310, val_loss2: -0.0302\n",
      "Epoch [70], val_loss1: 0.0320, val_loss2: -0.0312\n",
      "Epoch [71], val_loss1: 0.0315, val_loss2: -0.0308\n",
      "Epoch [72], val_loss1: 0.0309, val_loss2: -0.0302\n",
      "Epoch [73], val_loss1: 0.0306, val_loss2: -0.0299\n",
      "Epoch [74], val_loss1: 0.0306, val_loss2: -0.0299\n",
      "Epoch [75], val_loss1: 0.0305, val_loss2: -0.0298\n",
      "Epoch [76], val_loss1: 0.0304, val_loss2: -0.0297\n",
      "Epoch [77], val_loss1: 0.0304, val_loss2: -0.0297\n",
      "Epoch [78], val_loss1: 0.0305, val_loss2: -0.0298\n",
      "Epoch [79], val_loss1: 0.0304, val_loss2: -0.0297\n",
      "Epoch [80], val_loss1: 0.0304, val_loss2: -0.0297\n",
      "Epoch [81], val_loss1: 0.0304, val_loss2: -0.0297\n",
      "Epoch [82], val_loss1: 0.0305, val_loss2: -0.0299\n",
      "Epoch [83], val_loss1: 0.0308, val_loss2: -0.0301\n",
      "Epoch [84], val_loss1: 0.0311, val_loss2: -0.0305\n",
      "Epoch [85], val_loss1: 0.0314, val_loss2: -0.0308\n",
      "Epoch [86], val_loss1: 0.0316, val_loss2: -0.0310\n",
      "Epoch [87], val_loss1: 0.0316, val_loss2: -0.0310\n",
      "Epoch [88], val_loss1: 0.0313, val_loss2: -0.0307\n",
      "Epoch [89], val_loss1: 0.0308, val_loss2: -0.0302\n",
      "Epoch [90], val_loss1: 0.0312, val_loss2: -0.0306\n",
      "Epoch [91], val_loss1: 0.0310, val_loss2: -0.0304\n",
      "Epoch [92], val_loss1: 0.0305, val_loss2: -0.0300\n",
      "Epoch [93], val_loss1: 0.0302, val_loss2: -0.0296\n",
      "Epoch [94], val_loss1: 0.0301, val_loss2: -0.0295\n",
      "Epoch [95], val_loss1: 0.0301, val_loss2: -0.0296\n",
      "Epoch [96], val_loss1: 0.0302, val_loss2: -0.0297\n",
      "Epoch [97], val_loss1: 0.0305, val_loss2: -0.0300\n",
      "Epoch [98], val_loss1: 0.0311, val_loss2: -0.0306\n",
      "Epoch [99], val_loss1: 0.0321, val_loss2: -0.0316\n"
     ]
    }
   ],
   "source": [
    "history = training(N_EPOCHS,model,train_loader,val_loader)"
   ]
  },
  {
   "cell_type": "code",
   "execution_count": 22,
   "metadata": {
    "colab": {
     "base_uri": "https://localhost:8080/",
     "height": 295
    },
    "id": "fYwlN0JKVVtN",
    "outputId": "c742ff8b-3b4a-41f5-dd09-effee1be928a",
    "scrolled": false
   },
   "outputs": [
    {
     "data": {
      "image/png": "[encoded data removed]",
      "text/plain": [
       "<Figure size 432x288 with 1 Axes>"
      ]
     },
     "metadata": {
      "needs_background": "light"
     },
     "output_type": "display_data"
    }
   ],
   "source": [
    "plot_history(history)"
   ]
  },
  {
   "cell_type": "code",
   "execution_count": 23,
   "metadata": {
    "id": "ieObNqKYsOzh",
    "scrolled": true
   },
   "outputs": [],
   "source": [
    "torch.save({\n",
    "            'encoder': model.encoder.state_dict(),\n",
    "            'decoder1': model.decoder1.state_dict(),\n",
    "            'decoder2': model.decoder2.state_dict()\n",
    "            }, \"model.pth\")"
   ]
  },
  {
   "cell_type": "code",
   "execution_count": 24,
   "metadata": {
    "scrolled": true
   },
   "outputs": [],
   "source": [
    "# model"
   ]
  },
  {
   "cell_type": "markdown",
   "metadata": {
    "id": "ymhjbmvR_DgJ"
   },
   "source": [
    "## Testing"
   ]
  },
  {
   "cell_type": "code",
   "execution_count": 25,
   "metadata": {
    "colab": {
     "base_uri": "https://localhost:8080/",
     "height": 34
    },
    "id": "b7rbm9wdXKeF",
    "outputId": "076309c7-22be-41f6-f916-5f11cb679672",
    "scrolled": true
   },
   "outputs": [
    {
     "data": {
      "text/plain": [
       "<All keys matched successfully>"
      ]
     },
     "execution_count": 25,
     "metadata": {},
     "output_type": "execute_result"
    }
   ],
   "source": [
    "checkpoint = torch.load(\"model.pth\")\n",
    "\n",
    "model.encoder.load_state_dict(checkpoint['encoder'])\n",
    "model.decoder1.load_state_dict(checkpoint['decoder1'])\n",
    "model.decoder2.load_state_dict(checkpoint['decoder2'])"
   ]
  },
  {
   "cell_type": "code",
   "execution_count": 26,
   "metadata": {
    "id": "Ry1QTp6V2ny4",
    "scrolled": true
   },
   "outputs": [],
   "source": [
    "#                       alpha, beta \n",
    "\n",
    "with torch.no_grad(): results=testing(model,test_loader,0.5,0.5)"
   ]
  },
  {
   "cell_type": "code",
   "execution_count": 27,
   "metadata": {
    "scrolled": true
   },
   "outputs": [
    {
     "data": {
      "text/plain": [
       "45"
      ]
     },
     "execution_count": 27,
     "metadata": {},
     "output_type": "execute_result"
    }
   ],
   "source": [
    "len(results)"
   ]
  },
  {
   "cell_type": "code",
   "execution_count": 28,
   "metadata": {
    "scrolled": true
   },
   "outputs": [],
   "source": [
    "windows_labels=[]\n",
    "for i in range(len(labels)-window_size):\n",
    "    windows_labels.append(list(np.int_(labels[i:i+window_size])))"
   ]
  },
  {
   "cell_type": "code",
   "execution_count": 29,
   "metadata": {
    "scrolled": true
   },
   "outputs": [],
   "source": [
    "y_test = [1.0 if (np.sum(window) > 0) else 0 for window in windows_labels ]"
   ]
  },
  {
   "cell_type": "code",
   "execution_count": 30,
   "metadata": {},
   "outputs": [
    {
     "name": "stdout",
     "output_type": "stream",
     "text": [
      "Number of windows :44990\n",
      "Number of windows (abnormal) :5493\n",
      "Number of windows (normal) :39497\n",
      "Abnormal windows (%) :12.209\n"
     ]
    }
   ],
   "source": [
    "num_windows=len(y_test)\n",
    "num_anormal_windows=y_test.count(1)\n",
    "win_anormal_percentage=num_anormal_windows/num_windows*100\n",
    "\n",
    "print('Number of windows :'+ str(len(y_test)))\n",
    "print('Number of windows (abnormal) :'+ str(y_test.count(1)))\n",
    "print('Number of windows (normal) :'+ str(y_test.count(0)))\n",
    "print('Abnormal windows (%) :'+ str(round(win_anormal_percentage,3)))\n"
   ]
  },
  {
   "cell_type": "code",
   "execution_count": 31,
   "metadata": {
    "id": "FSWwxheNvxR7",
    "scrolled": true
   },
   "outputs": [],
   "source": [
    "y_pred=np.concatenate([torch.stack(results[:-1]).flatten().detach().cpu().numpy(),\n",
    "                              results[-1].flatten().detach().cpu().numpy()])"
   ]
  },
  {
   "cell_type": "code",
   "execution_count": 32,
   "metadata": {
    "scrolled": true
   },
   "outputs": [
    {
     "data": {
      "text/plain": [
       "(44990, 44990)"
      ]
     },
     "execution_count": 32,
     "metadata": {},
     "output_type": "execute_result"
    }
   ],
   "source": [
    "len(y_test), len(y_pred)"
   ]
  },
  {
   "cell_type": "code",
   "execution_count": 33,
   "metadata": {
    "colab": {
     "base_uri": "https://localhost:8080/",
     "height": 279
    },
    "id": "bROUyLM93cG3",
    "outputId": "755359d9-d0fb-4deb-b313-d3c2a2465a26",
    "scrolled": true
   },
   "outputs": [
    {
     "data": {
      "image/png": "[encoded data removed]",
      "text/plain": [
       "<Figure size 432x288 with 1 Axes>"
      ]
     },
     "metadata": {
      "needs_background": "light"
     },
     "output_type": "display_data"
    }
   ],
   "source": [
    "threshold=ROC(y_test,y_pred)\n",
    "\n"
   ]
  },
  {
   "cell_type": "code",
   "execution_count": 34,
   "metadata": {
    "scrolled": true
   },
   "outputs": [
    {
     "name": "stdout",
     "output_type": "stream",
     "text": [
      "Threshold :  [0.21232551]\n"
     ]
    }
   ],
   "source": [
    "print('Threshold : ', threshold)"
   ]
  },
  {
   "cell_type": "markdown",
   "metadata": {},
   "source": [
    "### Anomaly score threshold\n",
    "####  Threshold adjustment to fine tune on the prediction of the anomalies"
   ]
  },
  {
   "cell_type": "code",
   "execution_count": 35,
   "metadata": {},
   "outputs": [],
   "source": [
    "# threshold= [0.033]\n",
    "threshold= [0.305] #Optimal threshold for swat(us)\n",
    "# threshold= [10] #Threshold for Swat for good F1 "
   ]
  },
  {
   "cell_type": "code",
   "execution_count": 36,
   "metadata": {
    "scrolled": true
   },
   "outputs": [],
   "source": [
    "y_pred_ = np.zeros(y_pred.shape[0])\n",
    "y_pred_[y_pred >= threshold] = 1"
   ]
  },
  {
   "cell_type": "code",
   "execution_count": 38,
   "metadata": {
    "scrolled": true
   },
   "outputs": [
    {
     "data": {
      "text/plain": [
       "array([0., 0., 0., ..., 0., 0., 0.])"
      ]
     },
     "execution_count": 38,
     "metadata": {},
     "output_type": "execute_result"
    }
   ],
   "source": [
    "np.array(y_test)"
   ]
  },
  {
   "cell_type": "code",
   "execution_count": 39,
   "metadata": {
    "scrolled": false
   },
   "outputs": [
    {
     "data": {
      "image/png": "[encoded data removed]",
      "text/plain": [
       "<Figure size 432x288 with 2 Axes>"
      ]
     },
     "metadata": {
      "needs_background": "light"
     },
     "output_type": "display_data"
    }
   ],
   "source": [
    "confusion_matrix(np.array(y_test), y_pred_)"
   ]
  },
  {
   "cell_type": "code",
   "execution_count": 40,
   "metadata": {
    "scrolled": false
   },
   "outputs": [
    {
     "name": "stdout",
     "output_type": "stream",
     "text": [
      "              precision    recall  f1-score   support\n",
      "\n",
      "         0.0       0.95      1.00      0.97     39497\n",
      "         1.0       0.97      0.59      0.73      5493\n",
      "\n",
      "    accuracy                           0.95     44990\n",
      "   macro avg       0.96      0.80      0.85     44990\n",
      "weighted avg       0.95      0.95      0.94     44990\n",
      "\n"
     ]
    }
   ],
   "source": [
    "print(sklearn.metrics.classification_report(y_test, y_pred_))"
   ]
  },
  {
   "cell_type": "markdown",
   "metadata": {},
   "source": [
    "### Plot the test labels and predicted results"
   ]
  },
  {
   "cell_type": "code",
   "execution_count": 41,
   "metadata": {
    "scrolled": false
   },
   "outputs": [
    {
     "data": {
      "image/png": "[encoded data removed]",
      "text/plain": [
       "<Figure size 1152x504 with 2 Axes>"
      ]
     },
     "metadata": {
      "needs_background": "light"
     },
     "output_type": "display_data"
    }
   ],
   "source": [
    "x=list(range(len(y_test)))\n",
    "\n",
    "fig, (ax1, ax2) = plt.subplots(2, figsize=(16,7))\n",
    "\n",
    "fig.suptitle('Test labels and predicted results')\n",
    "ax1.plot(x, y_test, 'b')\n",
    "ax2.plot(x, y_pred_, color='orange')\n",
    "ax1.set_title('Actual Labels')\n",
    "ax2.set_title('Prediction')\n",
    "\n",
    "fig.savefig(\"fig1.png\") "
   ]
  },
  {
   "cell_type": "markdown",
   "metadata": {},
   "source": [
    "### Plot the anomaly score"
   ]
  },
  {
   "cell_type": "code",
   "execution_count": 43,
   "metadata": {},
   "outputs": [
    {
     "data": {
      "image/png": "[encoded data removed]",
      "text/plain": [
       "<Figure size 1440x240 with 1 Axes>"
      ]
     },
     "metadata": {
      "needs_background": "light"
     },
     "output_type": "display_data"
    },
    {
     "data": {
      "text/plain": [
       "<Figure size 432x288 with 0 Axes>"
      ]
     },
     "metadata": {},
     "output_type": "display_data"
    }
   ],
   "source": [
    "plt.figure(figsize=(18, 3), dpi=80)\n",
    "plt.plot(x, y_pred)\n",
    "plt.show()\n",
    "plt.savefig(\"2.png\") "
   ]
  },
  {
   "cell_type": "code",
   "execution_count": 42,
   "metadata": {
    "scrolled": true
   },
   "outputs": [],
   "source": [
    "report = sklearn.metrics.classification_report(y_test, y_pred_, output_dict=True)\n",
    "precision =  report['1.0']['precision'] \n",
    "recall = report['1.0']['recall']    \n",
    "f1 = report['1.0']['f1-score']"
   ]
  },
  {
   "cell_type": "code",
   "execution_count": 64,
   "metadata": {},
   "outputs": [],
   "source": [
    "#Path to save the performance metric result\n",
    "\n",
    "\n",
    "path=os.path.join(os.getcwd(),'result_final')\n",
    "\n",
    "# file_path = os.sep.join([path, 'result_'+dataset+'.json'])\n",
    "file_path = os.sep.join([path, 'result_'+'swat'+'.json'])\n",
    "\n",
    "\n",
    "\n",
    "\n"
   ]
  },
  {
   "cell_type": "code",
   "execution_count": 65,
   "metadata": {
    "scrolled": true
   },
   "outputs": [],
   "source": [
    "# y = {'datetime': datetime.now().strftime(\"%d-%b-%Y, %H:%M:%S\"), 'F1_score': round(f1,2), 'Precision': round(precision,2), 'Recall': round(recall,2), 'Remarks': remarks }\n",
    "\n",
    "\n",
    "\n",
    "y = {'datetime': datetime.now().strftime(\"%d-%b-%Y, %H:%M:%S\"),\n",
    "     'F1_score': round(f1,2),\n",
    "     'Precision': round(precision,2),\n",
    "     'Recall': round(recall,2),\n",
    "     'Epoch': N_EPOCHS,\n",
    "     'Batch Size': BATCH_SIZE ,\n",
    "     'Win Size': window_size,\n",
    "     'Hidden_size': hidden_size ,\n",
    "     'Threshold': str(threshold[0]),\n",
    "     'Win_anomaly(%)': str(round(win_anormal_percentage,3)),\n",
    "\n",
    "    }\n",
    "\n",
    "if os.path.isfile(file_path): #if an existing file exist in file_path \n",
    "    with open(file_path, 'r+') as f:\n",
    "        file_data = json.load(f)\n",
    "        \n",
    "        if dataset in file_data.keys():\n",
    "            file_data[dataset].append(y)\n",
    "            f.seek(0)\n",
    "        else:\n",
    "            file_data[dataset] = [y]\n",
    "            f.seek(0)\n",
    "            \n",
    "        json.dump(file_data, f, indent=10)\n",
    "else:\n",
    "    with open(file_path, 'w') as f:\n",
    "        file_data = {dataset: [y]}\n",
    "        json.dump(file_data, f, indent=10)    \n",
    "          "
   ]
  },
  {
   "cell_type": "code",
   "execution_count": 66,
   "metadata": {
    "scrolled": true
   },
   "outputs": [
    {
     "data": {
      "text/plain": [
       "'/workspace/result_final/result_swat.json'"
      ]
     },
     "execution_count": 66,
     "metadata": {},
     "output_type": "execute_result"
    }
   ],
   "source": [
    "# file_path = os.sep.join([os.getcwd(), 'result.json'])\n",
    "file_path"
   ]
  },
  {
   "cell_type": "code",
   "execution_count": 67,
   "metadata": {
    "scrolled": true
   },
   "outputs": [
    {
     "data": {
      "text/html": [
       "<div>\n",
       "<style scoped>\n",
       "    .dataframe tbody tr th:only-of-type {\n",
       "        vertical-align: middle;\n",
       "    }\n",
       "\n",
       "    .dataframe tbody tr th {\n",
       "        vertical-align: top;\n",
       "    }\n",
       "\n",
       "    .dataframe thead th {\n",
       "        text-align: right;\n",
       "    }\n",
       "</style>\n",
       "<table border=\"1\" class=\"dataframe\">\n",
       "  <thead>\n",
       "    <tr style=\"text-align: right;\">\n",
       "      <th></th>\n",
       "      <th>datetime</th>\n",
       "      <th>Dataset</th>\n",
       "      <th>F1_score</th>\n",
       "      <th>Precision</th>\n",
       "      <th>Recall</th>\n",
       "      <th>Epoch</th>\n",
       "      <th>Batch Size</th>\n",
       "      <th>Win Size</th>\n",
       "      <th>Hidden_size</th>\n",
       "      <th>Threshold</th>\n",
       "      <th>Win_anomaly(%)</th>\n",
       "    </tr>\n",
       "  </thead>\n",
       "  <tbody>\n",
       "    <tr>\n",
       "      <th>0</th>\n",
       "      <td>06-Nov-2022, 21:51:47</td>\n",
       "      <td>Swat</td>\n",
       "      <td>0.74</td>\n",
       "      <td>0.89</td>\n",
       "      <td>0.64</td>\n",
       "      <td>60</td>\n",
       "      <td>1000</td>\n",
       "      <td>2</td>\n",
       "      <td>1</td>\n",
       "      <td>10</td>\n",
       "      <td>12.148</td>\n",
       "    </tr>\n",
       "    <tr>\n",
       "      <th>1</th>\n",
       "      <td>06-Nov-2022, 22:06:06</td>\n",
       "      <td>Swat</td>\n",
       "      <td>0.74</td>\n",
       "      <td>0.89</td>\n",
       "      <td>0.64</td>\n",
       "      <td>60</td>\n",
       "      <td>1000</td>\n",
       "      <td>2</td>\n",
       "      <td>5</td>\n",
       "      <td>10</td>\n",
       "      <td>12.148</td>\n",
       "    </tr>\n",
       "    <tr>\n",
       "      <th>2</th>\n",
       "      <td>06-Nov-2022, 22:17:27</td>\n",
       "      <td>Swat</td>\n",
       "      <td>0.75</td>\n",
       "      <td>0.91</td>\n",
       "      <td>0.64</td>\n",
       "      <td>60</td>\n",
       "      <td>1000</td>\n",
       "      <td>2</td>\n",
       "      <td>10</td>\n",
       "      <td>10</td>\n",
       "      <td>12.148</td>\n",
       "    </tr>\n",
       "    <tr>\n",
       "      <th>3</th>\n",
       "      <td>06-Nov-2022, 22:29:09</td>\n",
       "      <td>Swat</td>\n",
       "      <td>0.74</td>\n",
       "      <td>0.89</td>\n",
       "      <td>0.64</td>\n",
       "      <td>60</td>\n",
       "      <td>1000</td>\n",
       "      <td>2</td>\n",
       "      <td>20</td>\n",
       "      <td>10</td>\n",
       "      <td>12.148</td>\n",
       "    </tr>\n",
       "    <tr>\n",
       "      <th>4</th>\n",
       "      <td>06-Nov-2022, 07:39:50</td>\n",
       "      <td>Swat</td>\n",
       "      <td>0.75</td>\n",
       "      <td>0.90</td>\n",
       "      <td>0.63</td>\n",
       "      <td>100</td>\n",
       "      <td>1000</td>\n",
       "      <td>20</td>\n",
       "      <td>30</td>\n",
       "      <td>10</td>\n",
       "      <td>12.289</td>\n",
       "    </tr>\n",
       "    <tr>\n",
       "      <th>5</th>\n",
       "      <td>06-Nov-2022, 08:00:28</td>\n",
       "      <td>Swat</td>\n",
       "      <td>0.75</td>\n",
       "      <td>0.90</td>\n",
       "      <td>0.63</td>\n",
       "      <td>100</td>\n",
       "      <td>1000</td>\n",
       "      <td>20</td>\n",
       "      <td>20</td>\n",
       "      <td>10</td>\n",
       "      <td>12.289</td>\n",
       "    </tr>\n",
       "    <tr>\n",
       "      <th>6</th>\n",
       "      <td>06-Nov-2022, 08:19:16</td>\n",
       "      <td>Swat</td>\n",
       "      <td>0.75</td>\n",
       "      <td>0.91</td>\n",
       "      <td>0.63</td>\n",
       "      <td>100</td>\n",
       "      <td>1000</td>\n",
       "      <td>20</td>\n",
       "      <td>10</td>\n",
       "      <td>10</td>\n",
       "      <td>12.289</td>\n",
       "    </tr>\n",
       "    <tr>\n",
       "      <th>7</th>\n",
       "      <td>06-Nov-2022, 11:18:28</td>\n",
       "      <td>Swat</td>\n",
       "      <td>0.74</td>\n",
       "      <td>0.90</td>\n",
       "      <td>0.63</td>\n",
       "      <td>100</td>\n",
       "      <td>1000</td>\n",
       "      <td>20</td>\n",
       "      <td>5</td>\n",
       "      <td>10</td>\n",
       "      <td>12.289</td>\n",
       "    </tr>\n",
       "    <tr>\n",
       "      <th>8</th>\n",
       "      <td>04-Nov-2022, 03:26:01</td>\n",
       "      <td>Swat</td>\n",
       "      <td>0.74</td>\n",
       "      <td>0.90</td>\n",
       "      <td>0.63</td>\n",
       "      <td>60</td>\n",
       "      <td>1000</td>\n",
       "      <td>20</td>\n",
       "      <td>20</td>\n",
       "      <td>10</td>\n",
       "      <td>12.289</td>\n",
       "    </tr>\n",
       "    <tr>\n",
       "      <th>9</th>\n",
       "      <td>04-Nov-2022, 03:39:29</td>\n",
       "      <td>Swat</td>\n",
       "      <td>0.75</td>\n",
       "      <td>0.90</td>\n",
       "      <td>0.64</td>\n",
       "      <td>60</td>\n",
       "      <td>1000</td>\n",
       "      <td>10</td>\n",
       "      <td>20</td>\n",
       "      <td>10</td>\n",
       "      <td>12.21</td>\n",
       "    </tr>\n",
       "    <tr>\n",
       "      <th>10</th>\n",
       "      <td>04-Nov-2022, 03:59:01</td>\n",
       "      <td>Swat</td>\n",
       "      <td>0.75</td>\n",
       "      <td>0.91</td>\n",
       "      <td>0.64</td>\n",
       "      <td>60</td>\n",
       "      <td>1000</td>\n",
       "      <td>5</td>\n",
       "      <td>20</td>\n",
       "      <td>10</td>\n",
       "      <td>12.171</td>\n",
       "    </tr>\n",
       "    <tr>\n",
       "      <th>11</th>\n",
       "      <td>04-Nov-2022, 05:17:26</td>\n",
       "      <td>Swat</td>\n",
       "      <td>0.75</td>\n",
       "      <td>0.90</td>\n",
       "      <td>0.64</td>\n",
       "      <td>60</td>\n",
       "      <td>1000</td>\n",
       "      <td>3</td>\n",
       "      <td>20</td>\n",
       "      <td>10</td>\n",
       "      <td>12.156</td>\n",
       "    </tr>\n",
       "    <tr>\n",
       "      <th>12</th>\n",
       "      <td>04-Nov-2022, 07:17:19</td>\n",
       "      <td>Swat</td>\n",
       "      <td>0.75</td>\n",
       "      <td>0.89</td>\n",
       "      <td>0.64</td>\n",
       "      <td>60</td>\n",
       "      <td>1000</td>\n",
       "      <td>1</td>\n",
       "      <td>20</td>\n",
       "      <td>10</td>\n",
       "      <td>12.14</td>\n",
       "    </tr>\n",
       "    <tr>\n",
       "      <th>13</th>\n",
       "      <td>04-Nov-2022, 12:00:46</td>\n",
       "      <td>Swat</td>\n",
       "      <td>0.75</td>\n",
       "      <td>0.91</td>\n",
       "      <td>0.64</td>\n",
       "      <td>60</td>\n",
       "      <td>1000</td>\n",
       "      <td>1</td>\n",
       "      <td>10</td>\n",
       "      <td>10.5</td>\n",
       "      <td>12.14</td>\n",
       "    </tr>\n",
       "    <tr>\n",
       "      <th>14</th>\n",
       "      <td>04-Nov-2022, 12:13:47</td>\n",
       "      <td>Swat</td>\n",
       "      <td>0.75</td>\n",
       "      <td>0.92</td>\n",
       "      <td>0.64</td>\n",
       "      <td>60</td>\n",
       "      <td>1000</td>\n",
       "      <td>1</td>\n",
       "      <td>5</td>\n",
       "      <td>10.5</td>\n",
       "      <td>12.14</td>\n",
       "    </tr>\n",
       "    <tr>\n",
       "      <th>15</th>\n",
       "      <td>06-Nov-2022, 07:01:49</td>\n",
       "      <td>Swat</td>\n",
       "      <td>0.75</td>\n",
       "      <td>0.92</td>\n",
       "      <td>0.63</td>\n",
       "      <td>100</td>\n",
       "      <td>1000</td>\n",
       "      <td>20</td>\n",
       "      <td>30</td>\n",
       "      <td>10.5</td>\n",
       "      <td>12.289</td>\n",
       "    </tr>\n",
       "    <tr>\n",
       "      <th>16</th>\n",
       "      <td>06-Nov-2022, 07:06:06</td>\n",
       "      <td>Swat</td>\n",
       "      <td>0.74</td>\n",
       "      <td>0.90</td>\n",
       "      <td>0.63</td>\n",
       "      <td>100</td>\n",
       "      <td>1000</td>\n",
       "      <td>20</td>\n",
       "      <td>30</td>\n",
       "      <td>10</td>\n",
       "      <td>12.289</td>\n",
       "    </tr>\n",
       "    <tr>\n",
       "      <th>17</th>\n",
       "      <td>06-Nov-2022, 20:55:55</td>\n",
       "      <td>Swat</td>\n",
       "      <td>0.75</td>\n",
       "      <td>0.90</td>\n",
       "      <td>0.63</td>\n",
       "      <td>100</td>\n",
       "      <td>1000</td>\n",
       "      <td>20</td>\n",
       "      <td>3</td>\n",
       "      <td>10</td>\n",
       "      <td>12.289</td>\n",
       "    </tr>\n",
       "    <tr>\n",
       "      <th>18</th>\n",
       "      <td>06-Nov-2022, 21:14:19</td>\n",
       "      <td>Swat</td>\n",
       "      <td>0.75</td>\n",
       "      <td>0.91</td>\n",
       "      <td>0.63</td>\n",
       "      <td>100</td>\n",
       "      <td>1000</td>\n",
       "      <td>20</td>\n",
       "      <td>1</td>\n",
       "      <td>10</td>\n",
       "      <td>12.289</td>\n",
       "    </tr>\n",
       "    <tr>\n",
       "      <th>19</th>\n",
       "      <td>06-Nov-2022, 21:35:56</td>\n",
       "      <td>Swat</td>\n",
       "      <td>0.75</td>\n",
       "      <td>0.90</td>\n",
       "      <td>0.64</td>\n",
       "      <td>80</td>\n",
       "      <td>1000</td>\n",
       "      <td>5</td>\n",
       "      <td>1</td>\n",
       "      <td>10</td>\n",
       "      <td>12.171</td>\n",
       "    </tr>\n",
       "    <tr>\n",
       "      <th>20</th>\n",
       "      <td>04-Nov-2022, 12:51:37</td>\n",
       "      <td>Swat(us)</td>\n",
       "      <td>0.73</td>\n",
       "      <td>0.93</td>\n",
       "      <td>0.60</td>\n",
       "      <td>60</td>\n",
       "      <td>1000</td>\n",
       "      <td>1</td>\n",
       "      <td>5</td>\n",
       "      <td>0.3</td>\n",
       "      <td>12.209</td>\n",
       "    </tr>\n",
       "    <tr>\n",
       "      <th>21</th>\n",
       "      <td>04-Nov-2022, 13:07:09</td>\n",
       "      <td>Swat(us)</td>\n",
       "      <td>0.71</td>\n",
       "      <td>0.88</td>\n",
       "      <td>0.60</td>\n",
       "      <td>60</td>\n",
       "      <td>1000</td>\n",
       "      <td>1</td>\n",
       "      <td>10</td>\n",
       "      <td>0.305</td>\n",
       "      <td>12.209</td>\n",
       "    </tr>\n",
       "    <tr>\n",
       "      <th>22</th>\n",
       "      <td>04-Nov-2022, 13:21:00</td>\n",
       "      <td>Swat(us)</td>\n",
       "      <td>0.72</td>\n",
       "      <td>0.91</td>\n",
       "      <td>0.60</td>\n",
       "      <td>60</td>\n",
       "      <td>1000</td>\n",
       "      <td>1</td>\n",
       "      <td>20</td>\n",
       "      <td>0.305</td>\n",
       "      <td>12.209</td>\n",
       "    </tr>\n",
       "    <tr>\n",
       "      <th>23</th>\n",
       "      <td>07-Nov-2022, 03:30:09</td>\n",
       "      <td>Swat(us)</td>\n",
       "      <td>0.73</td>\n",
       "      <td>0.98</td>\n",
       "      <td>0.59</td>\n",
       "      <td>60</td>\n",
       "      <td>1000</td>\n",
       "      <td>3</td>\n",
       "      <td>5</td>\n",
       "      <td>0.305</td>\n",
       "      <td>12.366</td>\n",
       "    </tr>\n",
       "    <tr>\n",
       "      <th>24</th>\n",
       "      <td>07-Nov-2022, 03:34:58</td>\n",
       "      <td>Swat(us)</td>\n",
       "      <td>0.73</td>\n",
       "      <td>0.97</td>\n",
       "      <td>0.59</td>\n",
       "      <td>60</td>\n",
       "      <td>1000</td>\n",
       "      <td>3</td>\n",
       "      <td>10</td>\n",
       "      <td>0.305</td>\n",
       "      <td>12.366</td>\n",
       "    </tr>\n",
       "    <tr>\n",
       "      <th>25</th>\n",
       "      <td>07-Nov-2022, 03:41:44</td>\n",
       "      <td>Swat(us)</td>\n",
       "      <td>0.73</td>\n",
       "      <td>0.98</td>\n",
       "      <td>0.59</td>\n",
       "      <td>60</td>\n",
       "      <td>1000</td>\n",
       "      <td>3</td>\n",
       "      <td>20</td>\n",
       "      <td>0.305</td>\n",
       "      <td>12.366</td>\n",
       "    </tr>\n",
       "  </tbody>\n",
       "</table>\n",
       "</div>"
      ],
      "text/plain": [
       "                 datetime   Dataset  F1_score  Precision  Recall  Epoch  \\\n",
       "0   06-Nov-2022, 21:51:47      Swat      0.74       0.89    0.64     60   \n",
       "1   06-Nov-2022, 22:06:06      Swat      0.74       0.89    0.64     60   \n",
       "2   06-Nov-2022, 22:17:27      Swat      0.75       0.91    0.64     60   \n",
       "3   06-Nov-2022, 22:29:09      Swat      0.74       0.89    0.64     60   \n",
       "4   06-Nov-2022, 07:39:50      Swat      0.75       0.90    0.63    100   \n",
       "5   06-Nov-2022, 08:00:28      Swat      0.75       0.90    0.63    100   \n",
       "6   06-Nov-2022, 08:19:16      Swat      0.75       0.91    0.63    100   \n",
       "7   06-Nov-2022, 11:18:28      Swat      0.74       0.90    0.63    100   \n",
       "8   04-Nov-2022, 03:26:01      Swat      0.74       0.90    0.63     60   \n",
       "9   04-Nov-2022, 03:39:29      Swat      0.75       0.90    0.64     60   \n",
       "10  04-Nov-2022, 03:59:01      Swat      0.75       0.91    0.64     60   \n",
       "11  04-Nov-2022, 05:17:26      Swat      0.75       0.90    0.64     60   \n",
       "12  04-Nov-2022, 07:17:19      Swat      0.75       0.89    0.64     60   \n",
       "13  04-Nov-2022, 12:00:46      Swat      0.75       0.91    0.64     60   \n",
       "14  04-Nov-2022, 12:13:47      Swat      0.75       0.92    0.64     60   \n",
       "15  06-Nov-2022, 07:01:49      Swat      0.75       0.92    0.63    100   \n",
       "16  06-Nov-2022, 07:06:06      Swat      0.74       0.90    0.63    100   \n",
       "17  06-Nov-2022, 20:55:55      Swat      0.75       0.90    0.63    100   \n",
       "18  06-Nov-2022, 21:14:19      Swat      0.75       0.91    0.63    100   \n",
       "19  06-Nov-2022, 21:35:56      Swat      0.75       0.90    0.64     80   \n",
       "20  04-Nov-2022, 12:51:37  Swat(us)      0.73       0.93    0.60     60   \n",
       "21  04-Nov-2022, 13:07:09  Swat(us)      0.71       0.88    0.60     60   \n",
       "22  04-Nov-2022, 13:21:00  Swat(us)      0.72       0.91    0.60     60   \n",
       "23  07-Nov-2022, 03:30:09  Swat(us)      0.73       0.98    0.59     60   \n",
       "24  07-Nov-2022, 03:34:58  Swat(us)      0.73       0.97    0.59     60   \n",
       "25  07-Nov-2022, 03:41:44  Swat(us)      0.73       0.98    0.59     60   \n",
       "\n",
       "    Batch Size  Win Size  Hidden_size Threshold Win_anomaly(%)  \n",
       "0         1000         2            1        10         12.148  \n",
       "1         1000         2            5        10         12.148  \n",
       "2         1000         2           10        10         12.148  \n",
       "3         1000         2           20        10         12.148  \n",
       "4         1000        20           30        10         12.289  \n",
       "5         1000        20           20        10         12.289  \n",
       "6         1000        20           10        10         12.289  \n",
       "7         1000        20            5        10         12.289  \n",
       "8         1000        20           20        10         12.289  \n",
       "9         1000        10           20        10          12.21  \n",
       "10        1000         5           20        10         12.171  \n",
       "11        1000         3           20        10         12.156  \n",
       "12        1000         1           20        10          12.14  \n",
       "13        1000         1           10      10.5          12.14  \n",
       "14        1000         1            5      10.5          12.14  \n",
       "15        1000        20           30      10.5         12.289  \n",
       "16        1000        20           30        10         12.289  \n",
       "17        1000        20            3        10         12.289  \n",
       "18        1000        20            1        10         12.289  \n",
       "19        1000         5            1        10         12.171  \n",
       "20        1000         1            5       0.3         12.209  \n",
       "21        1000         1           10     0.305         12.209  \n",
       "22        1000         1           20     0.305         12.209  \n",
       "23        1000         3            5     0.305         12.366  \n",
       "24        1000         3           10     0.305         12.366  \n",
       "25        1000         3           20     0.305         12.366  "
      ]
     },
     "execution_count": 67,
     "metadata": {},
     "output_type": "execute_result"
    }
   ],
   "source": [
    "with open(file_path, 'r') as f:\n",
    "    data = json.load(f)\n",
    "\n",
    "temp = []\n",
    "for k in data.keys():\n",
    "    df = pd.json_normalize(data[k])\n",
    "    df.insert(1, 'Dataset', k)\n",
    "    temp.append(df)\n",
    "\n",
    "df1 = pd.concat(temp, axis=0).reset_index(drop=True)\n",
    "df1"
   ]
  }
 ],
 "metadata": {
  "accelerator": "GPU",
  "colab": {
   "name": "USAD_test.ipynb",
   "provenance": [],
   "toc_visible": true
  },
  "kernelspec": {
   "display_name": "Python 3 (ipykernel)",
   "language": "python",
   "name": "python3"
  },
  "language_info": {
   "codemirror_mode": {
    "name": "ipython",
    "version": 3
   },
   "file_extension": ".py",
   "mimetype": "text/x-python",
   "name": "python",
   "nbconvert_exporter": "python",
   "pygments_lexer": "ipython3",
   "version": "3.8.13"
  }
 },
 "nbformat": 4,
 "nbformat_minor": 4
}
